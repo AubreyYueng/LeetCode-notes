{
  "nbformat": 4,
  "nbformat_minor": 0,
  "metadata": {
    "colab": {
      "name": "CSE521 project1.ipynb",
      "provenance": [],
      "collapsed_sections": [],
      "toc_visible": true,
      "mount_file_id": "17XDkM9grXYwmCn1KW-I18Hosbgg3t_8M",
      "authorship_tag": "ABX9TyMqBucdogqB/dEeaTJGiQd4",
      "include_colab_link": true
    },
    "kernelspec": {
      "name": "python3",
      "display_name": "Python 3"
    },
    "language_info": {
      "name": "python"
    }
  },
  "cells": [
    {
      "cell_type": "markdown",
      "metadata": {
        "id": "view-in-github",
        "colab_type": "text"
      },
      "source": [
        "<a href=\"https://colab.research.google.com/github/AubreyYueng/LC-yiyun/blob/master/CSE521_project1.ipynb\" target=\"_parent\"><img src=\"https://colab.research.google.com/assets/colab-badge.svg\" alt=\"Open In Colab\"/></a>"
      ]
    },
    {
      "cell_type": "code",
      "metadata": {
        "id": "qLxO4zRgaFRg",
        "colab": {
          "base_uri": "https://localhost:8080/"
        },
        "outputId": "86c431b4-f27f-43ef-a39d-26abde21fe60"
      },
      "source": [
        "from google.colab import drive\n",
        "drive.mount('/content/drive')"
      ],
      "execution_count": null,
      "outputs": [
        {
          "output_type": "stream",
          "text": [
            "Drive already mounted at /content/drive; to attempt to forcibly remount, call drive.mount(\"/content/drive\", force_remount=True).\n"
          ],
          "name": "stdout"
        }
      ]
    },
    {
      "cell_type": "code",
      "metadata": {
        "id": "IEA29dE7a8_G",
        "colab": {
          "base_uri": "https://localhost:8080/"
        },
        "outputId": "dae1b8ff-1dc6-4866-8807-5ff3f5e691d3"
      },
      "source": [
        "!ls \"/content/drive/My Drive/CSE521\""
      ],
      "execution_count": null,
      "outputs": [
        {
          "output_type": "stream",
          "text": [
            "21DMProject.pdf       contrast_cls_tree_pd.pdf\tfull_cls_tree_ped\n",
            "bakarydata.xls\t      full_cls_tree_pd\t\tfull_cls_tree_ped.pdf\n",
            "contrast_cls_tree_pd  full_cls_tree_pd.pdf\n"
          ],
          "name": "stdout"
        }
      ]
    },
    {
      "cell_type": "code",
      "metadata": {
        "id": "nXvXsd_YGts5",
        "colab": {
          "base_uri": "https://localhost:8080/"
        },
        "outputId": "807039a4-4779-413e-d4a4-ed5323a44edb"
      },
      "source": [
        "!pip install feature_engine"
      ],
      "execution_count": null,
      "outputs": [
        {
          "output_type": "stream",
          "text": [
            "Requirement already satisfied: feature_engine in /usr/local/lib/python3.7/dist-packages (1.0.2)\n",
            "Requirement already satisfied: numpy>=1.18.2 in /usr/local/lib/python3.7/dist-packages (from feature_engine) (1.19.5)\n",
            "Requirement already satisfied: scikit-learn>=0.22.2 in /usr/local/lib/python3.7/dist-packages (from feature_engine) (0.22.2.post1)\n",
            "Requirement already satisfied: pandas>=1.0.3 in /usr/local/lib/python3.7/dist-packages (from feature_engine) (1.1.5)\n",
            "Requirement already satisfied: statsmodels>=0.11.1 in /usr/local/lib/python3.7/dist-packages (from feature_engine) (0.12.2)\n",
            "Requirement already satisfied: scipy>=1.4.1 in /usr/local/lib/python3.7/dist-packages (from feature_engine) (1.4.1)\n",
            "Requirement already satisfied: joblib>=0.11 in /usr/local/lib/python3.7/dist-packages (from scikit-learn>=0.22.2->feature_engine) (1.0.1)\n",
            "Requirement already satisfied: pytz>=2017.2 in /usr/local/lib/python3.7/dist-packages (from pandas>=1.0.3->feature_engine) (2018.9)\n",
            "Requirement already satisfied: python-dateutil>=2.7.3 in /usr/local/lib/python3.7/dist-packages (from pandas>=1.0.3->feature_engine) (2.8.1)\n",
            "Requirement already satisfied: patsy>=0.5 in /usr/local/lib/python3.7/dist-packages (from statsmodels>=0.11.1->feature_engine) (0.5.1)\n",
            "Requirement already satisfied: six>=1.5 in /usr/local/lib/python3.7/dist-packages (from python-dateutil>=2.7.3->pandas>=1.0.3->feature_engine) (1.15.0)\n"
          ],
          "name": "stdout"
        }
      ]
    },
    {
      "cell_type": "code",
      "metadata": {
        "id": "67aTdZ8obWTW"
      },
      "source": [
        "from sklearn import tree\n",
        "from sklearn.metrics import classification_report,confusion_matrix\n",
        "from sklearn.preprocessing import MinMaxScaler\n",
        "from sklearn.tree import DecisionTreeClassifier\n",
        "from sklearn.model_selection import train_test_split\n",
        "from sklearn import metrics\n",
        "import graphviz\n",
        "from sklearn.tree import export_graphviz\n",
        "from sklearn.neural_network import MLPClassifier\n",
        "import pandas as pd\n",
        "import numpy as np\n",
        "import matplotlib.pyplot as plt\n",
        "from sklearn.preprocessing import KBinsDiscretizer\n",
        "from feature_engine.discretisation import EqualFrequencyDiscretiser\n",
        "from feature_engine.discretisation import EqualWidthDiscretiser\n",
        "from sklearn.preprocessing import KBinsDiscretizer"
      ],
      "execution_count": null,
      "outputs": []
    },
    {
      "cell_type": "code",
      "metadata": {
        "id": "ZB1r3k9i5kH2"
      },
      "source": [
        "%matplotlib inline"
      ],
      "execution_count": null,
      "outputs": []
    },
    {
      "cell_type": "markdown",
      "metadata": {
        "id": "aj8ZIv-wbZI0"
      },
      "source": [
        "# S1. Data Preparation"
      ]
    },
    {
      "cell_type": "markdown",
      "metadata": {
        "id": "ovUHmkCWrgWt"
      },
      "source": [
        "## Create Project Data"
      ]
    },
    {
      "cell_type": "markdown",
      "metadata": {
        "id": "0YtybDhRdYUI"
      },
      "source": [
        "Read data from excel, with uesless rows and columns dropped:"
      ]
    },
    {
      "cell_type": "code",
      "metadata": {
        "id": "KjvXV0rabqEe"
      },
      "source": [
        "p_data = pd.read_excel('/content/drive/My Drive/CSE521/bakarydata.xls')\n",
        "\n",
        "# drop useless rows\n",
        "p_data.drop(0, inplace=True)\n",
        "p_data.drop(p_data.tail(5).index, inplace = True)\n",
        "p_data.drop(p_data.columns[[0, 1]], axis = 1, inplace=True)"
      ],
      "execution_count": null,
      "outputs": []
    },
    {
      "cell_type": "markdown",
      "metadata": {
        "id": "EBgs7JU_dg1l"
      },
      "source": [
        "Identify missing value:"
      ]
    },
    {
      "cell_type": "code",
      "metadata": {
        "colab": {
          "base_uri": "https://localhost:8080/"
        },
        "id": "J69zwTNEdoeE",
        "outputId": "00b4d109-f71e-4be2-ec4f-7358adaebda4"
      },
      "source": [
        "na_count = p_data.isna().sum()\n",
        "na_count = na_count[na_count>0]\n",
        "na_count.sort_values(ascending=False)"
      ],
      "execution_count": null,
      "outputs": [
        {
          "output_type": "execute_result",
          "data": {
            "text/plain": [
              "Mo      87\n",
              "Co      83\n",
              "As      71\n",
              "Cd      69\n",
              "Pb      54\n",
              "Sc      49\n",
              "Ni      39\n",
              "Li      38\n",
              "V       11\n",
              "Cu      10\n",
              "Cr       3\n",
              "Zn       3\n",
              "S        3\n",
              "TiO2     2\n",
              "P2O5     1\n",
              "dtype: int64"
            ]
          },
          "metadata": {
            "tags": []
          },
          "execution_count": 147
        }
      ]
    },
    {
      "cell_type": "markdown",
      "metadata": {
        "id": "C0UMpQure7_A"
      },
      "source": [
        "Fill missing value with zero:\n",
        "\n",
        "\n",
        "\n"
      ]
    },
    {
      "cell_type": "code",
      "metadata": {
        "id": "AdRG6X5ue-LG"
      },
      "source": [
        "p_data = p_data.fillna(0)"
      ],
      "execution_count": null,
      "outputs": []
    },
    {
      "cell_type": "markdown",
      "metadata": {
        "id": "KFmrqrrLODJe"
      },
      "source": [
        "Fix non-numeric value of **Li** as zero:"
      ]
    },
    {
      "cell_type": "code",
      "metadata": {
        "id": "rQcbptsAOHoz"
      },
      "source": [
        "p_data['Li'] = (\n",
        "    pd.to_numeric(p_data['Li'],\n",
        "                  errors='coerce')\n",
        "      .fillna(0)\n",
        "    )"
      ],
      "execution_count": null,
      "outputs": []
    },
    {
      "cell_type": "markdown",
      "metadata": {
        "id": "ED1hgvhbn1XY"
      },
      "source": [
        "Modify class value according to the folloing mappings:\n",
        "\n",
        "C1 : R. Carbonatees AND R. Carbonatees impures\n",
        "\n",
        "C2 : Pyrate\n",
        "\n",
        "C3 : Charcopyrite\n",
        "\n",
        "C4 : Galene\n",
        "\n",
        "C5 : Spahlerite\n",
        "\n",
        "C6 : Sediments terrigenes "
      ]
    },
    {
      "cell_type": "code",
      "metadata": {
        "id": "jqN_qR_tn32q"
      },
      "source": [
        "p_data.loc[(p_data['Type de roche.1'] == 'R. carbonatées'),'Type de roche.1']='C1'\n",
        "p_data.loc[(p_data['Type de roche.1'] == 'R. carbonatées impures'),'Type de roche.1']='C1'\n",
        "p_data.loc[(p_data['Type de roche.1'] == 'Pyrite'),'Type de roche.1']='C2'\n",
        "p_data.loc[(p_data['Type de roche.1'] == 'Chalcopyrites'),'Type de roche.1']='C3'\n",
        "p_data.loc[(p_data['Type de roche.1'] == 'Galène'),'Type de roche.1']='C4'\n",
        "p_data.loc[(p_data['Type de roche.1'] == 'Spahlerite'),'Type de roche.1']='C5'\n",
        "p_data.loc[(p_data['Type de roche.1'] == 'Sédiments terrigènes'),'Type de roche.1']='C6'"
      ],
      "execution_count": null,
      "outputs": []
    },
    {
      "cell_type": "code",
      "metadata": {
        "colab": {
          "base_uri": "https://localhost:8080/",
          "height": 241
        },
        "id": "0y_MyGuMi0ip",
        "outputId": "77154970-b935-4c5e-c5d0-ab866c7df16d"
      },
      "source": [
        "p_data.head()"
      ],
      "execution_count": null,
      "outputs": [
        {
          "output_type": "execute_result",
          "data": {
            "text/html": [
              "<div>\n",
              "<style scoped>\n",
              "    .dataframe tbody tr th:only-of-type {\n",
              "        vertical-align: middle;\n",
              "    }\n",
              "\n",
              "    .dataframe tbody tr th {\n",
              "        vertical-align: top;\n",
              "    }\n",
              "\n",
              "    .dataframe thead th {\n",
              "        text-align: right;\n",
              "    }\n",
              "</style>\n",
              "<table border=\"1\" class=\"dataframe\">\n",
              "  <thead>\n",
              "    <tr style=\"text-align: right;\">\n",
              "      <th></th>\n",
              "      <th>CaO+MgO</th>\n",
              "      <th>Al2O3</th>\n",
              "      <th>TiO2</th>\n",
              "      <th>Fe2O3*</th>\n",
              "      <th>MnO</th>\n",
              "      <th>MgO</th>\n",
              "      <th>CaO</th>\n",
              "      <th>Na2O</th>\n",
              "      <th>K2O</th>\n",
              "      <th>P2O5</th>\n",
              "      <th>S</th>\n",
              "      <th>Zn</th>\n",
              "      <th>Pb</th>\n",
              "      <th>Cu</th>\n",
              "      <th>As</th>\n",
              "      <th>Cd</th>\n",
              "      <th>Cr</th>\n",
              "      <th>Ni</th>\n",
              "      <th>Sc</th>\n",
              "      <th>V</th>\n",
              "      <th>Co</th>\n",
              "      <th>Ba</th>\n",
              "      <th>Sr</th>\n",
              "      <th>Li</th>\n",
              "      <th>Mo</th>\n",
              "      <th>Rb</th>\n",
              "      <th>Y</th>\n",
              "      <th>Zr</th>\n",
              "      <th>Nb</th>\n",
              "      <th>Cs</th>\n",
              "      <th>La</th>\n",
              "      <th>Ce</th>\n",
              "      <th>Pr</th>\n",
              "      <th>Nd</th>\n",
              "      <th>Sm</th>\n",
              "      <th>Eu</th>\n",
              "      <th>Gd</th>\n",
              "      <th>Tb</th>\n",
              "      <th>Dy</th>\n",
              "      <th>Ho</th>\n",
              "      <th>Er</th>\n",
              "      <th>Tm</th>\n",
              "      <th>Yb</th>\n",
              "      <th>Lu</th>\n",
              "      <th>Hf</th>\n",
              "      <th>Ta</th>\n",
              "      <th>Th</th>\n",
              "      <th>U</th>\n",
              "      <th>Type de roche.1</th>\n",
              "    </tr>\n",
              "  </thead>\n",
              "  <tbody>\n",
              "    <tr>\n",
              "      <th>1</th>\n",
              "      <td>58.549206</td>\n",
              "      <td>0.042894</td>\n",
              "      <td>0.001139</td>\n",
              "      <td>0.050882</td>\n",
              "      <td>0.009550</td>\n",
              "      <td>24.522963</td>\n",
              "      <td>34.026243</td>\n",
              "      <td>0.034961</td>\n",
              "      <td>0.018328</td>\n",
              "      <td>0.049970</td>\n",
              "      <td>71.530422</td>\n",
              "      <td>2.096808</td>\n",
              "      <td>0.000000</td>\n",
              "      <td>0.438867</td>\n",
              "      <td>0.000000</td>\n",
              "      <td>0.0</td>\n",
              "      <td>2.698218</td>\n",
              "      <td>0.000000</td>\n",
              "      <td>0.000000</td>\n",
              "      <td>0.845225</td>\n",
              "      <td>0.0</td>\n",
              "      <td>5.569708</td>\n",
              "      <td>42.763512</td>\n",
              "      <td>1.174213</td>\n",
              "      <td>0.0</td>\n",
              "      <td>0.440076</td>\n",
              "      <td>2.163039</td>\n",
              "      <td>0.597249</td>\n",
              "      <td>0.083757</td>\n",
              "      <td>0.040505</td>\n",
              "      <td>1.172904</td>\n",
              "      <td>0.964773</td>\n",
              "      <td>0.235636</td>\n",
              "      <td>0.863947</td>\n",
              "      <td>0.160446</td>\n",
              "      <td>0.039142</td>\n",
              "      <td>0.197101</td>\n",
              "      <td>0.025383</td>\n",
              "      <td>0.199311</td>\n",
              "      <td>0.048939</td>\n",
              "      <td>0.145865</td>\n",
              "      <td>0.016902</td>\n",
              "      <td>0.075020</td>\n",
              "      <td>0.009734</td>\n",
              "      <td>0.014938</td>\n",
              "      <td>0.005829</td>\n",
              "      <td>0.037011</td>\n",
              "      <td>1.565582</td>\n",
              "      <td>C1</td>\n",
              "    </tr>\n",
              "    <tr>\n",
              "      <th>2</th>\n",
              "      <td>55.919433</td>\n",
              "      <td>0.055319</td>\n",
              "      <td>0.000731</td>\n",
              "      <td>0.077360</td>\n",
              "      <td>0.023425</td>\n",
              "      <td>23.536592</td>\n",
              "      <td>32.382841</td>\n",
              "      <td>0.022787</td>\n",
              "      <td>0.024499</td>\n",
              "      <td>0.006280</td>\n",
              "      <td>88.690182</td>\n",
              "      <td>5.528533</td>\n",
              "      <td>0.000000</td>\n",
              "      <td>1.376918</td>\n",
              "      <td>0.000000</td>\n",
              "      <td>0.0</td>\n",
              "      <td>5.653707</td>\n",
              "      <td>2.148826</td>\n",
              "      <td>0.297706</td>\n",
              "      <td>18.087690</td>\n",
              "      <td>0.0</td>\n",
              "      <td>15.856666</td>\n",
              "      <td>61.729719</td>\n",
              "      <td>0.000000</td>\n",
              "      <td>0.0</td>\n",
              "      <td>0.496700</td>\n",
              "      <td>3.406543</td>\n",
              "      <td>1.220929</td>\n",
              "      <td>0.204263</td>\n",
              "      <td>0.037611</td>\n",
              "      <td>1.179032</td>\n",
              "      <td>1.232091</td>\n",
              "      <td>0.239014</td>\n",
              "      <td>0.947284</td>\n",
              "      <td>0.182285</td>\n",
              "      <td>0.052349</td>\n",
              "      <td>0.252717</td>\n",
              "      <td>0.040555</td>\n",
              "      <td>0.332474</td>\n",
              "      <td>0.088865</td>\n",
              "      <td>0.283060</td>\n",
              "      <td>0.037272</td>\n",
              "      <td>0.198003</td>\n",
              "      <td>0.027808</td>\n",
              "      <td>0.019643</td>\n",
              "      <td>0.019673</td>\n",
              "      <td>0.067928</td>\n",
              "      <td>2.375750</td>\n",
              "      <td>C1</td>\n",
              "    </tr>\n",
              "    <tr>\n",
              "      <th>3</th>\n",
              "      <td>54.328172</td>\n",
              "      <td>0.156345</td>\n",
              "      <td>0.009747</td>\n",
              "      <td>0.311645</td>\n",
              "      <td>0.047901</td>\n",
              "      <td>22.643130</td>\n",
              "      <td>31.685042</td>\n",
              "      <td>0.028780</td>\n",
              "      <td>0.018019</td>\n",
              "      <td>0.212453</td>\n",
              "      <td>257.516069</td>\n",
              "      <td>7.309161</td>\n",
              "      <td>8.154236</td>\n",
              "      <td>1.544720</td>\n",
              "      <td>6.851397</td>\n",
              "      <td>0.0</td>\n",
              "      <td>3.654581</td>\n",
              "      <td>0.000000</td>\n",
              "      <td>0.227564</td>\n",
              "      <td>4.031342</td>\n",
              "      <td>0.0</td>\n",
              "      <td>15.083999</td>\n",
              "      <td>69.945659</td>\n",
              "      <td>1.524375</td>\n",
              "      <td>0.0</td>\n",
              "      <td>0.532014</td>\n",
              "      <td>6.513842</td>\n",
              "      <td>2.764447</td>\n",
              "      <td>0.294448</td>\n",
              "      <td>0.064564</td>\n",
              "      <td>3.028671</td>\n",
              "      <td>2.530951</td>\n",
              "      <td>0.677124</td>\n",
              "      <td>2.756731</td>\n",
              "      <td>0.522547</td>\n",
              "      <td>0.126732</td>\n",
              "      <td>0.578496</td>\n",
              "      <td>0.082647</td>\n",
              "      <td>0.603493</td>\n",
              "      <td>0.145837</td>\n",
              "      <td>0.451323</td>\n",
              "      <td>0.052108</td>\n",
              "      <td>0.240718</td>\n",
              "      <td>0.033128</td>\n",
              "      <td>0.057313</td>\n",
              "      <td>0.013743</td>\n",
              "      <td>0.206904</td>\n",
              "      <td>4.566766</td>\n",
              "      <td>C1</td>\n",
              "    </tr>\n",
              "    <tr>\n",
              "      <th>4</th>\n",
              "      <td>53.279291</td>\n",
              "      <td>0.040651</td>\n",
              "      <td>0.000529</td>\n",
              "      <td>0.047324</td>\n",
              "      <td>0.011572</td>\n",
              "      <td>22.160244</td>\n",
              "      <td>31.119048</td>\n",
              "      <td>0.029067</td>\n",
              "      <td>0.009013</td>\n",
              "      <td>0.052931</td>\n",
              "      <td>138.817188</td>\n",
              "      <td>6.454112</td>\n",
              "      <td>0.000000</td>\n",
              "      <td>4.247102</td>\n",
              "      <td>0.000000</td>\n",
              "      <td>0.0</td>\n",
              "      <td>2.930315</td>\n",
              "      <td>0.000000</td>\n",
              "      <td>0.000000</td>\n",
              "      <td>0.686213</td>\n",
              "      <td>0.0</td>\n",
              "      <td>3.830923</td>\n",
              "      <td>48.824985</td>\n",
              "      <td>0.000000</td>\n",
              "      <td>0.0</td>\n",
              "      <td>0.096883</td>\n",
              "      <td>2.294541</td>\n",
              "      <td>1.098521</td>\n",
              "      <td>0.189039</td>\n",
              "      <td>0.024016</td>\n",
              "      <td>1.176993</td>\n",
              "      <td>1.015006</td>\n",
              "      <td>0.261456</td>\n",
              "      <td>1.014408</td>\n",
              "      <td>0.198480</td>\n",
              "      <td>0.050619</td>\n",
              "      <td>0.240267</td>\n",
              "      <td>0.032758</td>\n",
              "      <td>0.244824</td>\n",
              "      <td>0.059446</td>\n",
              "      <td>0.172986</td>\n",
              "      <td>0.019559</td>\n",
              "      <td>0.089642</td>\n",
              "      <td>0.012349</td>\n",
              "      <td>0.018667</td>\n",
              "      <td>0.019894</td>\n",
              "      <td>0.029204</td>\n",
              "      <td>1.334084</td>\n",
              "      <td>C1</td>\n",
              "    </tr>\n",
              "    <tr>\n",
              "      <th>5</th>\n",
              "      <td>52.288110</td>\n",
              "      <td>0.078805</td>\n",
              "      <td>0.001139</td>\n",
              "      <td>0.150688</td>\n",
              "      <td>0.015111</td>\n",
              "      <td>16.450731</td>\n",
              "      <td>35.837379</td>\n",
              "      <td>0.025634</td>\n",
              "      <td>0.058705</td>\n",
              "      <td>10.414421</td>\n",
              "      <td>753.746789</td>\n",
              "      <td>5.287055</td>\n",
              "      <td>3.677137</td>\n",
              "      <td>2.146037</td>\n",
              "      <td>0.000000</td>\n",
              "      <td>0.0</td>\n",
              "      <td>5.033433</td>\n",
              "      <td>4.370112</td>\n",
              "      <td>0.000000</td>\n",
              "      <td>6.106451</td>\n",
              "      <td>0.0</td>\n",
              "      <td>13.868278</td>\n",
              "      <td>120.860913</td>\n",
              "      <td>4.647926</td>\n",
              "      <td>0.0</td>\n",
              "      <td>2.508807</td>\n",
              "      <td>24.534712</td>\n",
              "      <td>1.699024</td>\n",
              "      <td>0.195438</td>\n",
              "      <td>0.138065</td>\n",
              "      <td>12.376389</td>\n",
              "      <td>10.234285</td>\n",
              "      <td>1.866422</td>\n",
              "      <td>8.563298</td>\n",
              "      <td>1.323299</td>\n",
              "      <td>0.405690</td>\n",
              "      <td>2.071026</td>\n",
              "      <td>0.288239</td>\n",
              "      <td>2.273738</td>\n",
              "      <td>0.593413</td>\n",
              "      <td>1.798298</td>\n",
              "      <td>0.210936</td>\n",
              "      <td>1.012964</td>\n",
              "      <td>0.136158</td>\n",
              "      <td>0.027061</td>\n",
              "      <td>0.006339</td>\n",
              "      <td>0.037171</td>\n",
              "      <td>13.485565</td>\n",
              "      <td>C1</td>\n",
              "    </tr>\n",
              "  </tbody>\n",
              "</table>\n",
              "</div>"
            ],
            "text/plain": [
              "     CaO+MgO     Al2O3      TiO2  ...        Th          U  Type de roche.1\n",
              "1  58.549206  0.042894  0.001139  ...  0.037011   1.565582               C1\n",
              "2  55.919433  0.055319  0.000731  ...  0.067928   2.375750               C1\n",
              "3  54.328172  0.156345  0.009747  ...  0.206904   4.566766               C1\n",
              "4  53.279291  0.040651  0.000529  ...  0.029204   1.334084               C1\n",
              "5  52.288110  0.078805  0.001139  ...  0.037171  13.485565               C1\n",
              "\n",
              "[5 rows x 49 columns]"
            ]
          },
          "metadata": {
            "tags": []
          },
          "execution_count": 151
        }
      ]
    },
    {
      "cell_type": "code",
      "metadata": {
        "id": "V_Pem3hqkl-H"
      },
      "source": [
        "# p_data.tail()"
      ],
      "execution_count": null,
      "outputs": []
    },
    {
      "cell_type": "markdown",
      "metadata": {
        "id": "sgg5q1mhnFPC"
      },
      "source": [
        "## Create Project Expert Data\n",
        "\n",
        "Use only the most important\n",
        "attributes **S, Zn, Pb, Cu, CaO+MgO, CaO, MgO, Fe2O3** as determined by the expert."
      ]
    },
    {
      "cell_type": "code",
      "metadata": {
        "colab": {
          "base_uri": "https://localhost:8080/",
          "height": 204
        },
        "id": "GqZ-Q_l9h9af",
        "outputId": "5981f81a-17ab-4a7e-afee-a8d5693eabca"
      },
      "source": [
        "e_data = p_data[['S', 'Zn', 'Pb', 'Cu', 'CaO+MgO', 'CaO', 'MgO', 'Fe2O3*', 'Type de roche.1']]\n",
        "e_data.head()"
      ],
      "execution_count": null,
      "outputs": [
        {
          "output_type": "execute_result",
          "data": {
            "text/html": [
              "<div>\n",
              "<style scoped>\n",
              "    .dataframe tbody tr th:only-of-type {\n",
              "        vertical-align: middle;\n",
              "    }\n",
              "\n",
              "    .dataframe tbody tr th {\n",
              "        vertical-align: top;\n",
              "    }\n",
              "\n",
              "    .dataframe thead th {\n",
              "        text-align: right;\n",
              "    }\n",
              "</style>\n",
              "<table border=\"1\" class=\"dataframe\">\n",
              "  <thead>\n",
              "    <tr style=\"text-align: right;\">\n",
              "      <th></th>\n",
              "      <th>S</th>\n",
              "      <th>Zn</th>\n",
              "      <th>Pb</th>\n",
              "      <th>Cu</th>\n",
              "      <th>CaO+MgO</th>\n",
              "      <th>CaO</th>\n",
              "      <th>MgO</th>\n",
              "      <th>Fe2O3*</th>\n",
              "      <th>Type de roche.1</th>\n",
              "    </tr>\n",
              "  </thead>\n",
              "  <tbody>\n",
              "    <tr>\n",
              "      <th>1</th>\n",
              "      <td>71.530422</td>\n",
              "      <td>2.096808</td>\n",
              "      <td>0.000000</td>\n",
              "      <td>0.438867</td>\n",
              "      <td>58.549206</td>\n",
              "      <td>34.026243</td>\n",
              "      <td>24.522963</td>\n",
              "      <td>0.050882</td>\n",
              "      <td>C1</td>\n",
              "    </tr>\n",
              "    <tr>\n",
              "      <th>2</th>\n",
              "      <td>88.690182</td>\n",
              "      <td>5.528533</td>\n",
              "      <td>0.000000</td>\n",
              "      <td>1.376918</td>\n",
              "      <td>55.919433</td>\n",
              "      <td>32.382841</td>\n",
              "      <td>23.536592</td>\n",
              "      <td>0.077360</td>\n",
              "      <td>C1</td>\n",
              "    </tr>\n",
              "    <tr>\n",
              "      <th>3</th>\n",
              "      <td>257.516069</td>\n",
              "      <td>7.309161</td>\n",
              "      <td>8.154236</td>\n",
              "      <td>1.544720</td>\n",
              "      <td>54.328172</td>\n",
              "      <td>31.685042</td>\n",
              "      <td>22.643130</td>\n",
              "      <td>0.311645</td>\n",
              "      <td>C1</td>\n",
              "    </tr>\n",
              "    <tr>\n",
              "      <th>4</th>\n",
              "      <td>138.817188</td>\n",
              "      <td>6.454112</td>\n",
              "      <td>0.000000</td>\n",
              "      <td>4.247102</td>\n",
              "      <td>53.279291</td>\n",
              "      <td>31.119048</td>\n",
              "      <td>22.160244</td>\n",
              "      <td>0.047324</td>\n",
              "      <td>C1</td>\n",
              "    </tr>\n",
              "    <tr>\n",
              "      <th>5</th>\n",
              "      <td>753.746789</td>\n",
              "      <td>5.287055</td>\n",
              "      <td>3.677137</td>\n",
              "      <td>2.146037</td>\n",
              "      <td>52.288110</td>\n",
              "      <td>35.837379</td>\n",
              "      <td>16.450731</td>\n",
              "      <td>0.150688</td>\n",
              "      <td>C1</td>\n",
              "    </tr>\n",
              "  </tbody>\n",
              "</table>\n",
              "</div>"
            ],
            "text/plain": [
              "            S        Zn        Pb  ...        MgO    Fe2O3*  Type de roche.1\n",
              "1   71.530422  2.096808  0.000000  ...  24.522963  0.050882               C1\n",
              "2   88.690182  5.528533  0.000000  ...  23.536592  0.077360               C1\n",
              "3  257.516069  7.309161  8.154236  ...  22.643130  0.311645               C1\n",
              "4  138.817188  6.454112  0.000000  ...  22.160244  0.047324               C1\n",
              "5  753.746789  5.287055  3.677137  ...  16.450731  0.150688               C1\n",
              "\n",
              "[5 rows x 9 columns]"
            ]
          },
          "metadata": {
            "tags": []
          },
          "execution_count": 153
        }
      ]
    },
    {
      "cell_type": "markdown",
      "metadata": {
        "id": "Hp4gJm5-qZ5s"
      },
      "source": [
        "# S2: Data preprocessing"
      ]
    },
    {
      "cell_type": "markdown",
      "metadata": {
        "id": "hu3ei4iDZLKQ"
      },
      "source": [
        "## For the Decision Trees \n",
        "\n",
        "**Descriptive Classifier** you use your chosen method of the **discretization**\n",
        "of Project DATA - **PD** creating a set **PD1** of data with no more than 4 values (bins) for each\n",
        "attribute. Different attributes do not need to have the same number of values (bins) and you do not\n",
        "need to use the same discretization methods for all of them. Describe which discretization method\n",
        "(must use at least two) you used for each attributes.\n",
        "Create the EXPERT DATA - **PED1** from the **PD1** by using only the most important\n",
        "attributes **S, Zn, Pb, Cu, CaO+MgO, CaO, MgO, Fe2O3**."
      ]
    },
    {
      "cell_type": "markdown",
      "metadata": {
        "id": "kWD2SQHFF0N5"
      },
      "source": [
        "Use **Equal-Frequency Discretization** for the following features: \n",
        "\n",
        "> 'CaO+MgO', \"Al2O3\", \"TiO2\", \"Fe2O3*\", \"MnO\", \"Na2O\", \"K2O\", \"P2O5\", \"S\", \"Zn\", \"Cu\", \"Cr\", \"Ni\", \"Sc\", \"V\", \"Ba\", \"Sr\", \"Li\", \"Rb\", \"Y\", \"Zr\", \"Nb\", \"Cs\", \"La\", \"Ce\", \"Pr\", \"Nd\", \"Sm\", \"Eu\", \"Gd\", \"Tb\", \"Dy\", \"Ho\", \"Er\", \"Tm\", \"Yb\", \"Lu\", \"Hf\", \"Ta\", \"Th\", \"U\""
      ]
    },
    {
      "cell_type": "code",
      "metadata": {
        "id": "QqJC5ADDGFy8"
      },
      "source": [
        "eq_freq_disc = EqualFrequencyDiscretiser(q=4, variables=['CaO+MgO', \"Al2O3\", \"TiO2\", \"Fe2O3*\", \"MnO\", \"Na2O\", \"K2O\", \"P2O5\", \"S\", \"Zn\", \"Cu\", \"Cr\", \"Ni\", \"Sc\", \"V\", \"Ba\", \"Sr\", \"Li\", \"Rb\", \"Y\", \"Zr\", \"Nb\", \"Cs\", \"La\", \"Ce\", \"Pr\", \"Nd\", \"Sm\", \"Eu\", \"Gd\", \"Tb\", \"Dy\", \"Ho\", \"Er\", \"Tm\", \"Yb\", \"Lu\", \"Hf\", \"Ta\", \"Th\", \"U\"])\n",
        "pd1 = eq_freq_disc.fit_transform(p_data)\n"
      ],
      "execution_count": null,
      "outputs": []
    },
    {
      "cell_type": "markdown",
      "metadata": {
        "id": "Z8HjVAtX-9_7"
      },
      "source": [
        "Use **Equal-Width Discretization** for the following features:\n",
        "\n",
        "> 'MgO', 'CaO', 'Mo', 'Co', 'Cd', 'Pb', 'As'"
      ]
    },
    {
      "cell_type": "code",
      "metadata": {
        "id": "78Ehxtw8Fs8e"
      },
      "source": [
        "eq_width_disc = EqualWidthDiscretiser(bins=4, variables = ['MgO', 'CaO', 'Mo', 'Co', 'Cd', 'Pb', 'As'])\n",
        "tmp = eq_width_disc.fit_transform(p_data)\n",
        "for col in ['MgO', 'CaO', 'Mo', 'Co', 'Cd', 'Pb', 'As']:\n",
        "  pd1[col] = tmp[col]"
      ],
      "execution_count": null,
      "outputs": []
    },
    {
      "cell_type": "markdown",
      "metadata": {
        "id": "AaSwnoOHYISO"
      },
      "source": [
        "### Result of **PD1**(first 5 lines):"
      ]
    },
    {
      "cell_type": "code",
      "metadata": {
        "colab": {
          "base_uri": "https://localhost:8080/",
          "height": 241
        },
        "id": "CcQE2gZOVcoK",
        "outputId": "0976640f-d966-4222-8576-0db3dc944ee2"
      },
      "source": [
        "pd1.head()"
      ],
      "execution_count": null,
      "outputs": [
        {
          "output_type": "execute_result",
          "data": {
            "text/html": [
              "<div>\n",
              "<style scoped>\n",
              "    .dataframe tbody tr th:only-of-type {\n",
              "        vertical-align: middle;\n",
              "    }\n",
              "\n",
              "    .dataframe tbody tr th {\n",
              "        vertical-align: top;\n",
              "    }\n",
              "\n",
              "    .dataframe thead th {\n",
              "        text-align: right;\n",
              "    }\n",
              "</style>\n",
              "<table border=\"1\" class=\"dataframe\">\n",
              "  <thead>\n",
              "    <tr style=\"text-align: right;\">\n",
              "      <th></th>\n",
              "      <th>CaO+MgO</th>\n",
              "      <th>Al2O3</th>\n",
              "      <th>TiO2</th>\n",
              "      <th>Fe2O3*</th>\n",
              "      <th>MnO</th>\n",
              "      <th>MgO</th>\n",
              "      <th>CaO</th>\n",
              "      <th>Na2O</th>\n",
              "      <th>K2O</th>\n",
              "      <th>P2O5</th>\n",
              "      <th>S</th>\n",
              "      <th>Zn</th>\n",
              "      <th>Pb</th>\n",
              "      <th>Cu</th>\n",
              "      <th>As</th>\n",
              "      <th>Cd</th>\n",
              "      <th>Cr</th>\n",
              "      <th>Ni</th>\n",
              "      <th>Sc</th>\n",
              "      <th>V</th>\n",
              "      <th>Co</th>\n",
              "      <th>Ba</th>\n",
              "      <th>Sr</th>\n",
              "      <th>Li</th>\n",
              "      <th>Mo</th>\n",
              "      <th>Rb</th>\n",
              "      <th>Y</th>\n",
              "      <th>Zr</th>\n",
              "      <th>Nb</th>\n",
              "      <th>Cs</th>\n",
              "      <th>La</th>\n",
              "      <th>Ce</th>\n",
              "      <th>Pr</th>\n",
              "      <th>Nd</th>\n",
              "      <th>Sm</th>\n",
              "      <th>Eu</th>\n",
              "      <th>Gd</th>\n",
              "      <th>Tb</th>\n",
              "      <th>Dy</th>\n",
              "      <th>Ho</th>\n",
              "      <th>Er</th>\n",
              "      <th>Tm</th>\n",
              "      <th>Yb</th>\n",
              "      <th>Lu</th>\n",
              "      <th>Hf</th>\n",
              "      <th>Ta</th>\n",
              "      <th>Th</th>\n",
              "      <th>U</th>\n",
              "      <th>Type de roche.1</th>\n",
              "    </tr>\n",
              "  </thead>\n",
              "  <tbody>\n",
              "    <tr>\n",
              "      <th>1</th>\n",
              "      <td>3</td>\n",
              "      <td>1</td>\n",
              "      <td>1</td>\n",
              "      <td>0</td>\n",
              "      <td>0</td>\n",
              "      <td>3</td>\n",
              "      <td>3</td>\n",
              "      <td>3</td>\n",
              "      <td>1</td>\n",
              "      <td>2</td>\n",
              "      <td>0</td>\n",
              "      <td>0</td>\n",
              "      <td>0</td>\n",
              "      <td>0</td>\n",
              "      <td>0</td>\n",
              "      <td>0</td>\n",
              "      <td>0</td>\n",
              "      <td>0</td>\n",
              "      <td>0</td>\n",
              "      <td>0</td>\n",
              "      <td>0</td>\n",
              "      <td>1</td>\n",
              "      <td>0</td>\n",
              "      <td>1</td>\n",
              "      <td>0</td>\n",
              "      <td>1</td>\n",
              "      <td>0</td>\n",
              "      <td>0</td>\n",
              "      <td>0</td>\n",
              "      <td>1</td>\n",
              "      <td>1</td>\n",
              "      <td>0</td>\n",
              "      <td>0</td>\n",
              "      <td>1</td>\n",
              "      <td>0</td>\n",
              "      <td>0</td>\n",
              "      <td>1</td>\n",
              "      <td>0</td>\n",
              "      <td>0</td>\n",
              "      <td>0</td>\n",
              "      <td>0</td>\n",
              "      <td>0</td>\n",
              "      <td>0</td>\n",
              "      <td>0</td>\n",
              "      <td>0</td>\n",
              "      <td>0</td>\n",
              "      <td>1</td>\n",
              "      <td>1</td>\n",
              "      <td>C1</td>\n",
              "    </tr>\n",
              "    <tr>\n",
              "      <th>2</th>\n",
              "      <td>3</td>\n",
              "      <td>1</td>\n",
              "      <td>0</td>\n",
              "      <td>0</td>\n",
              "      <td>2</td>\n",
              "      <td>3</td>\n",
              "      <td>3</td>\n",
              "      <td>1</td>\n",
              "      <td>1</td>\n",
              "      <td>0</td>\n",
              "      <td>0</td>\n",
              "      <td>2</td>\n",
              "      <td>0</td>\n",
              "      <td>0</td>\n",
              "      <td>0</td>\n",
              "      <td>0</td>\n",
              "      <td>2</td>\n",
              "      <td>1</td>\n",
              "      <td>1</td>\n",
              "      <td>3</td>\n",
              "      <td>0</td>\n",
              "      <td>2</td>\n",
              "      <td>2</td>\n",
              "      <td>0</td>\n",
              "      <td>0</td>\n",
              "      <td>1</td>\n",
              "      <td>2</td>\n",
              "      <td>1</td>\n",
              "      <td>1</td>\n",
              "      <td>1</td>\n",
              "      <td>1</td>\n",
              "      <td>1</td>\n",
              "      <td>0</td>\n",
              "      <td>1</td>\n",
              "      <td>1</td>\n",
              "      <td>1</td>\n",
              "      <td>1</td>\n",
              "      <td>1</td>\n",
              "      <td>2</td>\n",
              "      <td>2</td>\n",
              "      <td>2</td>\n",
              "      <td>2</td>\n",
              "      <td>2</td>\n",
              "      <td>2</td>\n",
              "      <td>1</td>\n",
              "      <td>1</td>\n",
              "      <td>2</td>\n",
              "      <td>3</td>\n",
              "      <td>C1</td>\n",
              "    </tr>\n",
              "    <tr>\n",
              "      <th>3</th>\n",
              "      <td>3</td>\n",
              "      <td>2</td>\n",
              "      <td>2</td>\n",
              "      <td>2</td>\n",
              "      <td>3</td>\n",
              "      <td>3</td>\n",
              "      <td>3</td>\n",
              "      <td>2</td>\n",
              "      <td>1</td>\n",
              "      <td>3</td>\n",
              "      <td>1</td>\n",
              "      <td>2</td>\n",
              "      <td>0</td>\n",
              "      <td>1</td>\n",
              "      <td>0</td>\n",
              "      <td>0</td>\n",
              "      <td>1</td>\n",
              "      <td>0</td>\n",
              "      <td>1</td>\n",
              "      <td>2</td>\n",
              "      <td>0</td>\n",
              "      <td>2</td>\n",
              "      <td>2</td>\n",
              "      <td>1</td>\n",
              "      <td>0</td>\n",
              "      <td>2</td>\n",
              "      <td>3</td>\n",
              "      <td>2</td>\n",
              "      <td>1</td>\n",
              "      <td>2</td>\n",
              "      <td>2</td>\n",
              "      <td>2</td>\n",
              "      <td>2</td>\n",
              "      <td>2</td>\n",
              "      <td>2</td>\n",
              "      <td>2</td>\n",
              "      <td>2</td>\n",
              "      <td>2</td>\n",
              "      <td>2</td>\n",
              "      <td>2</td>\n",
              "      <td>2</td>\n",
              "      <td>2</td>\n",
              "      <td>2</td>\n",
              "      <td>2</td>\n",
              "      <td>2</td>\n",
              "      <td>1</td>\n",
              "      <td>2</td>\n",
              "      <td>3</td>\n",
              "      <td>C1</td>\n",
              "    </tr>\n",
              "    <tr>\n",
              "      <th>4</th>\n",
              "      <td>3</td>\n",
              "      <td>1</td>\n",
              "      <td>0</td>\n",
              "      <td>0</td>\n",
              "      <td>0</td>\n",
              "      <td>3</td>\n",
              "      <td>3</td>\n",
              "      <td>2</td>\n",
              "      <td>0</td>\n",
              "      <td>2</td>\n",
              "      <td>0</td>\n",
              "      <td>2</td>\n",
              "      <td>0</td>\n",
              "      <td>3</td>\n",
              "      <td>0</td>\n",
              "      <td>0</td>\n",
              "      <td>1</td>\n",
              "      <td>0</td>\n",
              "      <td>0</td>\n",
              "      <td>0</td>\n",
              "      <td>0</td>\n",
              "      <td>0</td>\n",
              "      <td>1</td>\n",
              "      <td>0</td>\n",
              "      <td>0</td>\n",
              "      <td>0</td>\n",
              "      <td>1</td>\n",
              "      <td>1</td>\n",
              "      <td>1</td>\n",
              "      <td>0</td>\n",
              "      <td>1</td>\n",
              "      <td>1</td>\n",
              "      <td>1</td>\n",
              "      <td>1</td>\n",
              "      <td>1</td>\n",
              "      <td>1</td>\n",
              "      <td>1</td>\n",
              "      <td>1</td>\n",
              "      <td>1</td>\n",
              "      <td>1</td>\n",
              "      <td>1</td>\n",
              "      <td>1</td>\n",
              "      <td>1</td>\n",
              "      <td>1</td>\n",
              "      <td>1</td>\n",
              "      <td>2</td>\n",
              "      <td>1</td>\n",
              "      <td>1</td>\n",
              "      <td>C1</td>\n",
              "    </tr>\n",
              "    <tr>\n",
              "      <th>5</th>\n",
              "      <td>3</td>\n",
              "      <td>2</td>\n",
              "      <td>1</td>\n",
              "      <td>1</td>\n",
              "      <td>1</td>\n",
              "      <td>2</td>\n",
              "      <td>3</td>\n",
              "      <td>2</td>\n",
              "      <td>2</td>\n",
              "      <td>3</td>\n",
              "      <td>2</td>\n",
              "      <td>1</td>\n",
              "      <td>0</td>\n",
              "      <td>2</td>\n",
              "      <td>0</td>\n",
              "      <td>0</td>\n",
              "      <td>2</td>\n",
              "      <td>1</td>\n",
              "      <td>0</td>\n",
              "      <td>2</td>\n",
              "      <td>0</td>\n",
              "      <td>2</td>\n",
              "      <td>3</td>\n",
              "      <td>2</td>\n",
              "      <td>0</td>\n",
              "      <td>2</td>\n",
              "      <td>3</td>\n",
              "      <td>2</td>\n",
              "      <td>1</td>\n",
              "      <td>3</td>\n",
              "      <td>3</td>\n",
              "      <td>3</td>\n",
              "      <td>3</td>\n",
              "      <td>3</td>\n",
              "      <td>3</td>\n",
              "      <td>3</td>\n",
              "      <td>3</td>\n",
              "      <td>3</td>\n",
              "      <td>3</td>\n",
              "      <td>3</td>\n",
              "      <td>3</td>\n",
              "      <td>3</td>\n",
              "      <td>3</td>\n",
              "      <td>3</td>\n",
              "      <td>2</td>\n",
              "      <td>1</td>\n",
              "      <td>1</td>\n",
              "      <td>3</td>\n",
              "      <td>C1</td>\n",
              "    </tr>\n",
              "  </tbody>\n",
              "</table>\n",
              "</div>"
            ],
            "text/plain": [
              "   CaO+MgO  Al2O3  TiO2  Fe2O3*  MnO  MgO  ...  Lu  Hf  Ta  Th  U  Type de roche.1\n",
              "1        3      1     1       0    0    3  ...   0   0   0   1  1               C1\n",
              "2        3      1     0       0    2    3  ...   2   1   1   2  3               C1\n",
              "3        3      2     2       2    3    3  ...   2   2   1   2  3               C1\n",
              "4        3      1     0       0    0    3  ...   1   1   2   1  1               C1\n",
              "5        3      2     1       1    1    2  ...   3   2   1   1  3               C1\n",
              "\n",
              "[5 rows x 49 columns]"
            ]
          },
          "metadata": {
            "tags": []
          },
          "execution_count": 156
        }
      ]
    },
    {
      "cell_type": "markdown",
      "metadata": {
        "id": "gc8Bh41NURD0"
      },
      "source": [
        "### Result of **PED1**(first 5 lines):"
      ]
    },
    {
      "cell_type": "code",
      "metadata": {
        "id": "bJIZhYw2UV1J"
      },
      "source": [
        "ped1 = pd1[['S', 'Zn', 'Pb', 'Cu', 'CaO+MgO', 'CaO', 'MgO', 'Fe2O3*', 'Type de roche.1']]"
      ],
      "execution_count": null,
      "outputs": []
    },
    {
      "cell_type": "code",
      "metadata": {
        "colab": {
          "base_uri": "https://localhost:8080/",
          "height": 204
        },
        "id": "w8EOOYmhV6vo",
        "outputId": "bd5bfe1f-97ad-4aa5-c935-ffd63b3f5b70"
      },
      "source": [
        "ped1.head()"
      ],
      "execution_count": null,
      "outputs": [
        {
          "output_type": "execute_result",
          "data": {
            "text/html": [
              "<div>\n",
              "<style scoped>\n",
              "    .dataframe tbody tr th:only-of-type {\n",
              "        vertical-align: middle;\n",
              "    }\n",
              "\n",
              "    .dataframe tbody tr th {\n",
              "        vertical-align: top;\n",
              "    }\n",
              "\n",
              "    .dataframe thead th {\n",
              "        text-align: right;\n",
              "    }\n",
              "</style>\n",
              "<table border=\"1\" class=\"dataframe\">\n",
              "  <thead>\n",
              "    <tr style=\"text-align: right;\">\n",
              "      <th></th>\n",
              "      <th>S</th>\n",
              "      <th>Zn</th>\n",
              "      <th>Pb</th>\n",
              "      <th>Cu</th>\n",
              "      <th>CaO+MgO</th>\n",
              "      <th>CaO</th>\n",
              "      <th>MgO</th>\n",
              "      <th>Fe2O3*</th>\n",
              "      <th>Type de roche.1</th>\n",
              "    </tr>\n",
              "  </thead>\n",
              "  <tbody>\n",
              "    <tr>\n",
              "      <th>1</th>\n",
              "      <td>0</td>\n",
              "      <td>0</td>\n",
              "      <td>0</td>\n",
              "      <td>0</td>\n",
              "      <td>3</td>\n",
              "      <td>3</td>\n",
              "      <td>3</td>\n",
              "      <td>0</td>\n",
              "      <td>C1</td>\n",
              "    </tr>\n",
              "    <tr>\n",
              "      <th>2</th>\n",
              "      <td>0</td>\n",
              "      <td>2</td>\n",
              "      <td>0</td>\n",
              "      <td>0</td>\n",
              "      <td>3</td>\n",
              "      <td>3</td>\n",
              "      <td>3</td>\n",
              "      <td>0</td>\n",
              "      <td>C1</td>\n",
              "    </tr>\n",
              "    <tr>\n",
              "      <th>3</th>\n",
              "      <td>1</td>\n",
              "      <td>2</td>\n",
              "      <td>0</td>\n",
              "      <td>1</td>\n",
              "      <td>3</td>\n",
              "      <td>3</td>\n",
              "      <td>3</td>\n",
              "      <td>2</td>\n",
              "      <td>C1</td>\n",
              "    </tr>\n",
              "    <tr>\n",
              "      <th>4</th>\n",
              "      <td>0</td>\n",
              "      <td>2</td>\n",
              "      <td>0</td>\n",
              "      <td>3</td>\n",
              "      <td>3</td>\n",
              "      <td>3</td>\n",
              "      <td>3</td>\n",
              "      <td>0</td>\n",
              "      <td>C1</td>\n",
              "    </tr>\n",
              "    <tr>\n",
              "      <th>5</th>\n",
              "      <td>2</td>\n",
              "      <td>1</td>\n",
              "      <td>0</td>\n",
              "      <td>2</td>\n",
              "      <td>3</td>\n",
              "      <td>3</td>\n",
              "      <td>2</td>\n",
              "      <td>1</td>\n",
              "      <td>C1</td>\n",
              "    </tr>\n",
              "  </tbody>\n",
              "</table>\n",
              "</div>"
            ],
            "text/plain": [
              "   S  Zn  Pb  Cu  CaO+MgO  CaO  MgO  Fe2O3* Type de roche.1\n",
              "1  0   0   0   0        3    3    3       0              C1\n",
              "2  0   2   0   0        3    3    3       0              C1\n",
              "3  1   2   0   1        3    3    3       2              C1\n",
              "4  0   2   0   3        3    3    3       0              C1\n",
              "5  2   1   0   2        3    3    2       1              C1"
            ]
          },
          "metadata": {
            "tags": []
          },
          "execution_count": 158
        }
      ]
    },
    {
      "cell_type": "markdown",
      "metadata": {
        "id": "GiMWllyUrkan"
      },
      "source": [
        "## For the Neural Network \n",
        "\n",
        "**Non - Descriptive Classifiers** use your chosen method of normalization\n",
        "of the Project DATA - **PD** and Project EXPERT DATA - **PED**. Specify which."
      ]
    },
    {
      "cell_type": "code",
      "metadata": {
        "id": "8yNtGYwnWeWv"
      },
      "source": [
        "scaler = MinMaxScaler()\n",
        "pd2 = pd1.copy()\n",
        "pd2.iloc[:,0:-1] = scaler.fit_transform(p_data.iloc[:,0:-1].to_numpy())"
      ],
      "execution_count": null,
      "outputs": []
    },
    {
      "cell_type": "markdown",
      "metadata": {
        "id": "Tw30cERUX9RS"
      },
      "source": [
        "### Normalized data **PD**(first 5 lines):"
      ]
    },
    {
      "cell_type": "code",
      "metadata": {
        "colab": {
          "base_uri": "https://localhost:8080/",
          "height": 241
        },
        "id": "V-Z0ST8NXPOc",
        "outputId": "87f85c7d-f284-4d7c-8a74-7d45b2494160"
      },
      "source": [
        "pd2.head()"
      ],
      "execution_count": null,
      "outputs": [
        {
          "output_type": "execute_result",
          "data": {
            "text/html": [
              "<div>\n",
              "<style scoped>\n",
              "    .dataframe tbody tr th:only-of-type {\n",
              "        vertical-align: middle;\n",
              "    }\n",
              "\n",
              "    .dataframe tbody tr th {\n",
              "        vertical-align: top;\n",
              "    }\n",
              "\n",
              "    .dataframe thead th {\n",
              "        text-align: right;\n",
              "    }\n",
              "</style>\n",
              "<table border=\"1\" class=\"dataframe\">\n",
              "  <thead>\n",
              "    <tr style=\"text-align: right;\">\n",
              "      <th></th>\n",
              "      <th>CaO+MgO</th>\n",
              "      <th>Al2O3</th>\n",
              "      <th>TiO2</th>\n",
              "      <th>Fe2O3*</th>\n",
              "      <th>MnO</th>\n",
              "      <th>MgO</th>\n",
              "      <th>CaO</th>\n",
              "      <th>Na2O</th>\n",
              "      <th>K2O</th>\n",
              "      <th>P2O5</th>\n",
              "      <th>S</th>\n",
              "      <th>Zn</th>\n",
              "      <th>Pb</th>\n",
              "      <th>Cu</th>\n",
              "      <th>As</th>\n",
              "      <th>Cd</th>\n",
              "      <th>Cr</th>\n",
              "      <th>Ni</th>\n",
              "      <th>Sc</th>\n",
              "      <th>V</th>\n",
              "      <th>Co</th>\n",
              "      <th>Ba</th>\n",
              "      <th>Sr</th>\n",
              "      <th>Li</th>\n",
              "      <th>Mo</th>\n",
              "      <th>Rb</th>\n",
              "      <th>Y</th>\n",
              "      <th>Zr</th>\n",
              "      <th>Nb</th>\n",
              "      <th>Cs</th>\n",
              "      <th>La</th>\n",
              "      <th>Ce</th>\n",
              "      <th>Pr</th>\n",
              "      <th>Nd</th>\n",
              "      <th>Sm</th>\n",
              "      <th>Eu</th>\n",
              "      <th>Gd</th>\n",
              "      <th>Tb</th>\n",
              "      <th>Dy</th>\n",
              "      <th>Ho</th>\n",
              "      <th>Er</th>\n",
              "      <th>Tm</th>\n",
              "      <th>Yb</th>\n",
              "      <th>Lu</th>\n",
              "      <th>Hf</th>\n",
              "      <th>Ta</th>\n",
              "      <th>Th</th>\n",
              "      <th>U</th>\n",
              "      <th>Type de roche.1</th>\n",
              "    </tr>\n",
              "  </thead>\n",
              "  <tbody>\n",
              "    <tr>\n",
              "      <th>1</th>\n",
              "      <td>1.000000</td>\n",
              "      <td>0.002364</td>\n",
              "      <td>0.001320</td>\n",
              "      <td>0.000517</td>\n",
              "      <td>0.013700</td>\n",
              "      <td>1.000000</td>\n",
              "      <td>0.896355</td>\n",
              "      <td>0.007947</td>\n",
              "      <td>0.001706</td>\n",
              "      <td>0.002545</td>\n",
              "      <td>0.000220</td>\n",
              "      <td>0.000066</td>\n",
              "      <td>0.000000</td>\n",
              "      <td>0.000063</td>\n",
              "      <td>0.000000</td>\n",
              "      <td>0.0</td>\n",
              "      <td>0.023367</td>\n",
              "      <td>0.000000</td>\n",
              "      <td>0.000000</td>\n",
              "      <td>0.002204</td>\n",
              "      <td>0.0</td>\n",
              "      <td>0.000759</td>\n",
              "      <td>0.057849</td>\n",
              "      <td>0.014122</td>\n",
              "      <td>0.0</td>\n",
              "      <td>0.003722</td>\n",
              "      <td>0.027714</td>\n",
              "      <td>0.002432</td>\n",
              "      <td>0.002428</td>\n",
              "      <td>0.008251</td>\n",
              "      <td>0.012805</td>\n",
              "      <td>0.006739</td>\n",
              "      <td>0.009896</td>\n",
              "      <td>0.014328</td>\n",
              "      <td>0.011644</td>\n",
              "      <td>0.006085</td>\n",
              "      <td>0.018214</td>\n",
              "      <td>0.010435</td>\n",
              "      <td>0.010089</td>\n",
              "      <td>0.010599</td>\n",
              "      <td>0.009838</td>\n",
              "      <td>0.008296</td>\n",
              "      <td>0.005770</td>\n",
              "      <td>0.005492</td>\n",
              "      <td>0.002246</td>\n",
              "      <td>0.004550</td>\n",
              "      <td>0.002721</td>\n",
              "      <td>0.001531</td>\n",
              "      <td>C1</td>\n",
              "    </tr>\n",
              "    <tr>\n",
              "      <th>2</th>\n",
              "      <td>0.954713</td>\n",
              "      <td>0.003282</td>\n",
              "      <td>0.000847</td>\n",
              "      <td>0.001158</td>\n",
              "      <td>0.036402</td>\n",
              "      <td>0.959076</td>\n",
              "      <td>0.853004</td>\n",
              "      <td>0.004706</td>\n",
              "      <td>0.002346</td>\n",
              "      <td>0.000320</td>\n",
              "      <td>0.000273</td>\n",
              "      <td>0.000173</td>\n",
              "      <td>0.000000</td>\n",
              "      <td>0.000197</td>\n",
              "      <td>0.000000</td>\n",
              "      <td>0.0</td>\n",
              "      <td>0.048961</td>\n",
              "      <td>0.009506</td>\n",
              "      <td>0.013581</td>\n",
              "      <td>0.047156</td>\n",
              "      <td>0.0</td>\n",
              "      <td>0.003134</td>\n",
              "      <td>0.091869</td>\n",
              "      <td>0.000000</td>\n",
              "      <td>0.0</td>\n",
              "      <td>0.004229</td>\n",
              "      <td>0.057615</td>\n",
              "      <td>0.006246</td>\n",
              "      <td>0.012924</td>\n",
              "      <td>0.007459</td>\n",
              "      <td>0.012980</td>\n",
              "      <td>0.010544</td>\n",
              "      <td>0.010309</td>\n",
              "      <td>0.017091</td>\n",
              "      <td>0.015567</td>\n",
              "      <td>0.010954</td>\n",
              "      <td>0.027414</td>\n",
              "      <td>0.023493</td>\n",
              "      <td>0.023909</td>\n",
              "      <td>0.028977</td>\n",
              "      <td>0.029895</td>\n",
              "      <td>0.029973</td>\n",
              "      <td>0.027538</td>\n",
              "      <td>0.029782</td>\n",
              "      <td>0.003219</td>\n",
              "      <td>0.024586</td>\n",
              "      <td>0.005362</td>\n",
              "      <td>0.002446</td>\n",
              "      <td>C1</td>\n",
              "    </tr>\n",
              "    <tr>\n",
              "      <th>3</th>\n",
              "      <td>0.927311</td>\n",
              "      <td>0.010747</td>\n",
              "      <td>0.011300</td>\n",
              "      <td>0.006829</td>\n",
              "      <td>0.076450</td>\n",
              "      <td>0.922007</td>\n",
              "      <td>0.834597</td>\n",
              "      <td>0.006302</td>\n",
              "      <td>0.001674</td>\n",
              "      <td>0.010820</td>\n",
              "      <td>0.000793</td>\n",
              "      <td>0.000229</td>\n",
              "      <td>0.000077</td>\n",
              "      <td>0.000221</td>\n",
              "      <td>0.037053</td>\n",
              "      <td>0.0</td>\n",
              "      <td>0.031649</td>\n",
              "      <td>0.000000</td>\n",
              "      <td>0.010382</td>\n",
              "      <td>0.010510</td>\n",
              "      <td>0.0</td>\n",
              "      <td>0.002956</td>\n",
              "      <td>0.106606</td>\n",
              "      <td>0.018334</td>\n",
              "      <td>0.0</td>\n",
              "      <td>0.004545</td>\n",
              "      <td>0.132332</td>\n",
              "      <td>0.015686</td>\n",
              "      <td>0.020779</td>\n",
              "      <td>0.014834</td>\n",
              "      <td>0.065979</td>\n",
              "      <td>0.029034</td>\n",
              "      <td>0.063872</td>\n",
              "      <td>0.077075</td>\n",
              "      <td>0.076691</td>\n",
              "      <td>0.038373</td>\n",
              "      <td>0.081302</td>\n",
              "      <td>0.059718</td>\n",
              "      <td>0.052036</td>\n",
              "      <td>0.055203</td>\n",
              "      <td>0.054493</td>\n",
              "      <td>0.045761</td>\n",
              "      <td>0.035099</td>\n",
              "      <td>0.036931</td>\n",
              "      <td>0.011010</td>\n",
              "      <td>0.016003</td>\n",
              "      <td>0.017230</td>\n",
              "      <td>0.004920</td>\n",
              "      <td>C1</td>\n",
              "    </tr>\n",
              "    <tr>\n",
              "      <th>4</th>\n",
              "      <td>0.909248</td>\n",
              "      <td>0.002198</td>\n",
              "      <td>0.000613</td>\n",
              "      <td>0.000431</td>\n",
              "      <td>0.017007</td>\n",
              "      <td>0.901973</td>\n",
              "      <td>0.819667</td>\n",
              "      <td>0.006378</td>\n",
              "      <td>0.000740</td>\n",
              "      <td>0.002696</td>\n",
              "      <td>0.000428</td>\n",
              "      <td>0.000202</td>\n",
              "      <td>0.000000</td>\n",
              "      <td>0.000606</td>\n",
              "      <td>0.000000</td>\n",
              "      <td>0.0</td>\n",
              "      <td>0.025376</td>\n",
              "      <td>0.000000</td>\n",
              "      <td>0.000000</td>\n",
              "      <td>0.001789</td>\n",
              "      <td>0.0</td>\n",
              "      <td>0.000358</td>\n",
              "      <td>0.068721</td>\n",
              "      <td>0.000000</td>\n",
              "      <td>0.0</td>\n",
              "      <td>0.000646</td>\n",
              "      <td>0.030876</td>\n",
              "      <td>0.005498</td>\n",
              "      <td>0.011598</td>\n",
              "      <td>0.003738</td>\n",
              "      <td>0.012922</td>\n",
              "      <td>0.007454</td>\n",
              "      <td>0.013053</td>\n",
              "      <td>0.019316</td>\n",
              "      <td>0.018476</td>\n",
              "      <td>0.010316</td>\n",
              "      <td>0.025355</td>\n",
              "      <td>0.016782</td>\n",
              "      <td>0.014812</td>\n",
              "      <td>0.015435</td>\n",
              "      <td>0.013803</td>\n",
              "      <td>0.011124</td>\n",
              "      <td>0.008358</td>\n",
              "      <td>0.009006</td>\n",
              "      <td>0.003017</td>\n",
              "      <td>0.024907</td>\n",
              "      <td>0.002055</td>\n",
              "      <td>0.001270</td>\n",
              "      <td>C1</td>\n",
              "    </tr>\n",
              "    <tr>\n",
              "      <th>5</th>\n",
              "      <td>0.892179</td>\n",
              "      <td>0.005017</td>\n",
              "      <td>0.001320</td>\n",
              "      <td>0.002933</td>\n",
              "      <td>0.022798</td>\n",
              "      <td>0.665091</td>\n",
              "      <td>0.944131</td>\n",
              "      <td>0.005464</td>\n",
              "      <td>0.005891</td>\n",
              "      <td>0.530384</td>\n",
              "      <td>0.002322</td>\n",
              "      <td>0.000165</td>\n",
              "      <td>0.000035</td>\n",
              "      <td>0.000306</td>\n",
              "      <td>0.000000</td>\n",
              "      <td>0.0</td>\n",
              "      <td>0.043589</td>\n",
              "      <td>0.019332</td>\n",
              "      <td>0.000000</td>\n",
              "      <td>0.015920</td>\n",
              "      <td>0.0</td>\n",
              "      <td>0.002675</td>\n",
              "      <td>0.197935</td>\n",
              "      <td>0.055900</td>\n",
              "      <td>0.0</td>\n",
              "      <td>0.022261</td>\n",
              "      <td>0.565658</td>\n",
              "      <td>0.009170</td>\n",
              "      <td>0.012155</td>\n",
              "      <td>0.034948</td>\n",
              "      <td>0.333826</td>\n",
              "      <td>0.138692</td>\n",
              "      <td>0.209272</td>\n",
              "      <td>0.269565</td>\n",
              "      <td>0.220536</td>\n",
              "      <td>0.141203</td>\n",
              "      <td>0.328187</td>\n",
              "      <td>0.236655</td>\n",
              "      <td>0.225381</td>\n",
              "      <td>0.261232</td>\n",
              "      <td>0.251405</td>\n",
              "      <td>0.214776</td>\n",
              "      <td>0.171786</td>\n",
              "      <td>0.175397</td>\n",
              "      <td>0.004753</td>\n",
              "      <td>0.005287</td>\n",
              "      <td>0.002735</td>\n",
              "      <td>0.014990</td>\n",
              "      <td>C1</td>\n",
              "    </tr>\n",
              "  </tbody>\n",
              "</table>\n",
              "</div>"
            ],
            "text/plain": [
              "    CaO+MgO     Al2O3      TiO2  ...        Th         U  Type de roche.1\n",
              "1  1.000000  0.002364  0.001320  ...  0.002721  0.001531               C1\n",
              "2  0.954713  0.003282  0.000847  ...  0.005362  0.002446               C1\n",
              "3  0.927311  0.010747  0.011300  ...  0.017230  0.004920               C1\n",
              "4  0.909248  0.002198  0.000613  ...  0.002055  0.001270               C1\n",
              "5  0.892179  0.005017  0.001320  ...  0.002735  0.014990               C1\n",
              "\n",
              "[5 rows x 49 columns]"
            ]
          },
          "metadata": {
            "tags": []
          },
          "execution_count": 160
        }
      ]
    },
    {
      "cell_type": "markdown",
      "metadata": {
        "id": "hukQGeAZX2oR"
      },
      "source": [
        "### Normalize data **PED**(first 5 lines):"
      ]
    },
    {
      "cell_type": "code",
      "metadata": {
        "colab": {
          "base_uri": "https://localhost:8080/",
          "height": 204
        },
        "id": "j8NdB_jyXTkB",
        "outputId": "6abb51c2-aac0-42eb-829b-94312125a8f2"
      },
      "source": [
        "ped2 = pd2[['S', 'Zn', 'Pb', 'Cu', 'CaO+MgO', 'CaO', 'MgO', 'Fe2O3*', 'Type de roche.1']]\n",
        "ped2.head()"
      ],
      "execution_count": null,
      "outputs": [
        {
          "output_type": "execute_result",
          "data": {
            "text/html": [
              "<div>\n",
              "<style scoped>\n",
              "    .dataframe tbody tr th:only-of-type {\n",
              "        vertical-align: middle;\n",
              "    }\n",
              "\n",
              "    .dataframe tbody tr th {\n",
              "        vertical-align: top;\n",
              "    }\n",
              "\n",
              "    .dataframe thead th {\n",
              "        text-align: right;\n",
              "    }\n",
              "</style>\n",
              "<table border=\"1\" class=\"dataframe\">\n",
              "  <thead>\n",
              "    <tr style=\"text-align: right;\">\n",
              "      <th></th>\n",
              "      <th>S</th>\n",
              "      <th>Zn</th>\n",
              "      <th>Pb</th>\n",
              "      <th>Cu</th>\n",
              "      <th>CaO+MgO</th>\n",
              "      <th>CaO</th>\n",
              "      <th>MgO</th>\n",
              "      <th>Fe2O3*</th>\n",
              "      <th>Type de roche.1</th>\n",
              "    </tr>\n",
              "  </thead>\n",
              "  <tbody>\n",
              "    <tr>\n",
              "      <th>1</th>\n",
              "      <td>0.000220</td>\n",
              "      <td>0.000066</td>\n",
              "      <td>0.000000</td>\n",
              "      <td>0.000063</td>\n",
              "      <td>1.000000</td>\n",
              "      <td>0.896355</td>\n",
              "      <td>1.000000</td>\n",
              "      <td>0.000517</td>\n",
              "      <td>C1</td>\n",
              "    </tr>\n",
              "    <tr>\n",
              "      <th>2</th>\n",
              "      <td>0.000273</td>\n",
              "      <td>0.000173</td>\n",
              "      <td>0.000000</td>\n",
              "      <td>0.000197</td>\n",
              "      <td>0.954713</td>\n",
              "      <td>0.853004</td>\n",
              "      <td>0.959076</td>\n",
              "      <td>0.001158</td>\n",
              "      <td>C1</td>\n",
              "    </tr>\n",
              "    <tr>\n",
              "      <th>3</th>\n",
              "      <td>0.000793</td>\n",
              "      <td>0.000229</td>\n",
              "      <td>0.000077</td>\n",
              "      <td>0.000221</td>\n",
              "      <td>0.927311</td>\n",
              "      <td>0.834597</td>\n",
              "      <td>0.922007</td>\n",
              "      <td>0.006829</td>\n",
              "      <td>C1</td>\n",
              "    </tr>\n",
              "    <tr>\n",
              "      <th>4</th>\n",
              "      <td>0.000428</td>\n",
              "      <td>0.000202</td>\n",
              "      <td>0.000000</td>\n",
              "      <td>0.000606</td>\n",
              "      <td>0.909248</td>\n",
              "      <td>0.819667</td>\n",
              "      <td>0.901973</td>\n",
              "      <td>0.000431</td>\n",
              "      <td>C1</td>\n",
              "    </tr>\n",
              "    <tr>\n",
              "      <th>5</th>\n",
              "      <td>0.002322</td>\n",
              "      <td>0.000165</td>\n",
              "      <td>0.000035</td>\n",
              "      <td>0.000306</td>\n",
              "      <td>0.892179</td>\n",
              "      <td>0.944131</td>\n",
              "      <td>0.665091</td>\n",
              "      <td>0.002933</td>\n",
              "      <td>C1</td>\n",
              "    </tr>\n",
              "  </tbody>\n",
              "</table>\n",
              "</div>"
            ],
            "text/plain": [
              "          S        Zn        Pb  ...       MgO    Fe2O3*  Type de roche.1\n",
              "1  0.000220  0.000066  0.000000  ...  1.000000  0.000517               C1\n",
              "2  0.000273  0.000173  0.000000  ...  0.959076  0.001158               C1\n",
              "3  0.000793  0.000229  0.000077  ...  0.922007  0.006829               C1\n",
              "4  0.000428  0.000202  0.000000  ...  0.901973  0.000431               C1\n",
              "5  0.002322  0.000165  0.000035  ...  0.665091  0.002933               C1\n",
              "\n",
              "[5 rows x 9 columns]"
            ]
          },
          "metadata": {
            "tags": []
          },
          "execution_count": 161
        }
      ]
    },
    {
      "cell_type": "markdown",
      "metadata": {
        "id": "mNsVvDOLYXZB"
      },
      "source": [
        "# S3: Building Classifiers"
      ]
    },
    {
      "cell_type": "markdown",
      "metadata": {
        "id": "8moA-bx7Zdp-"
      },
      "source": [
        "For the Decision Tree, **Descriptive Classifiers** use the sets of data **PD**, **PED** for **Experiments 1, 2** and **PD1**, **PED1** for **Experiment 3**.\n",
        "\n",
        "For the Neural Network, Non- Descriptive Classifiers use the normalized sets of data **PD**, **PED**. Use at least **TWO different Network TOPOLOGIES**; one can be the Tool default one, and the other\n",
        "designed by you. Compare results."
      ]
    },
    {
      "cell_type": "markdown",
      "metadata": {
        "id": "AHY5swvRejwu"
      },
      "source": [
        "Declare feature vector and target variable:"
      ]
    },
    {
      "cell_type": "code",
      "metadata": {
        "id": "C1IPHNm3ebwG"
      },
      "source": [
        "X_pd = p_data.drop(['Type de roche.1'], axis=1)\n",
        "y_pd = p_data['Type de roche.1']"
      ],
      "execution_count": null,
      "outputs": []
    },
    {
      "cell_type": "code",
      "metadata": {
        "id": "eH_MJSS0hTZo"
      },
      "source": [
        "X_ped = e_data.drop(['Type de roche.1'], axis=1)\n",
        "y_ped = e_data['Type de roche.1']"
      ],
      "execution_count": null,
      "outputs": []
    },
    {
      "cell_type": "markdown",
      "metadata": {
        "id": "yI3CYGwLfsQp"
      },
      "source": [
        "Split data into separate training and test set:"
      ]
    },
    {
      "cell_type": "code",
      "metadata": {
        "id": "3eFaVFt0futC"
      },
      "source": [
        "X_train_pd, X_test_pd, y_train_pd, y_test_pd = train_test_split(X_pd, y_pd, test_size = 0.33, random_state = 42)"
      ],
      "execution_count": null,
      "outputs": []
    },
    {
      "cell_type": "code",
      "metadata": {
        "id": "TbAlTMkQhV3Y"
      },
      "source": [
        "X_train_ped, X_test_ped, y_train_ped, y_test_ped = train_test_split(X_ped, y_ped, test_size = 0.33, random_state = 42)"
      ],
      "execution_count": null,
      "outputs": []
    },
    {
      "cell_type": "markdown",
      "metadata": {
        "id": "wrzvhptpZ9Hx"
      },
      "source": [
        "### Experiment 1: full classification\n",
        "\n",
        "Use the **PD** and **PED** data to perform the **full classification**, i.e. to build\n",
        "Decision Tree classifier, and Neural Network Classifier for all classes **C1- C6** simultaneously."
      ]
    },
    {
      "cell_type": "markdown",
      "metadata": {
        "id": "bCej-gbbhA7A"
      },
      "source": [
        "#### Decision Tree classifier"
      ]
    },
    {
      "cell_type": "code",
      "metadata": {
        "id": "cOOZGrqO5eAD"
      },
      "source": [
        "def decision_cls(x_train, y_train, x_test, y_test, classes):\n",
        "  # Create Decision Tree classifer object\n",
        "  clf = DecisionTreeClassifier()\n",
        "\n",
        "  # Train Decision Tree Classifer\n",
        "  clf = clf.fit(x_train, y_train)\n",
        "\n",
        "  #Predict the response for test dataset\n",
        "  y_pred = clf.predict(x_test)\n",
        "\n",
        "  # Model Accuracy, how often is the classifier correct?\n",
        "  print(\"Accuracy:\",metrics.accuracy_score(y_test, y_pred))\n",
        "  return clf "
      ],
      "execution_count": null,
      "outputs": []
    },
    {
      "cell_type": "markdown",
      "metadata": {
        "id": "_Q_JrpliryNV"
      },
      "source": [
        "##### For **PD**:"
      ]
    },
    {
      "cell_type": "code",
      "metadata": {
        "colab": {
          "base_uri": "https://localhost:8080/",
          "height": 953
        },
        "id": "BZRgHt5ZaLc-",
        "outputId": "bf6bd05b-300b-4ebc-a04f-6dd404d882e7"
      },
      "source": [
        "classes = ['C1','C2','C3','C4','C5','C6']\n",
        "clf = decision_cls(X_train_pd, y_train_pd, X_test_pd, y_test_pd, classes)\n",
        "gv = graphviz.Source(export_graphviz(clf, out_file=None, \n",
        "                           feature_names = X_train_pd.columns,\n",
        "                           class_names = classes,\n",
        "                         filled=True, rounded=True,  \n",
        "                         special_characters=True)  ) \n",
        "gv.render(filename = \"/content/drive/My Drive/CSE521/full_cls_tree_pd\")\n",
        "gv\n"
      ],
      "execution_count": null,
      "outputs": [
        {
          "output_type": "stream",
          "text": [
            "Accuracy: 0.9090909090909091\n"
          ],
          "name": "stdout"
        },
        {
          "output_type": "execute_result",
          "data": {
            "text/plain": [
              "<graphviz.files.Source at 0x7ff5be0d32d0>"
            ],
            "image/svg+xml": "<?xml version=\"1.0\" encoding=\"UTF-8\" standalone=\"no\"?>\n<!DOCTYPE svg PUBLIC \"-//W3C//DTD SVG 1.1//EN\"\n \"http://www.w3.org/Graphics/SVG/1.1/DTD/svg11.dtd\">\n<!-- Generated by graphviz version 2.40.1 (20161225.0304)\n -->\n<!-- Title: Tree Pages: 1 -->\n<svg width=\"1168pt\" height=\"671pt\"\n viewBox=\"0.00 0.00 1168.00 671.00\" xmlns=\"http://www.w3.org/2000/svg\" xmlns:xlink=\"http://www.w3.org/1999/xlink\">\n<g id=\"graph0\" class=\"graph\" transform=\"scale(1 1) rotate(0) translate(4 667)\">\n<title>Tree</title>\n<polygon fill=\"#ffffff\" stroke=\"transparent\" points=\"-4,4 -4,-667 1164,-667 1164,4 -4,4\"/>\n<!-- 0 -->\n<g id=\"node1\" class=\"node\">\n<title>0</title>\n<path fill=\"#eca16b\" stroke=\"#000000\" d=\"M704,-663C704,-663 558,-663 558,-663 552,-663 546,-657 546,-651 546,-651 546,-592 546,-592 546,-586 552,-580 558,-580 558,-580 704,-580 704,-580 710,-580 716,-586 716,-592 716,-592 716,-651 716,-651 716,-657 710,-663 704,-663\"/>\n<text text-anchor=\"start\" x=\"587.5\" y=\"-647.8\" font-family=\"Helvetica,sans-Serif\" font-size=\"14.00\" fill=\"#000000\">S ≤ 2021.003</text>\n<text text-anchor=\"start\" x=\"593\" y=\"-632.8\" font-family=\"Helvetica,sans-Serif\" font-size=\"14.00\" fill=\"#000000\">gini = 0.394</text>\n<text text-anchor=\"start\" x=\"587\" y=\"-617.8\" font-family=\"Helvetica,sans-Serif\" font-size=\"14.00\" fill=\"#000000\">samples = 65</text>\n<text text-anchor=\"start\" x=\"554\" y=\"-602.8\" font-family=\"Helvetica,sans-Serif\" font-size=\"14.00\" fill=\"#000000\">value = [50, 3, 2, 3, 6, 1]</text>\n<text text-anchor=\"start\" x=\"596.5\" y=\"-587.8\" font-family=\"Helvetica,sans-Serif\" font-size=\"14.00\" fill=\"#000000\">class = C1</text>\n</g>\n<!-- 1 -->\n<g id=\"node2\" class=\"node\">\n<title>1</title>\n<path fill=\"#e78b48\" stroke=\"#000000\" d=\"M612,-544C612,-544 466,-544 466,-544 460,-544 454,-538 454,-532 454,-532 454,-473 454,-473 454,-467 460,-461 466,-461 466,-461 612,-461 612,-461 618,-461 624,-467 624,-473 624,-473 624,-532 624,-532 624,-538 618,-544 612,-544\"/>\n<text text-anchor=\"start\" x=\"503.5\" y=\"-528.8\" font-family=\"Helvetica,sans-Serif\" font-size=\"14.00\" fill=\"#000000\">Cd ≤ 0.654</text>\n<text text-anchor=\"start\" x=\"505.5\" y=\"-513.8\" font-family=\"Helvetica,sans-Serif\" font-size=\"14.00\" fill=\"#000000\">gini = 0.14</text>\n<text text-anchor=\"start\" x=\"495\" y=\"-498.8\" font-family=\"Helvetica,sans-Serif\" font-size=\"14.00\" fill=\"#000000\">samples = 54</text>\n<text text-anchor=\"start\" x=\"462\" y=\"-483.8\" font-family=\"Helvetica,sans-Serif\" font-size=\"14.00\" fill=\"#000000\">value = [50, 0, 0, 2, 2, 0]</text>\n<text text-anchor=\"start\" x=\"504.5\" y=\"-468.8\" font-family=\"Helvetica,sans-Serif\" font-size=\"14.00\" fill=\"#000000\">class = C1</text>\n</g>\n<!-- 0&#45;&gt;1 -->\n<g id=\"edge1\" class=\"edge\">\n<title>0&#45;&gt;1</title>\n<path fill=\"none\" stroke=\"#000000\" d=\"M598.8229,-579.8796C591.9296,-570.9633 584.5798,-561.4565 577.4761,-552.268\"/>\n<polygon fill=\"#000000\" stroke=\"#000000\" points=\"580.1999,-550.0687 571.3145,-544.2981 574.6619,-554.3502 580.1999,-550.0687\"/>\n<text text-anchor=\"middle\" x=\"568.1413\" y=\"-565.3959\" font-family=\"Helvetica,sans-Serif\" font-size=\"14.00\" fill=\"#000000\">True</text>\n</g>\n<!-- 8 -->\n<g id=\"node9\" class=\"node\">\n<title>8</title>\n<path fill=\"#efe6fc\" stroke=\"#000000\" d=\"M878,-544C878,-544 740,-544 740,-544 734,-544 728,-538 728,-532 728,-532 728,-473 728,-473 728,-467 734,-461 740,-461 740,-461 878,-461 878,-461 884,-461 890,-467 890,-473 890,-473 890,-532 890,-532 890,-538 884,-544 878,-544\"/>\n<text text-anchor=\"start\" x=\"769.5\" y=\"-528.8\" font-family=\"Helvetica,sans-Serif\" font-size=\"14.00\" fill=\"#000000\">Ce ≤ 17.408</text>\n<text text-anchor=\"start\" x=\"771\" y=\"-513.8\" font-family=\"Helvetica,sans-Serif\" font-size=\"14.00\" fill=\"#000000\">gini = 0.744</text>\n<text text-anchor=\"start\" x=\"765\" y=\"-498.8\" font-family=\"Helvetica,sans-Serif\" font-size=\"14.00\" fill=\"#000000\">samples = 11</text>\n<text text-anchor=\"start\" x=\"736\" y=\"-483.8\" font-family=\"Helvetica,sans-Serif\" font-size=\"14.00\" fill=\"#000000\">value = [0, 3, 2, 1, 4, 1]</text>\n<text text-anchor=\"start\" x=\"774.5\" y=\"-468.8\" font-family=\"Helvetica,sans-Serif\" font-size=\"14.00\" fill=\"#000000\">class = C5</text>\n</g>\n<!-- 0&#45;&gt;8 -->\n<g id=\"edge8\" class=\"edge\">\n<title>0&#45;&gt;8</title>\n<path fill=\"none\" stroke=\"#000000\" d=\"M693.2558,-579.8796C707.7542,-570.1868 723.2965,-559.7961 738.1363,-549.8752\"/>\n<polygon fill=\"#000000\" stroke=\"#000000\" points=\"740.4113,-552.5644 746.7794,-544.0969 736.5208,-546.7451 740.4113,-552.5644\"/>\n<text text-anchor=\"middle\" x=\"741.9082\" y=\"-564.9178\" font-family=\"Helvetica,sans-Serif\" font-size=\"14.00\" fill=\"#000000\">False</text>\n</g>\n<!-- 2 -->\n<g id=\"node3\" class=\"node\">\n<title>2</title>\n<path fill=\"#e6843d\" stroke=\"#000000\" d=\"M342,-425C342,-425 196,-425 196,-425 190,-425 184,-419 184,-413 184,-413 184,-354 184,-354 184,-348 190,-342 196,-342 196,-342 342,-342 342,-342 348,-342 354,-348 354,-354 354,-354 354,-413 354,-413 354,-419 348,-425 342,-425\"/>\n<text text-anchor=\"start\" x=\"232\" y=\"-409.8\" font-family=\"Helvetica,sans-Serif\" font-size=\"14.00\" fill=\"#000000\">Zr ≤ 44.316</text>\n<text text-anchor=\"start\" x=\"231\" y=\"-394.8\" font-family=\"Helvetica,sans-Serif\" font-size=\"14.00\" fill=\"#000000\">gini = 0.038</text>\n<text text-anchor=\"start\" x=\"225\" y=\"-379.8\" font-family=\"Helvetica,sans-Serif\" font-size=\"14.00\" fill=\"#000000\">samples = 51</text>\n<text text-anchor=\"start\" x=\"192\" y=\"-364.8\" font-family=\"Helvetica,sans-Serif\" font-size=\"14.00\" fill=\"#000000\">value = [50, 0, 0, 0, 1, 0]</text>\n<text text-anchor=\"start\" x=\"234.5\" y=\"-349.8\" font-family=\"Helvetica,sans-Serif\" font-size=\"14.00\" fill=\"#000000\">class = C1</text>\n</g>\n<!-- 1&#45;&gt;2 -->\n<g id=\"edge2\" class=\"edge\">\n<title>1&#45;&gt;2</title>\n<path fill=\"none\" stroke=\"#000000\" d=\"M453.9409,-465.011C425.2081,-452.3473 392.9618,-438.135 363.5404,-425.1678\"/>\n<polygon fill=\"#000000\" stroke=\"#000000\" points=\"364.6575,-421.8353 354.0953,-421.005 361.8343,-428.2408 364.6575,-421.8353\"/>\n</g>\n<!-- 5 -->\n<g id=\"node6\" class=\"node\">\n<title>5</title>\n<path fill=\"#9ccef2\" stroke=\"#000000\" d=\"M608,-425C608,-425 470,-425 470,-425 464,-425 458,-419 458,-413 458,-413 458,-354 458,-354 458,-348 464,-342 470,-342 470,-342 608,-342 608,-342 614,-342 620,-348 620,-354 620,-354 620,-413 620,-413 620,-419 614,-425 608,-425\"/>\n<text text-anchor=\"start\" x=\"506\" y=\"-409.8\" font-family=\"Helvetica,sans-Serif\" font-size=\"14.00\" fill=\"#000000\">Ni ≤ 7.713</text>\n<text text-anchor=\"start\" x=\"501\" y=\"-394.8\" font-family=\"Helvetica,sans-Serif\" font-size=\"14.00\" fill=\"#000000\">gini = 0.444</text>\n<text text-anchor=\"start\" x=\"499.5\" y=\"-379.8\" font-family=\"Helvetica,sans-Serif\" font-size=\"14.00\" fill=\"#000000\">samples = 3</text>\n<text text-anchor=\"start\" x=\"466\" y=\"-364.8\" font-family=\"Helvetica,sans-Serif\" font-size=\"14.00\" fill=\"#000000\">value = [0, 0, 0, 2, 1, 0]</text>\n<text text-anchor=\"start\" x=\"504.5\" y=\"-349.8\" font-family=\"Helvetica,sans-Serif\" font-size=\"14.00\" fill=\"#000000\">class = C4</text>\n</g>\n<!-- 1&#45;&gt;5 -->\n<g id=\"edge5\" class=\"edge\">\n<title>1&#45;&gt;5</title>\n<path fill=\"none\" stroke=\"#000000\" d=\"M539,-460.8796C539,-452.6838 539,-443.9891 539,-435.5013\"/>\n<polygon fill=\"#000000\" stroke=\"#000000\" points=\"542.5001,-435.298 539,-425.2981 535.5001,-435.2981 542.5001,-435.298\"/>\n</g>\n<!-- 3 -->\n<g id=\"node4\" class=\"node\">\n<title>3</title>\n<path fill=\"#e58139\" stroke=\"#000000\" d=\"M158,-298.5C158,-298.5 12,-298.5 12,-298.5 6,-298.5 0,-292.5 0,-286.5 0,-286.5 0,-242.5 0,-242.5 0,-236.5 6,-230.5 12,-230.5 12,-230.5 158,-230.5 158,-230.5 164,-230.5 170,-236.5 170,-242.5 170,-242.5 170,-286.5 170,-286.5 170,-292.5 164,-298.5 158,-298.5\"/>\n<text text-anchor=\"start\" x=\"55.5\" y=\"-283.3\" font-family=\"Helvetica,sans-Serif\" font-size=\"14.00\" fill=\"#000000\">gini = 0.0</text>\n<text text-anchor=\"start\" x=\"41\" y=\"-268.3\" font-family=\"Helvetica,sans-Serif\" font-size=\"14.00\" fill=\"#000000\">samples = 50</text>\n<text text-anchor=\"start\" x=\"8\" y=\"-253.3\" font-family=\"Helvetica,sans-Serif\" font-size=\"14.00\" fill=\"#000000\">value = [50, 0, 0, 0, 0, 0]</text>\n<text text-anchor=\"start\" x=\"50.5\" y=\"-238.3\" font-family=\"Helvetica,sans-Serif\" font-size=\"14.00\" fill=\"#000000\">class = C1</text>\n</g>\n<!-- 2&#45;&gt;3 -->\n<g id=\"edge3\" class=\"edge\">\n<title>2&#45;&gt;3</title>\n<path fill=\"none\" stroke=\"#000000\" d=\"M204.6457,-341.8796C185.6833,-329.6158 164.9934,-316.2348 146.2326,-304.1015\"/>\n<polygon fill=\"#000000\" stroke=\"#000000\" points=\"148.0593,-301.1148 137.7617,-298.623 144.2579,-306.9926 148.0593,-301.1148\"/>\n</g>\n<!-- 4 -->\n<g id=\"node5\" class=\"node\">\n<title>4</title>\n<path fill=\"#8139e5\" stroke=\"#000000\" d=\"M338,-298.5C338,-298.5 200,-298.5 200,-298.5 194,-298.5 188,-292.5 188,-286.5 188,-286.5 188,-242.5 188,-242.5 188,-236.5 194,-230.5 200,-230.5 200,-230.5 338,-230.5 338,-230.5 344,-230.5 350,-236.5 350,-242.5 350,-242.5 350,-286.5 350,-286.5 350,-292.5 344,-298.5 338,-298.5\"/>\n<text text-anchor=\"start\" x=\"239.5\" y=\"-283.3\" font-family=\"Helvetica,sans-Serif\" font-size=\"14.00\" fill=\"#000000\">gini = 0.0</text>\n<text text-anchor=\"start\" x=\"229.5\" y=\"-268.3\" font-family=\"Helvetica,sans-Serif\" font-size=\"14.00\" fill=\"#000000\">samples = 1</text>\n<text text-anchor=\"start\" x=\"196\" y=\"-253.3\" font-family=\"Helvetica,sans-Serif\" font-size=\"14.00\" fill=\"#000000\">value = [0, 0, 0, 0, 1, 0]</text>\n<text text-anchor=\"start\" x=\"234.5\" y=\"-238.3\" font-family=\"Helvetica,sans-Serif\" font-size=\"14.00\" fill=\"#000000\">class = C5</text>\n</g>\n<!-- 2&#45;&gt;4 -->\n<g id=\"edge4\" class=\"edge\">\n<title>2&#45;&gt;4</title>\n<path fill=\"none\" stroke=\"#000000\" d=\"M269,-341.8796C269,-331.2134 269,-319.7021 269,-308.9015\"/>\n<polygon fill=\"#000000\" stroke=\"#000000\" points=\"272.5001,-308.8149 269,-298.8149 265.5001,-308.815 272.5001,-308.8149\"/>\n</g>\n<!-- 6 -->\n<g id=\"node7\" class=\"node\">\n<title>6</title>\n<path fill=\"#399de5\" stroke=\"#000000\" d=\"M518,-298.5C518,-298.5 380,-298.5 380,-298.5 374,-298.5 368,-292.5 368,-286.5 368,-286.5 368,-242.5 368,-242.5 368,-236.5 374,-230.5 380,-230.5 380,-230.5 518,-230.5 518,-230.5 524,-230.5 530,-236.5 530,-242.5 530,-242.5 530,-286.5 530,-286.5 530,-292.5 524,-298.5 518,-298.5\"/>\n<text text-anchor=\"start\" x=\"419.5\" y=\"-283.3\" font-family=\"Helvetica,sans-Serif\" font-size=\"14.00\" fill=\"#000000\">gini = 0.0</text>\n<text text-anchor=\"start\" x=\"409.5\" y=\"-268.3\" font-family=\"Helvetica,sans-Serif\" font-size=\"14.00\" fill=\"#000000\">samples = 2</text>\n<text text-anchor=\"start\" x=\"376\" y=\"-253.3\" font-family=\"Helvetica,sans-Serif\" font-size=\"14.00\" fill=\"#000000\">value = [0, 0, 0, 2, 0, 0]</text>\n<text text-anchor=\"start\" x=\"414.5\" y=\"-238.3\" font-family=\"Helvetica,sans-Serif\" font-size=\"14.00\" fill=\"#000000\">class = C4</text>\n</g>\n<!-- 5&#45;&gt;6 -->\n<g id=\"edge6\" class=\"edge\">\n<title>5&#45;&gt;6</title>\n<path fill=\"none\" stroke=\"#000000\" d=\"M507.5224,-341.8796C498.9565,-330.5536 489.67,-318.2748 481.0717,-306.9058\"/>\n<polygon fill=\"#000000\" stroke=\"#000000\" points=\"483.7762,-304.6795 474.9525,-298.8149 478.1931,-308.902 483.7762,-304.6795\"/>\n</g>\n<!-- 7 -->\n<g id=\"node8\" class=\"node\">\n<title>7</title>\n<path fill=\"#8139e5\" stroke=\"#000000\" d=\"M698,-298.5C698,-298.5 560,-298.5 560,-298.5 554,-298.5 548,-292.5 548,-286.5 548,-286.5 548,-242.5 548,-242.5 548,-236.5 554,-230.5 560,-230.5 560,-230.5 698,-230.5 698,-230.5 704,-230.5 710,-236.5 710,-242.5 710,-242.5 710,-286.5 710,-286.5 710,-292.5 704,-298.5 698,-298.5\"/>\n<text text-anchor=\"start\" x=\"599.5\" y=\"-283.3\" font-family=\"Helvetica,sans-Serif\" font-size=\"14.00\" fill=\"#000000\">gini = 0.0</text>\n<text text-anchor=\"start\" x=\"589.5\" y=\"-268.3\" font-family=\"Helvetica,sans-Serif\" font-size=\"14.00\" fill=\"#000000\">samples = 1</text>\n<text text-anchor=\"start\" x=\"556\" y=\"-253.3\" font-family=\"Helvetica,sans-Serif\" font-size=\"14.00\" fill=\"#000000\">value = [0, 0, 0, 0, 1, 0]</text>\n<text text-anchor=\"start\" x=\"594.5\" y=\"-238.3\" font-family=\"Helvetica,sans-Serif\" font-size=\"14.00\" fill=\"#000000\">class = C5</text>\n</g>\n<!-- 5&#45;&gt;7 -->\n<g id=\"edge7\" class=\"edge\">\n<title>5&#45;&gt;7</title>\n<path fill=\"none\" stroke=\"#000000\" d=\"M570.4776,-341.8796C579.0435,-330.5536 588.33,-318.2748 596.9283,-306.9058\"/>\n<polygon fill=\"#000000\" stroke=\"#000000\" points=\"599.8069,-308.902 603.0475,-298.8149 594.2238,-304.6795 599.8069,-308.902\"/>\n</g>\n<!-- 9 -->\n<g id=\"node10\" class=\"node\">\n<title>9</title>\n<path fill=\"#ebfad7\" stroke=\"#000000\" d=\"M878,-425C878,-425 740,-425 740,-425 734,-425 728,-419 728,-413 728,-413 728,-354 728,-354 728,-348 734,-342 740,-342 740,-342 878,-342 878,-342 884,-342 890,-348 890,-354 890,-354 890,-413 890,-413 890,-419 884,-425 878,-425\"/>\n<text text-anchor=\"start\" x=\"769.5\" y=\"-409.8\" font-family=\"Helvetica,sans-Serif\" font-size=\"14.00\" fill=\"#000000\">Pb ≤ 16.744</text>\n<text text-anchor=\"start\" x=\"771\" y=\"-394.8\" font-family=\"Helvetica,sans-Serif\" font-size=\"14.00\" fill=\"#000000\">gini = 0.694</text>\n<text text-anchor=\"start\" x=\"769.5\" y=\"-379.8\" font-family=\"Helvetica,sans-Serif\" font-size=\"14.00\" fill=\"#000000\">samples = 7</text>\n<text text-anchor=\"start\" x=\"736\" y=\"-364.8\" font-family=\"Helvetica,sans-Serif\" font-size=\"14.00\" fill=\"#000000\">value = [0, 3, 2, 1, 0, 1]</text>\n<text text-anchor=\"start\" x=\"774.5\" y=\"-349.8\" font-family=\"Helvetica,sans-Serif\" font-size=\"14.00\" fill=\"#000000\">class = C2</text>\n</g>\n<!-- 8&#45;&gt;9 -->\n<g id=\"edge9\" class=\"edge\">\n<title>8&#45;&gt;9</title>\n<path fill=\"none\" stroke=\"#000000\" d=\"M809,-460.8796C809,-452.6838 809,-443.9891 809,-435.5013\"/>\n<polygon fill=\"#000000\" stroke=\"#000000\" points=\"812.5001,-435.298 809,-425.2981 805.5001,-435.2981 812.5001,-435.298\"/>\n</g>\n<!-- 16 -->\n<g id=\"node17\" class=\"node\">\n<title>16</title>\n<path fill=\"#8139e5\" stroke=\"#000000\" d=\"M1058,-417.5C1058,-417.5 920,-417.5 920,-417.5 914,-417.5 908,-411.5 908,-405.5 908,-405.5 908,-361.5 908,-361.5 908,-355.5 914,-349.5 920,-349.5 920,-349.5 1058,-349.5 1058,-349.5 1064,-349.5 1070,-355.5 1070,-361.5 1070,-361.5 1070,-405.5 1070,-405.5 1070,-411.5 1064,-417.5 1058,-417.5\"/>\n<text text-anchor=\"start\" x=\"959.5\" y=\"-402.3\" font-family=\"Helvetica,sans-Serif\" font-size=\"14.00\" fill=\"#000000\">gini = 0.0</text>\n<text text-anchor=\"start\" x=\"949.5\" y=\"-387.3\" font-family=\"Helvetica,sans-Serif\" font-size=\"14.00\" fill=\"#000000\">samples = 4</text>\n<text text-anchor=\"start\" x=\"916\" y=\"-372.3\" font-family=\"Helvetica,sans-Serif\" font-size=\"14.00\" fill=\"#000000\">value = [0, 0, 0, 0, 4, 0]</text>\n<text text-anchor=\"start\" x=\"954.5\" y=\"-357.3\" font-family=\"Helvetica,sans-Serif\" font-size=\"14.00\" fill=\"#000000\">class = C5</text>\n</g>\n<!-- 8&#45;&gt;16 -->\n<g id=\"edge16\" class=\"edge\">\n<title>8&#45;&gt;16</title>\n<path fill=\"none\" stroke=\"#000000\" d=\"M871.9553,-460.8796C890.3384,-448.7263 910.3811,-435.4759 928.6021,-423.4297\"/>\n<polygon fill=\"#000000\" stroke=\"#000000\" points=\"930.9737,-426.0576 937.3853,-417.623 927.1133,-420.2183 930.9737,-426.0576\"/>\n</g>\n<!-- 10 -->\n<g id=\"node11\" class=\"node\">\n<title>10</title>\n<path fill=\"#9de539\" stroke=\"#000000\" d=\"M878,-298.5C878,-298.5 740,-298.5 740,-298.5 734,-298.5 728,-292.5 728,-286.5 728,-286.5 728,-242.5 728,-242.5 728,-236.5 734,-230.5 740,-230.5 740,-230.5 878,-230.5 878,-230.5 884,-230.5 890,-236.5 890,-242.5 890,-242.5 890,-286.5 890,-286.5 890,-292.5 884,-298.5 878,-298.5\"/>\n<text text-anchor=\"start\" x=\"779.5\" y=\"-283.3\" font-family=\"Helvetica,sans-Serif\" font-size=\"14.00\" fill=\"#000000\">gini = 0.0</text>\n<text text-anchor=\"start\" x=\"769.5\" y=\"-268.3\" font-family=\"Helvetica,sans-Serif\" font-size=\"14.00\" fill=\"#000000\">samples = 3</text>\n<text text-anchor=\"start\" x=\"736\" y=\"-253.3\" font-family=\"Helvetica,sans-Serif\" font-size=\"14.00\" fill=\"#000000\">value = [0, 3, 0, 0, 0, 0]</text>\n<text text-anchor=\"start\" x=\"774.5\" y=\"-238.3\" font-family=\"Helvetica,sans-Serif\" font-size=\"14.00\" fill=\"#000000\">class = C2</text>\n</g>\n<!-- 9&#45;&gt;10 -->\n<g id=\"edge10\" class=\"edge\">\n<title>9&#45;&gt;10</title>\n<path fill=\"none\" stroke=\"#000000\" d=\"M809,-341.8796C809,-331.2134 809,-319.7021 809,-308.9015\"/>\n<polygon fill=\"#000000\" stroke=\"#000000\" points=\"812.5001,-308.8149 809,-298.8149 805.5001,-308.815 812.5001,-308.8149\"/>\n</g>\n<!-- 11 -->\n<g id=\"node12\" class=\"node\">\n<title>11</title>\n<path fill=\"#bdf6d5\" stroke=\"#000000\" d=\"M1058,-306C1058,-306 920,-306 920,-306 914,-306 908,-300 908,-294 908,-294 908,-235 908,-235 908,-229 914,-223 920,-223 920,-223 1058,-223 1058,-223 1064,-223 1070,-229 1070,-235 1070,-235 1070,-294 1070,-294 1070,-300 1064,-306 1058,-306\"/>\n<text text-anchor=\"start\" x=\"941.5\" y=\"-290.8\" font-family=\"Helvetica,sans-Serif\" font-size=\"14.00\" fill=\"#000000\">Pb ≤ 5694.755</text>\n<text text-anchor=\"start\" x=\"951\" y=\"-275.8\" font-family=\"Helvetica,sans-Serif\" font-size=\"14.00\" fill=\"#000000\">gini = 0.625</text>\n<text text-anchor=\"start\" x=\"949.5\" y=\"-260.8\" font-family=\"Helvetica,sans-Serif\" font-size=\"14.00\" fill=\"#000000\">samples = 4</text>\n<text text-anchor=\"start\" x=\"916\" y=\"-245.8\" font-family=\"Helvetica,sans-Serif\" font-size=\"14.00\" fill=\"#000000\">value = [0, 0, 2, 1, 0, 1]</text>\n<text text-anchor=\"start\" x=\"954.5\" y=\"-230.8\" font-family=\"Helvetica,sans-Serif\" font-size=\"14.00\" fill=\"#000000\">class = C3</text>\n</g>\n<!-- 9&#45;&gt;11 -->\n<g id=\"edge11\" class=\"edge\">\n<title>9&#45;&gt;11</title>\n<path fill=\"none\" stroke=\"#000000\" d=\"M871.9553,-341.8796C886.6166,-332.1868 902.3336,-321.7961 917.3401,-311.8752\"/>\n<polygon fill=\"#000000\" stroke=\"#000000\" points=\"919.6687,-314.5315 926.0803,-306.0969 915.8082,-308.6922 919.6687,-314.5315\"/>\n</g>\n<!-- 12 -->\n<g id=\"node13\" class=\"node\">\n<title>12</title>\n<path fill=\"#ffffff\" stroke=\"#000000\" d=\"M968,-187C968,-187 830,-187 830,-187 824,-187 818,-181 818,-175 818,-175 818,-116 818,-116 818,-110 824,-104 830,-104 830,-104 968,-104 968,-104 974,-104 980,-110 980,-116 980,-116 980,-175 980,-175 980,-181 974,-187 968,-187\"/>\n<text text-anchor=\"start\" x=\"862.5\" y=\"-171.8\" font-family=\"Helvetica,sans-Serif\" font-size=\"14.00\" fill=\"#000000\">Mo ≤ 1.561</text>\n<text text-anchor=\"start\" x=\"869.5\" y=\"-156.8\" font-family=\"Helvetica,sans-Serif\" font-size=\"14.00\" fill=\"#000000\">gini = 0.5</text>\n<text text-anchor=\"start\" x=\"859.5\" y=\"-141.8\" font-family=\"Helvetica,sans-Serif\" font-size=\"14.00\" fill=\"#000000\">samples = 2</text>\n<text text-anchor=\"start\" x=\"826\" y=\"-126.8\" font-family=\"Helvetica,sans-Serif\" font-size=\"14.00\" fill=\"#000000\">value = [0, 0, 0, 1, 0, 1]</text>\n<text text-anchor=\"start\" x=\"864.5\" y=\"-111.8\" font-family=\"Helvetica,sans-Serif\" font-size=\"14.00\" fill=\"#000000\">class = C4</text>\n</g>\n<!-- 11&#45;&gt;12 -->\n<g id=\"edge12\" class=\"edge\">\n<title>11&#45;&gt;12</title>\n<path fill=\"none\" stroke=\"#000000\" d=\"M957.5224,-222.8796C950.8471,-214.0534 943.7342,-204.6485 936.8504,-195.5466\"/>\n<polygon fill=\"#000000\" stroke=\"#000000\" points=\"939.4357,-193.1626 930.612,-187.2981 933.8526,-197.3852 939.4357,-193.1626\"/>\n</g>\n<!-- 15 -->\n<g id=\"node16\" class=\"node\">\n<title>15</title>\n<path fill=\"#39e581\" stroke=\"#000000\" d=\"M1148,-179.5C1148,-179.5 1010,-179.5 1010,-179.5 1004,-179.5 998,-173.5 998,-167.5 998,-167.5 998,-123.5 998,-123.5 998,-117.5 1004,-111.5 1010,-111.5 1010,-111.5 1148,-111.5 1148,-111.5 1154,-111.5 1160,-117.5 1160,-123.5 1160,-123.5 1160,-167.5 1160,-167.5 1160,-173.5 1154,-179.5 1148,-179.5\"/>\n<text text-anchor=\"start\" x=\"1049.5\" y=\"-164.3\" font-family=\"Helvetica,sans-Serif\" font-size=\"14.00\" fill=\"#000000\">gini = 0.0</text>\n<text text-anchor=\"start\" x=\"1039.5\" y=\"-149.3\" font-family=\"Helvetica,sans-Serif\" font-size=\"14.00\" fill=\"#000000\">samples = 2</text>\n<text text-anchor=\"start\" x=\"1006\" y=\"-134.3\" font-family=\"Helvetica,sans-Serif\" font-size=\"14.00\" fill=\"#000000\">value = [0, 0, 2, 0, 0, 0]</text>\n<text text-anchor=\"start\" x=\"1044.5\" y=\"-119.3\" font-family=\"Helvetica,sans-Serif\" font-size=\"14.00\" fill=\"#000000\">class = C3</text>\n</g>\n<!-- 11&#45;&gt;15 -->\n<g id=\"edge15\" class=\"edge\">\n<title>11&#45;&gt;15</title>\n<path fill=\"none\" stroke=\"#000000\" d=\"M1020.4776,-222.8796C1029.0435,-211.5536 1038.33,-199.2748 1046.9283,-187.9058\"/>\n<polygon fill=\"#000000\" stroke=\"#000000\" points=\"1049.8069,-189.902 1053.0475,-179.8149 1044.2238,-185.6795 1049.8069,-189.902\"/>\n</g>\n<!-- 13 -->\n<g id=\"node14\" class=\"node\">\n<title>13</title>\n<path fill=\"#399de5\" stroke=\"#000000\" d=\"M878,-68C878,-68 740,-68 740,-68 734,-68 728,-62 728,-56 728,-56 728,-12 728,-12 728,-6 734,0 740,0 740,0 878,0 878,0 884,0 890,-6 890,-12 890,-12 890,-56 890,-56 890,-62 884,-68 878,-68\"/>\n<text text-anchor=\"start\" x=\"779.5\" y=\"-52.8\" font-family=\"Helvetica,sans-Serif\" font-size=\"14.00\" fill=\"#000000\">gini = 0.0</text>\n<text text-anchor=\"start\" x=\"769.5\" y=\"-37.8\" font-family=\"Helvetica,sans-Serif\" font-size=\"14.00\" fill=\"#000000\">samples = 1</text>\n<text text-anchor=\"start\" x=\"736\" y=\"-22.8\" font-family=\"Helvetica,sans-Serif\" font-size=\"14.00\" fill=\"#000000\">value = [0, 0, 0, 1, 0, 0]</text>\n<text text-anchor=\"start\" x=\"774.5\" y=\"-7.8\" font-family=\"Helvetica,sans-Serif\" font-size=\"14.00\" fill=\"#000000\">class = C4</text>\n</g>\n<!-- 12&#45;&gt;13 -->\n<g id=\"edge13\" class=\"edge\">\n<title>12&#45;&gt;13</title>\n<path fill=\"none\" stroke=\"#000000\" d=\"M865.4873,-103.9815C858.143,-94.8828 850.3612,-85.242 842.9981,-76.1199\"/>\n<polygon fill=\"#000000\" stroke=\"#000000\" points=\"845.6612,-73.8467 836.6568,-68.2637 840.2143,-78.2434 845.6612,-73.8467\"/>\n</g>\n<!-- 14 -->\n<g id=\"node15\" class=\"node\">\n<title>14</title>\n<path fill=\"#e5399d\" stroke=\"#000000\" d=\"M1058,-68C1058,-68 920,-68 920,-68 914,-68 908,-62 908,-56 908,-56 908,-12 908,-12 908,-6 914,0 920,0 920,0 1058,0 1058,0 1064,0 1070,-6 1070,-12 1070,-12 1070,-56 1070,-56 1070,-62 1064,-68 1058,-68\"/>\n<text text-anchor=\"start\" x=\"959.5\" y=\"-52.8\" font-family=\"Helvetica,sans-Serif\" font-size=\"14.00\" fill=\"#000000\">gini = 0.0</text>\n<text text-anchor=\"start\" x=\"949.5\" y=\"-37.8\" font-family=\"Helvetica,sans-Serif\" font-size=\"14.00\" fill=\"#000000\">samples = 1</text>\n<text text-anchor=\"start\" x=\"916\" y=\"-22.8\" font-family=\"Helvetica,sans-Serif\" font-size=\"14.00\" fill=\"#000000\">value = [0, 0, 0, 0, 0, 1]</text>\n<text text-anchor=\"start\" x=\"954.5\" y=\"-7.8\" font-family=\"Helvetica,sans-Serif\" font-size=\"14.00\" fill=\"#000000\">class = C6</text>\n</g>\n<!-- 12&#45;&gt;14 -->\n<g id=\"edge14\" class=\"edge\">\n<title>12&#45;&gt;14</title>\n<path fill=\"none\" stroke=\"#000000\" d=\"M932.5127,-103.9815C939.857,-94.8828 947.6388,-85.242 955.0019,-76.1199\"/>\n<polygon fill=\"#000000\" stroke=\"#000000\" points=\"957.7857,-78.2434 961.3432,-68.2637 952.3388,-73.8467 957.7857,-78.2434\"/>\n</g>\n</g>\n</svg>\n"
          },
          "metadata": {
            "tags": []
          },
          "execution_count": 167
        }
      ]
    },
    {
      "cell_type": "markdown",
      "metadata": {
        "id": "xX-d2fJ5hgrF"
      },
      "source": [
        "##### For **PED**:"
      ]
    },
    {
      "cell_type": "code",
      "metadata": {
        "colab": {
          "base_uri": "https://localhost:8080/",
          "height": 953
        },
        "id": "iDfHxMuohhv6",
        "outputId": "d000ded3-cfe6-4b4c-b421-df2aee505cd4"
      },
      "source": [
        "clf = decision_cls(X_train_ped, y_train_ped, X_test_ped, y_test_ped, classes)\n",
        "gv = graphviz.Source(export_graphviz(clf, out_file=None, \n",
        "                           feature_names = X_train_ped.columns,\n",
        "                           class_names = classes,\n",
        "                         filled=True, rounded=True,  \n",
        "                         special_characters=True)  ) \n",
        "gv.render(filename = \"/content/drive/My Drive/CSE521/full_cls_tree_ped\")\n",
        "gv"
      ],
      "execution_count": null,
      "outputs": [
        {
          "output_type": "stream",
          "text": [
            "Accuracy: 0.8181818181818182\n"
          ],
          "name": "stdout"
        },
        {
          "output_type": "execute_result",
          "data": {
            "text/plain": [
              "<graphviz.files.Source at 0x7ff5c6426b90>"
            ],
            "image/svg+xml": "<?xml version=\"1.0\" encoding=\"UTF-8\" standalone=\"no\"?>\n<!DOCTYPE svg PUBLIC \"-//W3C//DTD SVG 1.1//EN\"\n \"http://www.w3.org/Graphics/SVG/1.1/DTD/svg11.dtd\">\n<!-- Generated by graphviz version 2.40.1 (20161225.0304)\n -->\n<!-- Title: Tree Pages: 1 -->\n<svg width=\"847pt\" height=\"671pt\"\n viewBox=\"0.00 0.00 847.00 671.00\" xmlns=\"http://www.w3.org/2000/svg\" xmlns:xlink=\"http://www.w3.org/1999/xlink\">\n<g id=\"graph0\" class=\"graph\" transform=\"scale(1 1) rotate(0) translate(4 667)\">\n<title>Tree</title>\n<polygon fill=\"#ffffff\" stroke=\"transparent\" points=\"-4,4 -4,-667 843,-667 843,4 -4,4\"/>\n<!-- 0 -->\n<g id=\"node1\" class=\"node\">\n<title>0</title>\n<path fill=\"#eca16b\" stroke=\"#000000\" d=\"M539,-663C539,-663 393,-663 393,-663 387,-663 381,-657 381,-651 381,-651 381,-592 381,-592 381,-586 387,-580 393,-580 393,-580 539,-580 539,-580 545,-580 551,-586 551,-592 551,-592 551,-651 551,-651 551,-657 545,-663 539,-663\"/>\n<text text-anchor=\"start\" x=\"422.5\" y=\"-647.8\" font-family=\"Helvetica,sans-Serif\" font-size=\"14.00\" fill=\"#000000\">S ≤ 2021.003</text>\n<text text-anchor=\"start\" x=\"428\" y=\"-632.8\" font-family=\"Helvetica,sans-Serif\" font-size=\"14.00\" fill=\"#000000\">gini = 0.394</text>\n<text text-anchor=\"start\" x=\"422\" y=\"-617.8\" font-family=\"Helvetica,sans-Serif\" font-size=\"14.00\" fill=\"#000000\">samples = 65</text>\n<text text-anchor=\"start\" x=\"389\" y=\"-602.8\" font-family=\"Helvetica,sans-Serif\" font-size=\"14.00\" fill=\"#000000\">value = [50, 3, 2, 3, 6, 1]</text>\n<text text-anchor=\"start\" x=\"431.5\" y=\"-587.8\" font-family=\"Helvetica,sans-Serif\" font-size=\"14.00\" fill=\"#000000\">class = C1</text>\n</g>\n<!-- 1 -->\n<g id=\"node2\" class=\"node\">\n<title>1</title>\n<path fill=\"#e78b48\" stroke=\"#000000\" d=\"M447,-544C447,-544 301,-544 301,-544 295,-544 289,-538 289,-532 289,-532 289,-473 289,-473 289,-467 295,-461 301,-461 301,-461 447,-461 447,-461 453,-461 459,-467 459,-473 459,-473 459,-532 459,-532 459,-538 453,-544 447,-544\"/>\n<text text-anchor=\"start\" x=\"327\" y=\"-528.8\" font-family=\"Helvetica,sans-Serif\" font-size=\"14.00\" fill=\"#000000\">Zn ≤ 1205.208</text>\n<text text-anchor=\"start\" x=\"340.5\" y=\"-513.8\" font-family=\"Helvetica,sans-Serif\" font-size=\"14.00\" fill=\"#000000\">gini = 0.14</text>\n<text text-anchor=\"start\" x=\"330\" y=\"-498.8\" font-family=\"Helvetica,sans-Serif\" font-size=\"14.00\" fill=\"#000000\">samples = 54</text>\n<text text-anchor=\"start\" x=\"297\" y=\"-483.8\" font-family=\"Helvetica,sans-Serif\" font-size=\"14.00\" fill=\"#000000\">value = [50, 0, 0, 2, 2, 0]</text>\n<text text-anchor=\"start\" x=\"339.5\" y=\"-468.8\" font-family=\"Helvetica,sans-Serif\" font-size=\"14.00\" fill=\"#000000\">class = C1</text>\n</g>\n<!-- 0&#45;&gt;1 -->\n<g id=\"edge1\" class=\"edge\">\n<title>0&#45;&gt;1</title>\n<path fill=\"none\" stroke=\"#000000\" d=\"M433.8229,-579.8796C426.9296,-570.9633 419.5798,-561.4565 412.4761,-552.268\"/>\n<polygon fill=\"#000000\" stroke=\"#000000\" points=\"415.1999,-550.0687 406.3145,-544.2981 409.6619,-554.3502 415.1999,-550.0687\"/>\n<text text-anchor=\"middle\" x=\"403.1413\" y=\"-565.3959\" font-family=\"Helvetica,sans-Serif\" font-size=\"14.00\" fill=\"#000000\">True</text>\n</g>\n<!-- 10 -->\n<g id=\"node11\" class=\"node\">\n<title>10</title>\n<path fill=\"#efe6fc\" stroke=\"#000000\" d=\"M627,-544C627,-544 489,-544 489,-544 483,-544 477,-538 477,-532 477,-532 477,-473 477,-473 477,-467 483,-461 489,-461 489,-461 627,-461 627,-461 633,-461 639,-467 639,-473 639,-473 639,-532 639,-532 639,-538 633,-544 627,-544\"/>\n<text text-anchor=\"start\" x=\"512.5\" y=\"-528.8\" font-family=\"Helvetica,sans-Serif\" font-size=\"14.00\" fill=\"#000000\">CaO ≤ 10.776</text>\n<text text-anchor=\"start\" x=\"520\" y=\"-513.8\" font-family=\"Helvetica,sans-Serif\" font-size=\"14.00\" fill=\"#000000\">gini = 0.744</text>\n<text text-anchor=\"start\" x=\"514\" y=\"-498.8\" font-family=\"Helvetica,sans-Serif\" font-size=\"14.00\" fill=\"#000000\">samples = 11</text>\n<text text-anchor=\"start\" x=\"485\" y=\"-483.8\" font-family=\"Helvetica,sans-Serif\" font-size=\"14.00\" fill=\"#000000\">value = [0, 3, 2, 1, 4, 1]</text>\n<text text-anchor=\"start\" x=\"523.5\" y=\"-468.8\" font-family=\"Helvetica,sans-Serif\" font-size=\"14.00\" fill=\"#000000\">class = C5</text>\n</g>\n<!-- 0&#45;&gt;10 -->\n<g id=\"edge10\" class=\"edge\">\n<title>0&#45;&gt;10</title>\n<path fill=\"none\" stroke=\"#000000\" d=\"M498.1771,-579.8796C505.0704,-570.9633 512.4202,-561.4565 519.5239,-552.268\"/>\n<polygon fill=\"#000000\" stroke=\"#000000\" points=\"522.3381,-554.3502 525.6855,-544.2981 516.8001,-550.0687 522.3381,-554.3502\"/>\n<text text-anchor=\"middle\" x=\"528.8587\" y=\"-565.3959\" font-family=\"Helvetica,sans-Serif\" font-size=\"14.00\" fill=\"#000000\">False</text>\n</g>\n<!-- 2 -->\n<g id=\"node3\" class=\"node\">\n<title>2</title>\n<path fill=\"#e68641\" stroke=\"#000000\" d=\"M264,-425C264,-425 118,-425 118,-425 112,-425 106,-419 106,-413 106,-413 106,-354 106,-354 106,-348 112,-342 118,-342 118,-342 264,-342 264,-342 270,-342 276,-348 276,-354 276,-354 276,-413 276,-413 276,-419 270,-425 264,-425\"/>\n<text text-anchor=\"start\" x=\"147\" y=\"-409.8\" font-family=\"Helvetica,sans-Serif\" font-size=\"14.00\" fill=\"#000000\">Cu ≤ 151.026</text>\n<text text-anchor=\"start\" x=\"153\" y=\"-394.8\" font-family=\"Helvetica,sans-Serif\" font-size=\"14.00\" fill=\"#000000\">gini = 0.074</text>\n<text text-anchor=\"start\" x=\"147\" y=\"-379.8\" font-family=\"Helvetica,sans-Serif\" font-size=\"14.00\" fill=\"#000000\">samples = 52</text>\n<text text-anchor=\"start\" x=\"114\" y=\"-364.8\" font-family=\"Helvetica,sans-Serif\" font-size=\"14.00\" fill=\"#000000\">value = [50, 0, 0, 0, 2, 0]</text>\n<text text-anchor=\"start\" x=\"156.5\" y=\"-349.8\" font-family=\"Helvetica,sans-Serif\" font-size=\"14.00\" fill=\"#000000\">class = C1</text>\n</g>\n<!-- 1&#45;&gt;2 -->\n<g id=\"edge2\" class=\"edge\">\n<title>1&#45;&gt;2</title>\n<path fill=\"none\" stroke=\"#000000\" d=\"M309.9955,-460.8796C294.9505,-451.0962 278.8121,-440.6019 263.4267,-430.5971\"/>\n<polygon fill=\"#000000\" stroke=\"#000000\" points=\"265.2598,-427.6143 254.9684,-425.0969 261.4437,-433.4827 265.2598,-427.6143\"/>\n</g>\n<!-- 9 -->\n<g id=\"node10\" class=\"node\">\n<title>9</title>\n<path fill=\"#399de5\" stroke=\"#000000\" d=\"M444,-417.5C444,-417.5 306,-417.5 306,-417.5 300,-417.5 294,-411.5 294,-405.5 294,-405.5 294,-361.5 294,-361.5 294,-355.5 300,-349.5 306,-349.5 306,-349.5 444,-349.5 444,-349.5 450,-349.5 456,-355.5 456,-361.5 456,-361.5 456,-405.5 456,-405.5 456,-411.5 450,-417.5 444,-417.5\"/>\n<text text-anchor=\"start\" x=\"345.5\" y=\"-402.3\" font-family=\"Helvetica,sans-Serif\" font-size=\"14.00\" fill=\"#000000\">gini = 0.0</text>\n<text text-anchor=\"start\" x=\"335.5\" y=\"-387.3\" font-family=\"Helvetica,sans-Serif\" font-size=\"14.00\" fill=\"#000000\">samples = 2</text>\n<text text-anchor=\"start\" x=\"302\" y=\"-372.3\" font-family=\"Helvetica,sans-Serif\" font-size=\"14.00\" fill=\"#000000\">value = [0, 0, 0, 2, 0, 0]</text>\n<text text-anchor=\"start\" x=\"340.5\" y=\"-357.3\" font-family=\"Helvetica,sans-Serif\" font-size=\"14.00\" fill=\"#000000\">class = C4</text>\n</g>\n<!-- 1&#45;&gt;9 -->\n<g id=\"edge9\" class=\"edge\">\n<title>1&#45;&gt;9</title>\n<path fill=\"none\" stroke=\"#000000\" d=\"M374.3498,-460.8796C374.4394,-450.2134 374.5361,-438.7021 374.6269,-427.9015\"/>\n<polygon fill=\"#000000\" stroke=\"#000000\" points=\"378.1274,-427.844 374.7116,-417.8149 371.1276,-427.7851 378.1274,-427.844\"/>\n</g>\n<!-- 3 -->\n<g id=\"node4\" class=\"node\">\n<title>3</title>\n<path fill=\"#e6843d\" stroke=\"#000000\" d=\"M242,-306C242,-306 96,-306 96,-306 90,-306 84,-300 84,-294 84,-294 84,-235 84,-235 84,-229 90,-223 96,-223 96,-223 242,-223 242,-223 248,-223 254,-229 254,-235 254,-235 254,-294 254,-294 254,-300 248,-306 242,-306\"/>\n<text text-anchor=\"start\" x=\"104\" y=\"-290.8\" font-family=\"Helvetica,sans-Serif\" font-size=\"14.00\" fill=\"#000000\">CaO+MgO ≤ 39.441</text>\n<text text-anchor=\"start\" x=\"131\" y=\"-275.8\" font-family=\"Helvetica,sans-Serif\" font-size=\"14.00\" fill=\"#000000\">gini = 0.038</text>\n<text text-anchor=\"start\" x=\"125\" y=\"-260.8\" font-family=\"Helvetica,sans-Serif\" font-size=\"14.00\" fill=\"#000000\">samples = 51</text>\n<text text-anchor=\"start\" x=\"92\" y=\"-245.8\" font-family=\"Helvetica,sans-Serif\" font-size=\"14.00\" fill=\"#000000\">value = [50, 0, 0, 0, 1, 0]</text>\n<text text-anchor=\"start\" x=\"134.5\" y=\"-230.8\" font-family=\"Helvetica,sans-Serif\" font-size=\"14.00\" fill=\"#000000\">class = C1</text>\n</g>\n<!-- 2&#45;&gt;3 -->\n<g id=\"edge3\" class=\"edge\">\n<title>2&#45;&gt;3</title>\n<path fill=\"none\" stroke=\"#000000\" d=\"M183.3055,-341.8796C181.7736,-333.5938 180.1475,-324.798 178.562,-316.2216\"/>\n<polygon fill=\"#000000\" stroke=\"#000000\" points=\"181.9871,-315.4951 176.7274,-306.2981 175.1037,-316.7677 181.9871,-315.4951\"/>\n</g>\n<!-- 8 -->\n<g id=\"node9\" class=\"node\">\n<title>8</title>\n<path fill=\"#8139e5\" stroke=\"#000000\" d=\"M422,-298.5C422,-298.5 284,-298.5 284,-298.5 278,-298.5 272,-292.5 272,-286.5 272,-286.5 272,-242.5 272,-242.5 272,-236.5 278,-230.5 284,-230.5 284,-230.5 422,-230.5 422,-230.5 428,-230.5 434,-236.5 434,-242.5 434,-242.5 434,-286.5 434,-286.5 434,-292.5 428,-298.5 422,-298.5\"/>\n<text text-anchor=\"start\" x=\"323.5\" y=\"-283.3\" font-family=\"Helvetica,sans-Serif\" font-size=\"14.00\" fill=\"#000000\">gini = 0.0</text>\n<text text-anchor=\"start\" x=\"313.5\" y=\"-268.3\" font-family=\"Helvetica,sans-Serif\" font-size=\"14.00\" fill=\"#000000\">samples = 1</text>\n<text text-anchor=\"start\" x=\"280\" y=\"-253.3\" font-family=\"Helvetica,sans-Serif\" font-size=\"14.00\" fill=\"#000000\">value = [0, 0, 0, 0, 1, 0]</text>\n<text text-anchor=\"start\" x=\"318.5\" y=\"-238.3\" font-family=\"Helvetica,sans-Serif\" font-size=\"14.00\" fill=\"#000000\">class = C5</text>\n</g>\n<!-- 2&#45;&gt;8 -->\n<g id=\"edge8\" class=\"edge\">\n<title>2&#45;&gt;8</title>\n<path fill=\"none\" stroke=\"#000000\" d=\"M247.6597,-341.8796C264.0541,-329.8368 281.9151,-316.7167 298.1942,-304.7586\"/>\n<polygon fill=\"#000000\" stroke=\"#000000\" points=\"300.5595,-307.3639 306.5468,-298.623 296.4154,-301.7224 300.5595,-307.3639\"/>\n</g>\n<!-- 4 -->\n<g id=\"node5\" class=\"node\">\n<title>4</title>\n<path fill=\"#f2c09c\" stroke=\"#000000\" d=\"M193,-187C193,-187 55,-187 55,-187 49,-187 43,-181 43,-175 43,-175 43,-116 43,-116 43,-110 49,-104 55,-104 55,-104 193,-104 193,-104 199,-104 205,-110 205,-116 205,-116 205,-175 205,-175 205,-181 199,-187 193,-187\"/>\n<text text-anchor=\"start\" x=\"89\" y=\"-171.8\" font-family=\"Helvetica,sans-Serif\" font-size=\"14.00\" fill=\"#000000\">Pb ≤ 1.384</text>\n<text text-anchor=\"start\" x=\"86\" y=\"-156.8\" font-family=\"Helvetica,sans-Serif\" font-size=\"14.00\" fill=\"#000000\">gini = 0.444</text>\n<text text-anchor=\"start\" x=\"84.5\" y=\"-141.8\" font-family=\"Helvetica,sans-Serif\" font-size=\"14.00\" fill=\"#000000\">samples = 3</text>\n<text text-anchor=\"start\" x=\"51\" y=\"-126.8\" font-family=\"Helvetica,sans-Serif\" font-size=\"14.00\" fill=\"#000000\">value = [2, 0, 0, 0, 1, 0]</text>\n<text text-anchor=\"start\" x=\"89.5\" y=\"-111.8\" font-family=\"Helvetica,sans-Serif\" font-size=\"14.00\" fill=\"#000000\">class = C1</text>\n</g>\n<!-- 3&#45;&gt;4 -->\n<g id=\"edge4\" class=\"edge\">\n<title>3&#45;&gt;4</title>\n<path fill=\"none\" stroke=\"#000000\" d=\"M153.2612,-222.8796C150.0598,-214.4136 146.6571,-205.4153 143.3472,-196.6626\"/>\n<polygon fill=\"#000000\" stroke=\"#000000\" points=\"146.6169,-195.4136 139.806,-187.2981 140.0694,-197.8896 146.6169,-195.4136\"/>\n</g>\n<!-- 7 -->\n<g id=\"node8\" class=\"node\">\n<title>7</title>\n<path fill=\"#e58139\" stroke=\"#000000\" d=\"M381,-179.5C381,-179.5 235,-179.5 235,-179.5 229,-179.5 223,-173.5 223,-167.5 223,-167.5 223,-123.5 223,-123.5 223,-117.5 229,-111.5 235,-111.5 235,-111.5 381,-111.5 381,-111.5 387,-111.5 393,-117.5 393,-123.5 393,-123.5 393,-167.5 393,-167.5 393,-173.5 387,-179.5 381,-179.5\"/>\n<text text-anchor=\"start\" x=\"278.5\" y=\"-164.3\" font-family=\"Helvetica,sans-Serif\" font-size=\"14.00\" fill=\"#000000\">gini = 0.0</text>\n<text text-anchor=\"start\" x=\"264\" y=\"-149.3\" font-family=\"Helvetica,sans-Serif\" font-size=\"14.00\" fill=\"#000000\">samples = 48</text>\n<text text-anchor=\"start\" x=\"231\" y=\"-134.3\" font-family=\"Helvetica,sans-Serif\" font-size=\"14.00\" fill=\"#000000\">value = [48, 0, 0, 0, 0, 0]</text>\n<text text-anchor=\"start\" x=\"273.5\" y=\"-119.3\" font-family=\"Helvetica,sans-Serif\" font-size=\"14.00\" fill=\"#000000\">class = C1</text>\n</g>\n<!-- 3&#45;&gt;7 -->\n<g id=\"edge7\" class=\"edge\">\n<title>3&#45;&gt;7</title>\n<path fill=\"none\" stroke=\"#000000\" d=\"M217.6155,-222.8796C231.3587,-211.1138 246.3031,-198.3197 260.0093,-186.5855\"/>\n<polygon fill=\"#000000\" stroke=\"#000000\" points=\"262.5976,-188.9771 267.9178,-179.8149 258.0452,-183.6596 262.5976,-188.9771\"/>\n</g>\n<!-- 5 -->\n<g id=\"node6\" class=\"node\">\n<title>5</title>\n<path fill=\"#8139e5\" stroke=\"#000000\" d=\"M150,-68C150,-68 12,-68 12,-68 6,-68 0,-62 0,-56 0,-56 0,-12 0,-12 0,-6 6,0 12,0 12,0 150,0 150,0 156,0 162,-6 162,-12 162,-12 162,-56 162,-56 162,-62 156,-68 150,-68\"/>\n<text text-anchor=\"start\" x=\"51.5\" y=\"-52.8\" font-family=\"Helvetica,sans-Serif\" font-size=\"14.00\" fill=\"#000000\">gini = 0.0</text>\n<text text-anchor=\"start\" x=\"41.5\" y=\"-37.8\" font-family=\"Helvetica,sans-Serif\" font-size=\"14.00\" fill=\"#000000\">samples = 1</text>\n<text text-anchor=\"start\" x=\"8\" y=\"-22.8\" font-family=\"Helvetica,sans-Serif\" font-size=\"14.00\" fill=\"#000000\">value = [0, 0, 0, 0, 1, 0]</text>\n<text text-anchor=\"start\" x=\"46.5\" y=\"-7.8\" font-family=\"Helvetica,sans-Serif\" font-size=\"14.00\" fill=\"#000000\">class = C5</text>\n</g>\n<!-- 4&#45;&gt;5 -->\n<g id=\"edge5\" class=\"edge\">\n<title>4&#45;&gt;5</title>\n<path fill=\"none\" stroke=\"#000000\" d=\"M107.9884,-103.9815C104.6921,-95.4342 101.2114,-86.4086 97.8853,-77.7839\"/>\n<polygon fill=\"#000000\" stroke=\"#000000\" points=\"101.0776,-76.3345 94.2138,-68.2637 94.5465,-78.8533 101.0776,-76.3345\"/>\n</g>\n<!-- 6 -->\n<g id=\"node7\" class=\"node\">\n<title>6</title>\n<path fill=\"#e58139\" stroke=\"#000000\" d=\"M330,-68C330,-68 192,-68 192,-68 186,-68 180,-62 180,-56 180,-56 180,-12 180,-12 180,-6 186,0 192,0 192,0 330,0 330,0 336,0 342,-6 342,-12 342,-12 342,-56 342,-56 342,-62 336,-68 330,-68\"/>\n<text text-anchor=\"start\" x=\"231.5\" y=\"-52.8\" font-family=\"Helvetica,sans-Serif\" font-size=\"14.00\" fill=\"#000000\">gini = 0.0</text>\n<text text-anchor=\"start\" x=\"221.5\" y=\"-37.8\" font-family=\"Helvetica,sans-Serif\" font-size=\"14.00\" fill=\"#000000\">samples = 2</text>\n<text text-anchor=\"start\" x=\"188\" y=\"-22.8\" font-family=\"Helvetica,sans-Serif\" font-size=\"14.00\" fill=\"#000000\">value = [2, 0, 0, 0, 0, 0]</text>\n<text text-anchor=\"start\" x=\"226.5\" y=\"-7.8\" font-family=\"Helvetica,sans-Serif\" font-size=\"14.00\" fill=\"#000000\">class = C1</text>\n</g>\n<!-- 4&#45;&gt;6 -->\n<g id=\"edge6\" class=\"edge\">\n<title>4&#45;&gt;6</title>\n<path fill=\"none\" stroke=\"#000000\" d=\"M175.0137,-103.9815C186.758,-94.4232 199.2372,-84.2668 210.9405,-74.7419\"/>\n<polygon fill=\"#000000\" stroke=\"#000000\" points=\"213.3536,-77.2906 218.9002,-68.2637 208.935,-71.8614 213.3536,-77.2906\"/>\n</g>\n<!-- 11 -->\n<g id=\"node12\" class=\"node\">\n<title>11</title>\n<path fill=\"#8139e5\" stroke=\"#000000\" d=\"M625,-417.5C625,-417.5 487,-417.5 487,-417.5 481,-417.5 475,-411.5 475,-405.5 475,-405.5 475,-361.5 475,-361.5 475,-355.5 481,-349.5 487,-349.5 487,-349.5 625,-349.5 625,-349.5 631,-349.5 637,-355.5 637,-361.5 637,-361.5 637,-405.5 637,-405.5 637,-411.5 631,-417.5 625,-417.5\"/>\n<text text-anchor=\"start\" x=\"526.5\" y=\"-402.3\" font-family=\"Helvetica,sans-Serif\" font-size=\"14.00\" fill=\"#000000\">gini = 0.0</text>\n<text text-anchor=\"start\" x=\"516.5\" y=\"-387.3\" font-family=\"Helvetica,sans-Serif\" font-size=\"14.00\" fill=\"#000000\">samples = 4</text>\n<text text-anchor=\"start\" x=\"483\" y=\"-372.3\" font-family=\"Helvetica,sans-Serif\" font-size=\"14.00\" fill=\"#000000\">value = [0, 0, 0, 0, 4, 0]</text>\n<text text-anchor=\"start\" x=\"521.5\" y=\"-357.3\" font-family=\"Helvetica,sans-Serif\" font-size=\"14.00\" fill=\"#000000\">class = C5</text>\n</g>\n<!-- 10&#45;&gt;11 -->\n<g id=\"edge11\" class=\"edge\">\n<title>10&#45;&gt;11</title>\n<path fill=\"none\" stroke=\"#000000\" d=\"M557.3005,-460.8796C557.1212,-450.2134 556.9278,-438.7021 556.7462,-427.9015\"/>\n<polygon fill=\"#000000\" stroke=\"#000000\" points=\"560.2444,-427.7547 556.5767,-417.8149 553.2454,-427.8724 560.2444,-427.7547\"/>\n</g>\n<!-- 12 -->\n<g id=\"node13\" class=\"node\">\n<title>12</title>\n<path fill=\"#ebfad7\" stroke=\"#000000\" d=\"M805,-425C805,-425 667,-425 667,-425 661,-425 655,-419 655,-413 655,-413 655,-354 655,-354 655,-348 661,-342 667,-342 667,-342 805,-342 805,-342 811,-342 817,-348 817,-354 817,-354 817,-413 817,-413 817,-419 811,-425 805,-425\"/>\n<text text-anchor=\"start\" x=\"696.5\" y=\"-409.8\" font-family=\"Helvetica,sans-Serif\" font-size=\"14.00\" fill=\"#000000\">Pb ≤ 16.744</text>\n<text text-anchor=\"start\" x=\"698\" y=\"-394.8\" font-family=\"Helvetica,sans-Serif\" font-size=\"14.00\" fill=\"#000000\">gini = 0.694</text>\n<text text-anchor=\"start\" x=\"696.5\" y=\"-379.8\" font-family=\"Helvetica,sans-Serif\" font-size=\"14.00\" fill=\"#000000\">samples = 7</text>\n<text text-anchor=\"start\" x=\"663\" y=\"-364.8\" font-family=\"Helvetica,sans-Serif\" font-size=\"14.00\" fill=\"#000000\">value = [0, 3, 2, 1, 0, 1]</text>\n<text text-anchor=\"start\" x=\"701.5\" y=\"-349.8\" font-family=\"Helvetica,sans-Serif\" font-size=\"14.00\" fill=\"#000000\">class = C2</text>\n</g>\n<!-- 10&#45;&gt;12 -->\n<g id=\"edge12\" class=\"edge\">\n<title>10&#45;&gt;12</title>\n<path fill=\"none\" stroke=\"#000000\" d=\"M620.2558,-460.8796C634.7542,-451.1868 650.2965,-440.7961 665.1363,-430.8752\"/>\n<polygon fill=\"#000000\" stroke=\"#000000\" points=\"667.4113,-433.5644 673.7794,-425.0969 663.5208,-427.7451 667.4113,-433.5644\"/>\n</g>\n<!-- 13 -->\n<g id=\"node14\" class=\"node\">\n<title>13</title>\n<path fill=\"#9de539\" stroke=\"#000000\" d=\"M636,-298.5C636,-298.5 498,-298.5 498,-298.5 492,-298.5 486,-292.5 486,-286.5 486,-286.5 486,-242.5 486,-242.5 486,-236.5 492,-230.5 498,-230.5 498,-230.5 636,-230.5 636,-230.5 642,-230.5 648,-236.5 648,-242.5 648,-242.5 648,-286.5 648,-286.5 648,-292.5 642,-298.5 636,-298.5\"/>\n<text text-anchor=\"start\" x=\"537.5\" y=\"-283.3\" font-family=\"Helvetica,sans-Serif\" font-size=\"14.00\" fill=\"#000000\">gini = 0.0</text>\n<text text-anchor=\"start\" x=\"527.5\" y=\"-268.3\" font-family=\"Helvetica,sans-Serif\" font-size=\"14.00\" fill=\"#000000\">samples = 3</text>\n<text text-anchor=\"start\" x=\"494\" y=\"-253.3\" font-family=\"Helvetica,sans-Serif\" font-size=\"14.00\" fill=\"#000000\">value = [0, 3, 0, 0, 0, 0]</text>\n<text text-anchor=\"start\" x=\"532.5\" y=\"-238.3\" font-family=\"Helvetica,sans-Serif\" font-size=\"14.00\" fill=\"#000000\">class = C2</text>\n</g>\n<!-- 12&#45;&gt;13 -->\n<g id=\"edge13\" class=\"edge\">\n<title>12&#45;&gt;13</title>\n<path fill=\"none\" stroke=\"#000000\" d=\"M676.892,-341.8796C659.6323,-329.7263 640.8144,-316.4759 623.707,-304.4297\"/>\n<polygon fill=\"#000000\" stroke=\"#000000\" points=\"625.6519,-301.5187 615.4604,-298.623 621.6218,-307.2421 625.6519,-301.5187\"/>\n</g>\n<!-- 14 -->\n<g id=\"node15\" class=\"node\">\n<title>14</title>\n<path fill=\"#bdf6d5\" stroke=\"#000000\" d=\"M816,-306C816,-306 678,-306 678,-306 672,-306 666,-300 666,-294 666,-294 666,-235 666,-235 666,-229 672,-223 678,-223 678,-223 816,-223 816,-223 822,-223 828,-229 828,-235 828,-235 828,-294 828,-294 828,-300 822,-306 816,-306\"/>\n<text text-anchor=\"start\" x=\"699.5\" y=\"-290.8\" font-family=\"Helvetica,sans-Serif\" font-size=\"14.00\" fill=\"#000000\">Pb ≤ 5694.755</text>\n<text text-anchor=\"start\" x=\"709\" y=\"-275.8\" font-family=\"Helvetica,sans-Serif\" font-size=\"14.00\" fill=\"#000000\">gini = 0.625</text>\n<text text-anchor=\"start\" x=\"707.5\" y=\"-260.8\" font-family=\"Helvetica,sans-Serif\" font-size=\"14.00\" fill=\"#000000\">samples = 4</text>\n<text text-anchor=\"start\" x=\"674\" y=\"-245.8\" font-family=\"Helvetica,sans-Serif\" font-size=\"14.00\" fill=\"#000000\">value = [0, 0, 2, 1, 0, 1]</text>\n<text text-anchor=\"start\" x=\"712.5\" y=\"-230.8\" font-family=\"Helvetica,sans-Serif\" font-size=\"14.00\" fill=\"#000000\">class = C3</text>\n</g>\n<!-- 12&#45;&gt;14 -->\n<g id=\"edge14\" class=\"edge\">\n<title>12&#45;&gt;14</title>\n<path fill=\"none\" stroke=\"#000000\" d=\"M739.8473,-341.8796C740.6049,-333.6838 741.4086,-324.9891 742.1932,-316.5013\"/>\n<polygon fill=\"#000000\" stroke=\"#000000\" points=\"745.7009,-316.5778 743.1363,-306.2981 738.7306,-315.9334 745.7009,-316.5778\"/>\n</g>\n<!-- 15 -->\n<g id=\"node16\" class=\"node\">\n<title>15</title>\n<path fill=\"#ffffff\" stroke=\"#000000\" d=\"M647,-187C647,-187 509,-187 509,-187 503,-187 497,-181 497,-175 497,-175 497,-116 497,-116 497,-110 503,-104 509,-104 509,-104 647,-104 647,-104 653,-104 659,-110 659,-116 659,-116 659,-175 659,-175 659,-181 653,-187 647,-187\"/>\n<text text-anchor=\"start\" x=\"530.5\" y=\"-171.8\" font-family=\"Helvetica,sans-Serif\" font-size=\"14.00\" fill=\"#000000\">S ≤ 21406.833</text>\n<text text-anchor=\"start\" x=\"548.5\" y=\"-156.8\" font-family=\"Helvetica,sans-Serif\" font-size=\"14.00\" fill=\"#000000\">gini = 0.5</text>\n<text text-anchor=\"start\" x=\"538.5\" y=\"-141.8\" font-family=\"Helvetica,sans-Serif\" font-size=\"14.00\" fill=\"#000000\">samples = 2</text>\n<text text-anchor=\"start\" x=\"505\" y=\"-126.8\" font-family=\"Helvetica,sans-Serif\" font-size=\"14.00\" fill=\"#000000\">value = [0, 0, 0, 1, 0, 1]</text>\n<text text-anchor=\"start\" x=\"543.5\" y=\"-111.8\" font-family=\"Helvetica,sans-Serif\" font-size=\"14.00\" fill=\"#000000\">class = C4</text>\n</g>\n<!-- 14&#45;&gt;15 -->\n<g id=\"edge15\" class=\"edge\">\n<title>14&#45;&gt;15</title>\n<path fill=\"none\" stroke=\"#000000\" d=\"M687.892,-222.8796C674.1266,-213.1868 659.3701,-202.7961 645.2807,-192.8752\"/>\n<polygon fill=\"#000000\" stroke=\"#000000\" points=\"647.2661,-189.9926 637.0746,-187.0969 643.2359,-195.716 647.2661,-189.9926\"/>\n</g>\n<!-- 18 -->\n<g id=\"node19\" class=\"node\">\n<title>18</title>\n<path fill=\"#39e581\" stroke=\"#000000\" d=\"M827,-179.5C827,-179.5 689,-179.5 689,-179.5 683,-179.5 677,-173.5 677,-167.5 677,-167.5 677,-123.5 677,-123.5 677,-117.5 683,-111.5 689,-111.5 689,-111.5 827,-111.5 827,-111.5 833,-111.5 839,-117.5 839,-123.5 839,-123.5 839,-167.5 839,-167.5 839,-173.5 833,-179.5 827,-179.5\"/>\n<text text-anchor=\"start\" x=\"728.5\" y=\"-164.3\" font-family=\"Helvetica,sans-Serif\" font-size=\"14.00\" fill=\"#000000\">gini = 0.0</text>\n<text text-anchor=\"start\" x=\"718.5\" y=\"-149.3\" font-family=\"Helvetica,sans-Serif\" font-size=\"14.00\" fill=\"#000000\">samples = 2</text>\n<text text-anchor=\"start\" x=\"685\" y=\"-134.3\" font-family=\"Helvetica,sans-Serif\" font-size=\"14.00\" fill=\"#000000\">value = [0, 0, 2, 0, 0, 0]</text>\n<text text-anchor=\"start\" x=\"723.5\" y=\"-119.3\" font-family=\"Helvetica,sans-Serif\" font-size=\"14.00\" fill=\"#000000\">class = C3</text>\n</g>\n<!-- 14&#45;&gt;18 -->\n<g id=\"edge18\" class=\"edge\">\n<title>14&#45;&gt;18</title>\n<path fill=\"none\" stroke=\"#000000\" d=\"M750.8473,-222.8796C751.8332,-212.2134 752.8973,-200.7021 753.8957,-189.9015\"/>\n<polygon fill=\"#000000\" stroke=\"#000000\" points=\"757.3926,-190.0947 754.828,-179.8149 750.4224,-189.4503 757.3926,-190.0947\"/>\n</g>\n<!-- 16 -->\n<g id=\"node17\" class=\"node\">\n<title>16</title>\n<path fill=\"#399de5\" stroke=\"#000000\" d=\"M578,-68C578,-68 440,-68 440,-68 434,-68 428,-62 428,-56 428,-56 428,-12 428,-12 428,-6 434,0 440,0 440,0 578,0 578,0 584,0 590,-6 590,-12 590,-12 590,-56 590,-56 590,-62 584,-68 578,-68\"/>\n<text text-anchor=\"start\" x=\"479.5\" y=\"-52.8\" font-family=\"Helvetica,sans-Serif\" font-size=\"14.00\" fill=\"#000000\">gini = 0.0</text>\n<text text-anchor=\"start\" x=\"469.5\" y=\"-37.8\" font-family=\"Helvetica,sans-Serif\" font-size=\"14.00\" fill=\"#000000\">samples = 1</text>\n<text text-anchor=\"start\" x=\"436\" y=\"-22.8\" font-family=\"Helvetica,sans-Serif\" font-size=\"14.00\" fill=\"#000000\">value = [0, 0, 0, 1, 0, 0]</text>\n<text text-anchor=\"start\" x=\"474.5\" y=\"-7.8\" font-family=\"Helvetica,sans-Serif\" font-size=\"14.00\" fill=\"#000000\">class = C4</text>\n</g>\n<!-- 15&#45;&gt;16 -->\n<g id=\"edge16\" class=\"edge\">\n<title>15&#45;&gt;16</title>\n<path fill=\"none\" stroke=\"#000000\" d=\"M552.3069,-103.9815C546.8469,-95.1585 541.0716,-85.8258 535.5793,-76.9506\"/>\n<polygon fill=\"#000000\" stroke=\"#000000\" points=\"538.442,-74.9254 530.2035,-68.2637 532.4896,-78.609 538.442,-74.9254\"/>\n</g>\n<!-- 17 -->\n<g id=\"node18\" class=\"node\">\n<title>17</title>\n<path fill=\"#e5399d\" stroke=\"#000000\" d=\"M758,-68C758,-68 620,-68 620,-68 614,-68 608,-62 608,-56 608,-56 608,-12 608,-12 608,-6 614,0 620,0 620,0 758,0 758,0 764,0 770,-6 770,-12 770,-12 770,-56 770,-56 770,-62 764,-68 758,-68\"/>\n<text text-anchor=\"start\" x=\"659.5\" y=\"-52.8\" font-family=\"Helvetica,sans-Serif\" font-size=\"14.00\" fill=\"#000000\">gini = 0.0</text>\n<text text-anchor=\"start\" x=\"649.5\" y=\"-37.8\" font-family=\"Helvetica,sans-Serif\" font-size=\"14.00\" fill=\"#000000\">samples = 1</text>\n<text text-anchor=\"start\" x=\"616\" y=\"-22.8\" font-family=\"Helvetica,sans-Serif\" font-size=\"14.00\" fill=\"#000000\">value = [0, 0, 0, 0, 0, 1]</text>\n<text text-anchor=\"start\" x=\"654.5\" y=\"-7.8\" font-family=\"Helvetica,sans-Serif\" font-size=\"14.00\" fill=\"#000000\">class = C6</text>\n</g>\n<!-- 15&#45;&gt;17 -->\n<g id=\"edge17\" class=\"edge\">\n<title>15&#45;&gt;17</title>\n<path fill=\"none\" stroke=\"#000000\" d=\"M619.3323,-103.9815C628.5733,-94.6989 638.3758,-84.8522 647.6187,-75.5677\"/>\n<polygon fill=\"#000000\" stroke=\"#000000\" points=\"650.3152,-77.82 654.89,-68.2637 645.3543,-72.8813 650.3152,-77.82\"/>\n</g>\n</g>\n</svg>\n"
          },
          "metadata": {
            "tags": []
          },
          "execution_count": 168
        }
      ]
    },
    {
      "cell_type": "markdown",
      "metadata": {
        "id": "TYiqZ9nxtHoL"
      },
      "source": [
        "#### Neural Network classification"
      ]
    },
    {
      "cell_type": "code",
      "metadata": {
        "id": "DqT_yYKBwqrQ"
      },
      "source": [
        "X_np = pd2.drop(['Type de roche.1'], axis=1)\n",
        "y_np = pd2['Type de roche.1']\n",
        "X_npe = ped2.drop(['Type de roche.1'], axis=1)\n",
        "y_npe = ped2['Type de roche.1']\n",
        "\n",
        "X_train_np, X_test_np, y_train_np, y_test_np = train_test_split(X_np, y_np, test_size = 0.3, random_state = 21)\n",
        "X_train_npe, X_test_npe, y_train_npe, y_test_npe = train_test_split(X_npe, y_npe, test_size = 0.3, random_state = 21)"
      ],
      "execution_count": null,
      "outputs": []
    },
    {
      "cell_type": "markdown",
      "metadata": {
        "id": "rql-e8AftkjW"
      },
      "source": [
        "##### Topology 1"
      ]
    },
    {
      "cell_type": "markdown",
      "metadata": {
        "id": "DKlrvUoVv0s8"
      },
      "source": [
        "> hidden_layer_sizes: default 100 layers\n",
        "\n",
        "> activation: default 'relu'"
      ]
    },
    {
      "cell_type": "code",
      "metadata": {
        "id": "-0BW7bqT8gxv"
      },
      "source": [
        "def neural(mlp, X_train, y_train, X_test, y_test, msg1, msg2):\n",
        "  mlp.fit(X_train,y_train)\n",
        "  predict_train = mlp.predict(X_train)\n",
        "  predict_test = mlp.predict(X_test)\n",
        "  print(msg1)\n",
        "  print(confusion_matrix(y_test,predict_test))\n",
        "  print(classification_report(y_test,predict_test))\n",
        "  print(msg2)\n",
        "  print(confusion_matrix(y_train,predict_train))\n",
        "  print(classification_report(y_train,predict_train))"
      ],
      "execution_count": null,
      "outputs": []
    },
    {
      "cell_type": "markdown",
      "metadata": {
        "id": "fXvqyXjBwwBC"
      },
      "source": [
        "###### For normalized PD:"
      ]
    },
    {
      "cell_type": "code",
      "metadata": {
        "colab": {
          "base_uri": "https://localhost:8080/"
        },
        "id": "xsDk2K_fw5Hs",
        "outputId": "0329ac8e-2467-4c6e-bbd1-8255bc4e21d3"
      },
      "source": [
        "neural(MLPClassifier(), X_train_np,y_train_np, X_test_np, y_test_np, \"Test accuracy for PD using topology 1:\", \"Training accuracy for PD using topology 1:\")"
      ],
      "execution_count": null,
      "outputs": [
        {
          "output_type": "stream",
          "text": [
            "Test accuracy for PD using topology 1:\n",
            "[[25  0  0  0]\n",
            " [ 1  0  0  0]\n",
            " [ 1  0  1  0]\n",
            " [ 0  0  0  2]]\n",
            "              precision    recall  f1-score   support\n",
            "\n",
            "          C1       0.93      1.00      0.96        25\n",
            "          C2       0.00      0.00      0.00         1\n",
            "          C4       1.00      0.50      0.67         2\n",
            "          C6       1.00      1.00      1.00         2\n",
            "\n",
            "    accuracy                           0.93        30\n",
            "   macro avg       0.73      0.62      0.66        30\n",
            "weighted avg       0.90      0.93      0.91        30\n",
            "\n",
            "Training accuracy for PD using topology 1:\n",
            "[[52  0  0  0  0  0  0]\n",
            " [ 2  0  0  0  0  0  0]\n",
            " [ 0  0  2  0  0  0  0]\n",
            " [ 0  0  0  1  0  0  0]\n",
            " [ 2  0  0  0  1  0  0]\n",
            " [ 0  0  0  0  0  7  0]\n",
            " [ 0  0  0  0  0  0  1]]\n",
            "              precision    recall  f1-score   support\n",
            "\n",
            "          C1       0.93      1.00      0.96        52\n",
            "          C2       0.00      0.00      0.00         2\n",
            "          C3       1.00      1.00      1.00         2\n",
            "          C4       1.00      1.00      1.00         1\n",
            "          C5       1.00      0.33      0.50         3\n",
            "          C6       1.00      1.00      1.00         7\n",
            "     Pyyrite       1.00      1.00      1.00         1\n",
            "\n",
            "    accuracy                           0.94        68\n",
            "   macro avg       0.85      0.76      0.78        68\n",
            "weighted avg       0.92      0.94      0.92        68\n",
            "\n"
          ],
          "name": "stdout"
        },
        {
          "output_type": "stream",
          "text": [
            "/usr/local/lib/python3.7/dist-packages/sklearn/neural_network/_multilayer_perceptron.py:571: ConvergenceWarning: Stochastic Optimizer: Maximum iterations (200) reached and the optimization hasn't converged yet.\n",
            "  % self.max_iter, ConvergenceWarning)\n",
            "/usr/local/lib/python3.7/dist-packages/sklearn/metrics/_classification.py:1272: UndefinedMetricWarning: Precision and F-score are ill-defined and being set to 0.0 in labels with no predicted samples. Use `zero_division` parameter to control this behavior.\n",
            "  _warn_prf(average, modifier, msg_start, len(result))\n"
          ],
          "name": "stderr"
        }
      ]
    },
    {
      "cell_type": "markdown",
      "metadata": {
        "id": "YEpwwKVOwzLm"
      },
      "source": [
        "###### For normalized PED"
      ]
    },
    {
      "cell_type": "code",
      "metadata": {
        "id": "CtKzMkUFtFN5",
        "colab": {
          "base_uri": "https://localhost:8080/"
        },
        "outputId": "cb399350-1fd9-41e2-a2fa-0062dfd955cb"
      },
      "source": [
        "neural(MLPClassifier(), X_train_npe,y_train_npe, X_test_npe, y_test_npe, \"Test accuracy for PED using topology 1:\", \"Training accuracy for PED using topology 1:\")"
      ],
      "execution_count": null,
      "outputs": [
        {
          "output_type": "stream",
          "text": [
            "Test accuracy for PED using topology 1:\n",
            "[[25  0  0  0]\n",
            " [ 1  0  0  0]\n",
            " [ 1  0  0  1]\n",
            " [ 0  0  0  2]]\n",
            "              precision    recall  f1-score   support\n",
            "\n",
            "          C1       0.93      1.00      0.96        25\n",
            "          C2       0.00      0.00      0.00         1\n",
            "          C4       0.00      0.00      0.00         2\n",
            "          C6       0.67      1.00      0.80         2\n",
            "\n",
            "    accuracy                           0.90        30\n",
            "   macro avg       0.40      0.50      0.44        30\n",
            "weighted avg       0.82      0.90      0.85        30\n",
            "\n",
            "Training accuracy for PED using topology 1:\n",
            "[[52  0  0  0  0  0  0]\n",
            " [ 2  0  0  0  0  0  0]\n",
            " [ 0  0  2  0  0  0  0]\n",
            " [ 0  0  0  1  0  0  0]\n",
            " [ 3  0  0  0  0  0  0]\n",
            " [ 2  0  0  0  0  5  0]\n",
            " [ 1  0  0  0  0  0  0]]\n",
            "              precision    recall  f1-score   support\n",
            "\n",
            "          C1       0.87      1.00      0.93        52\n",
            "          C2       0.00      0.00      0.00         2\n",
            "          C3       1.00      1.00      1.00         2\n",
            "          C4       1.00      1.00      1.00         1\n",
            "          C5       0.00      0.00      0.00         3\n",
            "          C6       1.00      0.71      0.83         7\n",
            "     Pyyrite       0.00      0.00      0.00         1\n",
            "\n",
            "    accuracy                           0.88        68\n",
            "   macro avg       0.55      0.53      0.54        68\n",
            "weighted avg       0.81      0.88      0.84        68\n",
            "\n"
          ],
          "name": "stdout"
        },
        {
          "output_type": "stream",
          "text": [
            "/usr/local/lib/python3.7/dist-packages/sklearn/neural_network/_multilayer_perceptron.py:571: ConvergenceWarning: Stochastic Optimizer: Maximum iterations (200) reached and the optimization hasn't converged yet.\n",
            "  % self.max_iter, ConvergenceWarning)\n",
            "/usr/local/lib/python3.7/dist-packages/sklearn/metrics/_classification.py:1272: UndefinedMetricWarning: Precision and F-score are ill-defined and being set to 0.0 in labels with no predicted samples. Use `zero_division` parameter to control this behavior.\n",
            "  _warn_prf(average, modifier, msg_start, len(result))\n"
          ],
          "name": "stderr"
        }
      ]
    },
    {
      "cell_type": "markdown",
      "metadata": {
        "id": "KlSAkEhJtrab"
      },
      "source": [
        "##### Topology 2"
      ]
    },
    {
      "cell_type": "markdown",
      "metadata": {
        "id": "BZsu0cFI1Z4Y"
      },
      "source": [
        "> 'hidden_layer_sizes' argument set to three layers. \n",
        "\n",
        "> select 'relu' as the activation function\n",
        "\n",
        "> select 'adam' as the solver for weight optimization"
      ]
    },
    {
      "cell_type": "markdown",
      "metadata": {
        "id": "QXWpSgWh1Rd6"
      },
      "source": [
        "###### For normalized PD:"
      ]
    },
    {
      "cell_type": "code",
      "metadata": {
        "colab": {
          "base_uri": "https://localhost:8080/"
        },
        "id": "CbOiLZaK1Rd6",
        "outputId": "1d65bbe1-3fc9-4314-eda1-4165c6771782"
      },
      "source": [
        "neural(MLPClassifier(hidden_layer_sizes=(8,8,8), activation='relu', solver='adam', max_iter=500), X_train_np,y_train_np, X_test_np, y_test_np, \"Test accuracy for PD using topology 2:\", \"Training accuracy for PD using topology 2:\")"
      ],
      "execution_count": null,
      "outputs": [
        {
          "output_type": "stream",
          "text": [
            "Test accuracy for PD using topology 2:\n",
            "[[25  0  0  0  0]\n",
            " [ 1  0  0  0  0]\n",
            " [ 1  0  0  0  1]\n",
            " [ 0  0  0  2  0]\n",
            " [ 0  0  0  0  0]]\n",
            "              precision    recall  f1-score   support\n",
            "\n",
            "          C1       0.93      1.00      0.96        25\n",
            "          C2       0.00      0.00      0.00         1\n",
            "          C4       0.00      0.00      0.00         2\n",
            "          C6       1.00      1.00      1.00         2\n",
            "     Pyyrite       0.00      0.00      0.00         0\n",
            "\n",
            "    accuracy                           0.90        30\n",
            "   macro avg       0.39      0.40      0.39        30\n",
            "weighted avg       0.84      0.90      0.87        30\n",
            "\n",
            "Training accuracy for PD using topology 2:\n",
            "[[52  0  0  0  0  0  0]\n",
            " [ 2  0  0  0  0  0  0]\n",
            " [ 0  0  2  0  0  0  0]\n",
            " [ 0  0  0  1  0  0  0]\n",
            " [ 2  0  0  0  1  0  0]\n",
            " [ 0  0  0  0  0  7  0]\n",
            " [ 0  0  0  0  0  0  1]]\n",
            "              precision    recall  f1-score   support\n",
            "\n",
            "          C1       0.93      1.00      0.96        52\n",
            "          C2       0.00      0.00      0.00         2\n",
            "          C3       1.00      1.00      1.00         2\n",
            "          C4       1.00      1.00      1.00         1\n",
            "          C5       1.00      0.33      0.50         3\n",
            "          C6       1.00      1.00      1.00         7\n",
            "     Pyyrite       1.00      1.00      1.00         1\n",
            "\n",
            "    accuracy                           0.94        68\n",
            "   macro avg       0.85      0.76      0.78        68\n",
            "weighted avg       0.92      0.94      0.92        68\n",
            "\n"
          ],
          "name": "stdout"
        },
        {
          "output_type": "stream",
          "text": [
            "/usr/local/lib/python3.7/dist-packages/sklearn/neural_network/_multilayer_perceptron.py:571: ConvergenceWarning: Stochastic Optimizer: Maximum iterations (500) reached and the optimization hasn't converged yet.\n",
            "  % self.max_iter, ConvergenceWarning)\n",
            "/usr/local/lib/python3.7/dist-packages/sklearn/metrics/_classification.py:1272: UndefinedMetricWarning: Precision and F-score are ill-defined and being set to 0.0 in labels with no predicted samples. Use `zero_division` parameter to control this behavior.\n",
            "  _warn_prf(average, modifier, msg_start, len(result))\n",
            "/usr/local/lib/python3.7/dist-packages/sklearn/metrics/_classification.py:1272: UndefinedMetricWarning: Recall and F-score are ill-defined and being set to 0.0 in labels with no true samples. Use `zero_division` parameter to control this behavior.\n",
            "  _warn_prf(average, modifier, msg_start, len(result))\n"
          ],
          "name": "stderr"
        }
      ]
    },
    {
      "cell_type": "markdown",
      "metadata": {
        "id": "KA1bbI2c1Rd8"
      },
      "source": [
        "###### For normalized PED"
      ]
    },
    {
      "cell_type": "code",
      "metadata": {
        "colab": {
          "base_uri": "https://localhost:8080/"
        },
        "id": "oGDj1oS01Rd8",
        "outputId": "737460ed-fe2d-47b5-cfca-bf4199b0a72c"
      },
      "source": [
        "neural(MLPClassifier(hidden_layer_sizes=(8,8,8), activation='relu', solver='adam', max_iter=500), X_train_npe,y_train_npe, X_test_npe, y_test_npe, \"Test accuracy for PED using topology 2:\", \"Training accuracy for PED using topology 2:\")"
      ],
      "execution_count": null,
      "outputs": [
        {
          "output_type": "stream",
          "text": [
            "Test accuracy for PED using topology 2:\n",
            "[[25  0  0  0  0]\n",
            " [ 1  0  0  0  0]\n",
            " [ 0  0  0  0  0]\n",
            " [ 1  0  1  0  0]\n",
            " [ 0  0  1  0  1]]\n",
            "              precision    recall  f1-score   support\n",
            "\n",
            "          C1       0.93      1.00      0.96        25\n",
            "          C2       0.00      0.00      0.00         1\n",
            "          C3       0.00      0.00      0.00         0\n",
            "          C4       0.00      0.00      0.00         2\n",
            "          C6       1.00      0.50      0.67         2\n",
            "\n",
            "    accuracy                           0.87        30\n",
            "   macro avg       0.39      0.30      0.33        30\n",
            "weighted avg       0.84      0.87      0.85        30\n",
            "\n",
            "Training accuracy for PED using topology 2:\n",
            "[[52  0  0  0  0  0  0]\n",
            " [ 2  0  0  0  0  0  0]\n",
            " [ 0  0  2  0  0  0  0]\n",
            " [ 0  0  0  1  0  0  0]\n",
            " [ 2  0  0  0  1  0  0]\n",
            " [ 1  0  0  0  0  6  0]\n",
            " [ 0  0  0  0  0  1  0]]\n",
            "              precision    recall  f1-score   support\n",
            "\n",
            "          C1       0.91      1.00      0.95        52\n",
            "          C2       0.00      0.00      0.00         2\n",
            "          C3       1.00      1.00      1.00         2\n",
            "          C4       1.00      1.00      1.00         1\n",
            "          C5       1.00      0.33      0.50         3\n",
            "          C6       0.86      0.86      0.86         7\n",
            "     Pyyrite       0.00      0.00      0.00         1\n",
            "\n",
            "    accuracy                           0.91        68\n",
            "   macro avg       0.68      0.60      0.62        68\n",
            "weighted avg       0.87      0.91      0.88        68\n",
            "\n"
          ],
          "name": "stdout"
        },
        {
          "output_type": "stream",
          "text": [
            "/usr/local/lib/python3.7/dist-packages/sklearn/neural_network/_multilayer_perceptron.py:571: ConvergenceWarning: Stochastic Optimizer: Maximum iterations (500) reached and the optimization hasn't converged yet.\n",
            "  % self.max_iter, ConvergenceWarning)\n",
            "/usr/local/lib/python3.7/dist-packages/sklearn/metrics/_classification.py:1272: UndefinedMetricWarning: Precision and F-score are ill-defined and being set to 0.0 in labels with no predicted samples. Use `zero_division` parameter to control this behavior.\n",
            "  _warn_prf(average, modifier, msg_start, len(result))\n",
            "/usr/local/lib/python3.7/dist-packages/sklearn/metrics/_classification.py:1272: UndefinedMetricWarning: Recall and F-score are ill-defined and being set to 0.0 in labels with no true samples. Use `zero_division` parameter to control this behavior.\n",
            "  _warn_prf(average, modifier, msg_start, len(result))\n"
          ],
          "name": "stderr"
        }
      ]
    },
    {
      "cell_type": "markdown",
      "metadata": {
        "id": "brW7Sh2KaAbL"
      },
      "source": [
        "### Experiment 2: contrast classification\n",
        "\n",
        "Use the **PD** and **PED** data to perform the **contrast classification** for the class **C1**\n",
        "i.e. to build a Decision Tree classifier, and Neural Network Classifiers contrasting the class **C1** with\n",
        "a class **notC1** that contains other classes."
      ]
    },
    {
      "cell_type": "markdown",
      "metadata": {
        "id": "ScP9Bb9s48E9"
      },
      "source": [
        "#### Decision Tree classifier"
      ]
    },
    {
      "cell_type": "code",
      "metadata": {
        "id": "ciljdVwBZ6_r"
      },
      "source": [
        "pd_ct = p_data.copy()\n",
        "ped_ct = e_data.copy()\n",
        "\n",
        "pd_ct.loc[(pd_ct['Type de roche.1'] != 'C1'),'Type de roche.1']='notC1'\n",
        "ped_ct.loc[(ped_ct['Type de roche.1'] != 'C1'),'Type de roche.1']='notC1'\n",
        "\n",
        "X_pd = pd_ct.drop(['Type de roche.1'], axis=1)\n",
        "y_pd = pd_ct['Type de roche.1']\n",
        "X_ped = ped_ct.drop(['Type de roche.1'], axis=1)\n",
        "y_ped = ped_ct['Type de roche.1']\n",
        "\n",
        "X_train_pd, X_test_pd, y_train_pd, y_test_pd = train_test_split(X_pd, y_pd, test_size = 0.33, random_state = 19)\n",
        "X_train_ped, X_test_ped, y_train_ped, y_test_ped = train_test_split(X_ped, y_ped, test_size = 0.33, random_state = 5)"
      ],
      "execution_count": null,
      "outputs": []
    },
    {
      "cell_type": "markdown",
      "metadata": {
        "id": "xNUhW8tn5E5L"
      },
      "source": [
        "##### For PD"
      ]
    },
    {
      "cell_type": "code",
      "metadata": {
        "colab": {
          "base_uri": "https://localhost:8080/",
          "height": 457
        },
        "id": "-ZQTAwImJig5",
        "outputId": "c383b48e-3ee6-405c-b259-a22ea0246dac"
      },
      "source": [
        "classes = ['C1','notC1']\n",
        "clf = decision_cls(X_train_pd, y_train_pd, X_test_pd, y_test_pd, classes)\n",
        "gv = graphviz.Source(export_graphviz(clf, out_file=None, \n",
        "                           feature_names = X_train_pd.columns,\n",
        "                           class_names = classes,\n",
        "                         filled=True, rounded=True,  \n",
        "                         special_characters=True)  ) \n",
        "gv.render(filename = \"/content/drive/My Drive/CSE521/contrast_cls_tree_pd\")\n",
        "gv"
      ],
      "execution_count": null,
      "outputs": [
        {
          "output_type": "stream",
          "text": [
            "Accuracy: 0.9393939393939394\n"
          ],
          "name": "stdout"
        },
        {
          "output_type": "execute_result",
          "data": {
            "text/plain": [
              "<graphviz.files.Source at 0x7ff5be08b310>"
            ],
            "image/svg+xml": "<?xml version=\"1.0\" encoding=\"UTF-8\" standalone=\"no\"?>\n<!DOCTYPE svg PUBLIC \"-//W3C//DTD SVG 1.1//EN\"\n \"http://www.w3.org/Graphics/SVG/1.1/DTD/svg11.dtd\">\n<!-- Generated by graphviz version 2.40.1 (20161225.0304)\n -->\n<!-- Title: Tree Pages: 1 -->\n<svg width=\"485pt\" height=\"314pt\"\n viewBox=\"0.00 0.00 485.00 314.00\" xmlns=\"http://www.w3.org/2000/svg\" xmlns:xlink=\"http://www.w3.org/1999/xlink\">\n<g id=\"graph0\" class=\"graph\" transform=\"scale(1 1) rotate(0) translate(4 310)\">\n<title>Tree</title>\n<polygon fill=\"#ffffff\" stroke=\"transparent\" points=\"-4,4 -4,-310 481,-310 481,4 -4,4\"/>\n<!-- 0 -->\n<g id=\"node1\" class=\"node\">\n<title>0</title>\n<path fill=\"#eb9e66\" stroke=\"#000000\" d=\"M285.5,-306C285.5,-306 193.5,-306 193.5,-306 187.5,-306 181.5,-300 181.5,-294 181.5,-294 181.5,-235 181.5,-235 181.5,-229 187.5,-223 193.5,-223 193.5,-223 285.5,-223 285.5,-223 291.5,-223 297.5,-229 297.5,-235 297.5,-235 297.5,-294 297.5,-294 297.5,-300 291.5,-306 285.5,-306\"/>\n<text text-anchor=\"start\" x=\"204\" y=\"-290.8\" font-family=\"Helvetica,sans-Serif\" font-size=\"14.00\" fill=\"#000000\">Cd ≤ 0.377</text>\n<text text-anchor=\"start\" x=\"201.5\" y=\"-275.8\" font-family=\"Helvetica,sans-Serif\" font-size=\"14.00\" fill=\"#000000\">gini = 0.301</text>\n<text text-anchor=\"start\" x=\"195.5\" y=\"-260.8\" font-family=\"Helvetica,sans-Serif\" font-size=\"14.00\" fill=\"#000000\">samples = 65</text>\n<text text-anchor=\"start\" x=\"189.5\" y=\"-245.8\" font-family=\"Helvetica,sans-Serif\" font-size=\"14.00\" fill=\"#000000\">value = [53, 12]</text>\n<text text-anchor=\"start\" x=\"205\" y=\"-230.8\" font-family=\"Helvetica,sans-Serif\" font-size=\"14.00\" fill=\"#000000\">class = C1</text>\n</g>\n<!-- 1 -->\n<g id=\"node2\" class=\"node\">\n<title>1</title>\n<path fill=\"#e6833d\" stroke=\"#000000\" d=\"M216,-187C216,-187 133,-187 133,-187 127,-187 121,-181 121,-175 121,-175 121,-116 121,-116 121,-110 127,-104 133,-104 133,-104 216,-104 216,-104 222,-104 228,-110 228,-116 228,-116 228,-175 228,-175 228,-181 222,-187 216,-187\"/>\n<text text-anchor=\"start\" x=\"138.5\" y=\"-171.8\" font-family=\"Helvetica,sans-Serif\" font-size=\"14.00\" fill=\"#000000\">Li ≤ 14.295</text>\n<text text-anchor=\"start\" x=\"136.5\" y=\"-156.8\" font-family=\"Helvetica,sans-Serif\" font-size=\"14.00\" fill=\"#000000\">gini = 0.037</text>\n<text text-anchor=\"start\" x=\"130.5\" y=\"-141.8\" font-family=\"Helvetica,sans-Serif\" font-size=\"14.00\" fill=\"#000000\">samples = 53</text>\n<text text-anchor=\"start\" x=\"129\" y=\"-126.8\" font-family=\"Helvetica,sans-Serif\" font-size=\"14.00\" fill=\"#000000\">value = [52, 1]</text>\n<text text-anchor=\"start\" x=\"140\" y=\"-111.8\" font-family=\"Helvetica,sans-Serif\" font-size=\"14.00\" fill=\"#000000\">class = C1</text>\n</g>\n<!-- 0&#45;&gt;1 -->\n<g id=\"edge1\" class=\"edge\">\n<title>0&#45;&gt;1</title>\n<path fill=\"none\" stroke=\"#000000\" d=\"M216.7662,-222.8796C212.0435,-214.2335 207.0176,-205.0322 202.141,-196.1042\"/>\n<polygon fill=\"#000000\" stroke=\"#000000\" points=\"205.1963,-194.3964 197.3309,-187.2981 199.053,-197.752 205.1963,-194.3964\"/>\n<text text-anchor=\"middle\" x=\"190.2908\" y=\"-207.5864\" font-family=\"Helvetica,sans-Serif\" font-size=\"14.00\" fill=\"#000000\">True</text>\n</g>\n<!-- 4 -->\n<g id=\"node5\" class=\"node\">\n<title>4</title>\n<path fill=\"#4ba6e7\" stroke=\"#000000\" d=\"M353,-187C353,-187 258,-187 258,-187 252,-187 246,-181 246,-175 246,-175 246,-116 246,-116 246,-110 252,-104 258,-104 258,-104 353,-104 353,-104 359,-104 365,-110 365,-116 365,-116 365,-175 365,-175 365,-181 359,-187 353,-187\"/>\n<text text-anchor=\"start\" x=\"254\" y=\"-171.8\" font-family=\"Helvetica,sans-Serif\" font-size=\"14.00\" fill=\"#000000\">Fe2O3* ≤ 0.291</text>\n<text text-anchor=\"start\" x=\"267.5\" y=\"-156.8\" font-family=\"Helvetica,sans-Serif\" font-size=\"14.00\" fill=\"#000000\">gini = 0.153</text>\n<text text-anchor=\"start\" x=\"261.5\" y=\"-141.8\" font-family=\"Helvetica,sans-Serif\" font-size=\"14.00\" fill=\"#000000\">samples = 12</text>\n<text text-anchor=\"start\" x=\"260\" y=\"-126.8\" font-family=\"Helvetica,sans-Serif\" font-size=\"14.00\" fill=\"#000000\">value = [1, 11]</text>\n<text text-anchor=\"start\" x=\"261\" y=\"-111.8\" font-family=\"Helvetica,sans-Serif\" font-size=\"14.00\" fill=\"#000000\">class = notC1</text>\n</g>\n<!-- 0&#45;&gt;4 -->\n<g id=\"edge4\" class=\"edge\">\n<title>0&#45;&gt;4</title>\n<path fill=\"none\" stroke=\"#000000\" d=\"M262.5836,-222.8796C267.3789,-214.2335 272.4822,-205.0322 277.4338,-196.1042\"/>\n<polygon fill=\"#000000\" stroke=\"#000000\" points=\"280.5284,-197.7407 282.3179,-187.2981 274.4069,-194.3455 280.5284,-197.7407\"/>\n<text text-anchor=\"middle\" x=\"289.2031\" y=\"-207.6313\" font-family=\"Helvetica,sans-Serif\" font-size=\"14.00\" fill=\"#000000\">False</text>\n</g>\n<!-- 2 -->\n<g id=\"node3\" class=\"node\">\n<title>2</title>\n<path fill=\"#e58139\" stroke=\"#000000\" d=\"M95,-68C95,-68 12,-68 12,-68 6,-68 0,-62 0,-56 0,-56 0,-12 0,-12 0,-6 6,0 12,0 12,0 95,0 95,0 101,0 107,-6 107,-12 107,-12 107,-56 107,-56 107,-62 101,-68 95,-68\"/>\n<text text-anchor=\"start\" x=\"24\" y=\"-52.8\" font-family=\"Helvetica,sans-Serif\" font-size=\"14.00\" fill=\"#000000\">gini = 0.0</text>\n<text text-anchor=\"start\" x=\"9.5\" y=\"-37.8\" font-family=\"Helvetica,sans-Serif\" font-size=\"14.00\" fill=\"#000000\">samples = 52</text>\n<text text-anchor=\"start\" x=\"8\" y=\"-22.8\" font-family=\"Helvetica,sans-Serif\" font-size=\"14.00\" fill=\"#000000\">value = [52, 0]</text>\n<text text-anchor=\"start\" x=\"19\" y=\"-7.8\" font-family=\"Helvetica,sans-Serif\" font-size=\"14.00\" fill=\"#000000\">class = C1</text>\n</g>\n<!-- 1&#45;&gt;2 -->\n<g id=\"edge2\" class=\"edge\">\n<title>1&#45;&gt;2</title>\n<path fill=\"none\" stroke=\"#000000\" d=\"M129.4441,-103.9815C119.2709,-94.607 108.4733,-84.6572 98.3102,-75.2921\"/>\n<polygon fill=\"#000000\" stroke=\"#000000\" points=\"100.4087,-72.4663 90.683,-68.2637 95.6651,-77.6141 100.4087,-72.4663\"/>\n</g>\n<!-- 3 -->\n<g id=\"node4\" class=\"node\">\n<title>3</title>\n<path fill=\"#399de5\" stroke=\"#000000\" d=\"M218,-68C218,-68 137,-68 137,-68 131,-68 125,-62 125,-56 125,-56 125,-12 125,-12 125,-6 131,0 137,0 137,0 218,0 218,0 224,0 230,-6 230,-12 230,-12 230,-56 230,-56 230,-62 224,-68 218,-68\"/>\n<text text-anchor=\"start\" x=\"148\" y=\"-52.8\" font-family=\"Helvetica,sans-Serif\" font-size=\"14.00\" fill=\"#000000\">gini = 0.0</text>\n<text text-anchor=\"start\" x=\"138\" y=\"-37.8\" font-family=\"Helvetica,sans-Serif\" font-size=\"14.00\" fill=\"#000000\">samples = 1</text>\n<text text-anchor=\"start\" x=\"136\" y=\"-22.8\" font-family=\"Helvetica,sans-Serif\" font-size=\"14.00\" fill=\"#000000\">value = [0, 1]</text>\n<text text-anchor=\"start\" x=\"133\" y=\"-7.8\" font-family=\"Helvetica,sans-Serif\" font-size=\"14.00\" fill=\"#000000\">class = notC1</text>\n</g>\n<!-- 1&#45;&gt;3 -->\n<g id=\"edge3\" class=\"edge\">\n<title>1&#45;&gt;3</title>\n<path fill=\"none\" stroke=\"#000000\" d=\"M175.6171,-103.9815C175.8421,-95.618 176.0795,-86.7965 176.307,-78.3409\"/>\n<polygon fill=\"#000000\" stroke=\"#000000\" points=\"179.8078,-78.3542 176.5781,-68.2637 172.8103,-78.1659 179.8078,-78.3542\"/>\n</g>\n<!-- 5 -->\n<g id=\"node6\" class=\"node\">\n<title>5</title>\n<path fill=\"#e58139\" stroke=\"#000000\" d=\"M340,-68C340,-68 265,-68 265,-68 259,-68 253,-62 253,-56 253,-56 253,-12 253,-12 253,-6 259,0 265,0 265,0 340,0 340,0 346,0 352,-6 352,-12 352,-12 352,-56 352,-56 352,-62 346,-68 340,-68\"/>\n<text text-anchor=\"start\" x=\"273\" y=\"-52.8\" font-family=\"Helvetica,sans-Serif\" font-size=\"14.00\" fill=\"#000000\">gini = 0.0</text>\n<text text-anchor=\"start\" x=\"263\" y=\"-37.8\" font-family=\"Helvetica,sans-Serif\" font-size=\"14.00\" fill=\"#000000\">samples = 1</text>\n<text text-anchor=\"start\" x=\"261\" y=\"-22.8\" font-family=\"Helvetica,sans-Serif\" font-size=\"14.00\" fill=\"#000000\">value = [1, 0]</text>\n<text text-anchor=\"start\" x=\"268\" y=\"-7.8\" font-family=\"Helvetica,sans-Serif\" font-size=\"14.00\" fill=\"#000000\">class = C1</text>\n</g>\n<!-- 4&#45;&gt;5 -->\n<g id=\"edge5\" class=\"edge\">\n<title>4&#45;&gt;5</title>\n<path fill=\"none\" stroke=\"#000000\" d=\"M304.3829,-103.9815C304.1579,-95.618 303.9205,-86.7965 303.693,-78.3409\"/>\n<polygon fill=\"#000000\" stroke=\"#000000\" points=\"307.1897,-78.1659 303.4219,-68.2637 300.1922,-78.3542 307.1897,-78.1659\"/>\n</g>\n<!-- 6 -->\n<g id=\"node7\" class=\"node\">\n<title>6</title>\n<path fill=\"#399de5\" stroke=\"#000000\" d=\"M465,-68C465,-68 382,-68 382,-68 376,-68 370,-62 370,-56 370,-56 370,-12 370,-12 370,-6 376,0 382,0 382,0 465,0 465,0 471,0 477,-6 477,-12 477,-12 477,-56 477,-56 477,-62 471,-68 465,-68\"/>\n<text text-anchor=\"start\" x=\"394\" y=\"-52.8\" font-family=\"Helvetica,sans-Serif\" font-size=\"14.00\" fill=\"#000000\">gini = 0.0</text>\n<text text-anchor=\"start\" x=\"379.5\" y=\"-37.8\" font-family=\"Helvetica,sans-Serif\" font-size=\"14.00\" fill=\"#000000\">samples = 11</text>\n<text text-anchor=\"start\" x=\"378\" y=\"-22.8\" font-family=\"Helvetica,sans-Serif\" font-size=\"14.00\" fill=\"#000000\">value = [0, 11]</text>\n<text text-anchor=\"start\" x=\"379\" y=\"-7.8\" font-family=\"Helvetica,sans-Serif\" font-size=\"14.00\" fill=\"#000000\">class = notC1</text>\n</g>\n<!-- 4&#45;&gt;6 -->\n<g id=\"edge6\" class=\"edge\">\n<title>4&#45;&gt;6</title>\n<path fill=\"none\" stroke=\"#000000\" d=\"M349.4388,-103.9815C359.3598,-94.607 369.8897,-84.6572 379.8008,-75.2921\"/>\n<polygon fill=\"#000000\" stroke=\"#000000\" points=\"382.3743,-77.6757 387.2389,-68.2637 377.5666,-72.5878 382.3743,-77.6757\"/>\n</g>\n</g>\n</svg>\n"
          },
          "metadata": {
            "tags": []
          },
          "execution_count": 176
        }
      ]
    },
    {
      "cell_type": "markdown",
      "metadata": {
        "id": "uDougDxG5R1r"
      },
      "source": [
        "##### For PED"
      ]
    },
    {
      "cell_type": "code",
      "metadata": {
        "id": "9DoHAki_5UlX",
        "colab": {
          "base_uri": "https://localhost:8080/",
          "height": 457
        },
        "outputId": "a2809ba2-d031-4377-f4d5-dd2367bcc9b1"
      },
      "source": [
        "clf = decision_cls(X_train_ped, y_train_ped, X_test_ped, y_test_ped, classes)\n",
        "gv = graphviz.Source(export_graphviz(clf, out_file=None, \n",
        "                           feature_names = X_train_ped.columns,\n",
        "                           class_names = classes,\n",
        "                         filled=True, rounded=True,  \n",
        "                         special_characters=True)  ) \n",
        "gv.render(filename = \"/content/drive/My Drive/CSE521/contrast_cls_tree_ped\")\n",
        "gv"
      ],
      "execution_count": null,
      "outputs": [
        {
          "output_type": "stream",
          "text": [
            "Accuracy: 0.8787878787878788\n"
          ],
          "name": "stdout"
        },
        {
          "output_type": "execute_result",
          "data": {
            "text/plain": [
              "<graphviz.files.Source at 0x7ff5be080050>"
            ],
            "image/svg+xml": "<?xml version=\"1.0\" encoding=\"UTF-8\" standalone=\"no\"?>\n<!DOCTYPE svg PUBLIC \"-//W3C//DTD SVG 1.1//EN\"\n \"http://www.w3.org/Graphics/SVG/1.1/DTD/svg11.dtd\">\n<!-- Generated by graphviz version 2.40.1 (20161225.0304)\n -->\n<!-- Title: Tree Pages: 1 -->\n<svg width=\"301pt\" height=\"314pt\"\n viewBox=\"0.00 0.00 301.00 314.00\" xmlns=\"http://www.w3.org/2000/svg\" xmlns:xlink=\"http://www.w3.org/1999/xlink\">\n<g id=\"graph0\" class=\"graph\" transform=\"scale(1 1) rotate(0) translate(4 310)\">\n<title>Tree</title>\n<polygon fill=\"#ffffff\" stroke=\"transparent\" points=\"-4,4 -4,-310 297,-310 297,4 -4,4\"/>\n<!-- 0 -->\n<g id=\"node1\" class=\"node\">\n<title>0</title>\n<path fill=\"#eda774\" stroke=\"#000000\" d=\"M222.5,-306C222.5,-306 130.5,-306 130.5,-306 124.5,-306 118.5,-300 118.5,-294 118.5,-294 118.5,-235 118.5,-235 118.5,-229 124.5,-223 130.5,-223 130.5,-223 222.5,-223 222.5,-223 228.5,-223 234.5,-229 234.5,-235 234.5,-235 234.5,-294 234.5,-294 234.5,-300 228.5,-306 222.5,-306\"/>\n<text text-anchor=\"start\" x=\"133\" y=\"-290.8\" font-family=\"Helvetica,sans-Serif\" font-size=\"14.00\" fill=\"#000000\">S ≤ 1497.766</text>\n<text text-anchor=\"start\" x=\"138.5\" y=\"-275.8\" font-family=\"Helvetica,sans-Serif\" font-size=\"14.00\" fill=\"#000000\">gini = 0.355</text>\n<text text-anchor=\"start\" x=\"132.5\" y=\"-260.8\" font-family=\"Helvetica,sans-Serif\" font-size=\"14.00\" fill=\"#000000\">samples = 65</text>\n<text text-anchor=\"start\" x=\"126.5\" y=\"-245.8\" font-family=\"Helvetica,sans-Serif\" font-size=\"14.00\" fill=\"#000000\">value = [50, 15]</text>\n<text text-anchor=\"start\" x=\"142\" y=\"-230.8\" font-family=\"Helvetica,sans-Serif\" font-size=\"14.00\" fill=\"#000000\">class = C1</text>\n</g>\n<!-- 1 -->\n<g id=\"node2\" class=\"node\">\n<title>1</title>\n<path fill=\"#e6843d\" stroke=\"#000000\" d=\"M156,-187C156,-187 73,-187 73,-187 67,-187 61,-181 61,-175 61,-175 61,-116 61,-116 61,-110 67,-104 73,-104 73,-104 156,-104 156,-104 162,-104 168,-110 168,-116 168,-116 168,-175 168,-175 168,-181 162,-187 156,-187\"/>\n<text text-anchor=\"start\" x=\"77.5\" y=\"-171.8\" font-family=\"Helvetica,sans-Serif\" font-size=\"14.00\" fill=\"#000000\">CaO ≤ 8.54</text>\n<text text-anchor=\"start\" x=\"76.5\" y=\"-156.8\" font-family=\"Helvetica,sans-Serif\" font-size=\"14.00\" fill=\"#000000\">gini = 0.038</text>\n<text text-anchor=\"start\" x=\"70.5\" y=\"-141.8\" font-family=\"Helvetica,sans-Serif\" font-size=\"14.00\" fill=\"#000000\">samples = 51</text>\n<text text-anchor=\"start\" x=\"69\" y=\"-126.8\" font-family=\"Helvetica,sans-Serif\" font-size=\"14.00\" fill=\"#000000\">value = [50, 1]</text>\n<text text-anchor=\"start\" x=\"80\" y=\"-111.8\" font-family=\"Helvetica,sans-Serif\" font-size=\"14.00\" fill=\"#000000\">class = C1</text>\n</g>\n<!-- 0&#45;&gt;1 -->\n<g id=\"edge1\" class=\"edge\">\n<title>0&#45;&gt;1</title>\n<path fill=\"none\" stroke=\"#000000\" d=\"M154.8154,-222.8796C150.3577,-214.3236 145.6166,-205.2238 141.0106,-196.3833\"/>\n<polygon fill=\"#000000\" stroke=\"#000000\" points=\"144.0017,-194.5494 136.2771,-187.2981 137.7938,-197.7838 144.0017,-194.5494\"/>\n<text text-anchor=\"middle\" x=\"128.7678\" y=\"-207.4436\" font-family=\"Helvetica,sans-Serif\" font-size=\"14.00\" fill=\"#000000\">True</text>\n</g>\n<!-- 4 -->\n<g id=\"node5\" class=\"node\">\n<title>4</title>\n<path fill=\"#399de5\" stroke=\"#000000\" d=\"M281,-179.5C281,-179.5 198,-179.5 198,-179.5 192,-179.5 186,-173.5 186,-167.5 186,-167.5 186,-123.5 186,-123.5 186,-117.5 192,-111.5 198,-111.5 198,-111.5 281,-111.5 281,-111.5 287,-111.5 293,-117.5 293,-123.5 293,-123.5 293,-167.5 293,-167.5 293,-173.5 287,-179.5 281,-179.5\"/>\n<text text-anchor=\"start\" x=\"210\" y=\"-164.3\" font-family=\"Helvetica,sans-Serif\" font-size=\"14.00\" fill=\"#000000\">gini = 0.0</text>\n<text text-anchor=\"start\" x=\"195.5\" y=\"-149.3\" font-family=\"Helvetica,sans-Serif\" font-size=\"14.00\" fill=\"#000000\">samples = 14</text>\n<text text-anchor=\"start\" x=\"194\" y=\"-134.3\" font-family=\"Helvetica,sans-Serif\" font-size=\"14.00\" fill=\"#000000\">value = [0, 14]</text>\n<text text-anchor=\"start\" x=\"195\" y=\"-119.3\" font-family=\"Helvetica,sans-Serif\" font-size=\"14.00\" fill=\"#000000\">class = notC1</text>\n</g>\n<!-- 0&#45;&gt;4 -->\n<g id=\"edge4\" class=\"edge\">\n<title>0&#45;&gt;4</title>\n<path fill=\"none\" stroke=\"#000000\" d=\"M198.5343,-222.8796C204.3558,-211.8835 210.6527,-199.9893 216.5227,-188.9015\"/>\n<polygon fill=\"#000000\" stroke=\"#000000\" points=\"219.7476,-190.2905 221.3333,-179.8149 213.5611,-187.0152 219.7476,-190.2905\"/>\n<text text-anchor=\"middle\" x=\"228.6854\" y=\"-200.0094\" font-family=\"Helvetica,sans-Serif\" font-size=\"14.00\" fill=\"#000000\">False</text>\n</g>\n<!-- 2 -->\n<g id=\"node3\" class=\"node\">\n<title>2</title>\n<path fill=\"#399de5\" stroke=\"#000000\" d=\"M93,-68C93,-68 12,-68 12,-68 6,-68 0,-62 0,-56 0,-56 0,-12 0,-12 0,-6 6,0 12,0 12,0 93,0 93,0 99,0 105,-6 105,-12 105,-12 105,-56 105,-56 105,-62 99,-68 93,-68\"/>\n<text text-anchor=\"start\" x=\"23\" y=\"-52.8\" font-family=\"Helvetica,sans-Serif\" font-size=\"14.00\" fill=\"#000000\">gini = 0.0</text>\n<text text-anchor=\"start\" x=\"13\" y=\"-37.8\" font-family=\"Helvetica,sans-Serif\" font-size=\"14.00\" fill=\"#000000\">samples = 1</text>\n<text text-anchor=\"start\" x=\"11\" y=\"-22.8\" font-family=\"Helvetica,sans-Serif\" font-size=\"14.00\" fill=\"#000000\">value = [0, 1]</text>\n<text text-anchor=\"start\" x=\"8\" y=\"-7.8\" font-family=\"Helvetica,sans-Serif\" font-size=\"14.00\" fill=\"#000000\">class = notC1</text>\n</g>\n<!-- 1&#45;&gt;2 -->\n<g id=\"edge2\" class=\"edge\">\n<title>1&#45;&gt;2</title>\n<path fill=\"none\" stroke=\"#000000\" d=\"M91.4135,-103.9815C86.5585,-95.2504 81.426,-86.0202 76.5371,-77.2281\"/>\n<polygon fill=\"#000000\" stroke=\"#000000\" points=\"79.4712,-75.3025 71.5524,-68.2637 73.3533,-78.7043 79.4712,-75.3025\"/>\n</g>\n<!-- 3 -->\n<g id=\"node4\" class=\"node\">\n<title>3</title>\n<path fill=\"#e58139\" stroke=\"#000000\" d=\"M218,-68C218,-68 135,-68 135,-68 129,-68 123,-62 123,-56 123,-56 123,-12 123,-12 123,-6 129,0 135,0 135,0 218,0 218,0 224,0 230,-6 230,-12 230,-12 230,-56 230,-56 230,-62 224,-68 218,-68\"/>\n<text text-anchor=\"start\" x=\"147\" y=\"-52.8\" font-family=\"Helvetica,sans-Serif\" font-size=\"14.00\" fill=\"#000000\">gini = 0.0</text>\n<text text-anchor=\"start\" x=\"132.5\" y=\"-37.8\" font-family=\"Helvetica,sans-Serif\" font-size=\"14.00\" fill=\"#000000\">samples = 50</text>\n<text text-anchor=\"start\" x=\"131\" y=\"-22.8\" font-family=\"Helvetica,sans-Serif\" font-size=\"14.00\" fill=\"#000000\">value = [50, 0]</text>\n<text text-anchor=\"start\" x=\"142\" y=\"-7.8\" font-family=\"Helvetica,sans-Serif\" font-size=\"14.00\" fill=\"#000000\">class = C1</text>\n</g>\n<!-- 1&#45;&gt;3 -->\n<g id=\"edge3\" class=\"edge\">\n<title>1&#45;&gt;3</title>\n<path fill=\"none\" stroke=\"#000000\" d=\"M137.5865,-103.9815C142.4415,-95.2504 147.574,-86.0202 152.4629,-77.2281\"/>\n<polygon fill=\"#000000\" stroke=\"#000000\" points=\"155.6467,-78.7043 157.4476,-68.2637 149.5288,-75.3025 155.6467,-78.7043\"/>\n</g>\n</g>\n</svg>\n"
          },
          "metadata": {
            "tags": []
          },
          "execution_count": 177
        }
      ]
    },
    {
      "cell_type": "markdown",
      "metadata": {
        "id": "Sx9RKTp7O4WS"
      },
      "source": [
        "#### Neural Network"
      ]
    },
    {
      "cell_type": "code",
      "metadata": {
        "id": "Ta4HW4yUO7Lv"
      },
      "source": [
        "pd_ct = pd2.copy()\n",
        "ped_ct = ped2.copy()\n",
        "\n",
        "pd_ct.loc[(pd_ct['Type de roche.1'] != 'C1'),'Type de roche.1']='notC1'\n",
        "ped_ct.loc[(ped_ct['Type de roche.1'] != 'C1'),'Type de roche.1']='notC1'\n",
        "\n",
        "X_np = pd_ct.drop(['Type de roche.1'], axis=1)\n",
        "y_np = pd_ct['Type de roche.1']\n",
        "X_npe = ped_ct.drop(['Type de roche.1'], axis=1)\n",
        "y_npe = ped_ct['Type de roche.1']\n",
        "\n",
        "X_train_np, X_test_np, y_train_np, y_test_np = train_test_split(X_np, y_np, test_size = 0.3, random_state = 21)\n",
        "X_train_npe, X_test_npe, y_train_npe, y_test_npe = train_test_split(X_npe, y_npe, test_size = 0.3, random_state = 21)"
      ],
      "execution_count": null,
      "outputs": []
    },
    {
      "cell_type": "markdown",
      "metadata": {
        "id": "p42tDALRPVlS"
      },
      "source": [
        "##### For PD"
      ]
    },
    {
      "cell_type": "code",
      "metadata": {
        "colab": {
          "base_uri": "https://localhost:8080/"
        },
        "id": "QhPe-REkPTPh",
        "outputId": "bb4cbacb-3b53-473f-be84-c4f6d90402f5"
      },
      "source": [
        "neural(MLPClassifier(), X_train_np,y_train_np, X_test_np, y_test_np, \"Test accuracy for PD using topology 1:\", \"Training accuracy for PD using topology 1:\")"
      ],
      "execution_count": null,
      "outputs": [
        {
          "output_type": "stream",
          "text": [
            "Test accuracy for PD using topology 1:\n",
            "[[25  0]\n",
            " [ 2  3]]\n",
            "              precision    recall  f1-score   support\n",
            "\n",
            "          C1       0.93      1.00      0.96        25\n",
            "       notC1       1.00      0.60      0.75         5\n",
            "\n",
            "    accuracy                           0.93        30\n",
            "   macro avg       0.96      0.80      0.86        30\n",
            "weighted avg       0.94      0.93      0.93        30\n",
            "\n",
            "Training accuracy for PD using topology 1:\n",
            "[[52  0]\n",
            " [ 3 13]]\n",
            "              precision    recall  f1-score   support\n",
            "\n",
            "          C1       0.95      1.00      0.97        52\n",
            "       notC1       1.00      0.81      0.90        16\n",
            "\n",
            "    accuracy                           0.96        68\n",
            "   macro avg       0.97      0.91      0.93        68\n",
            "weighted avg       0.96      0.96      0.95        68\n",
            "\n"
          ],
          "name": "stdout"
        },
        {
          "output_type": "stream",
          "text": [
            "/usr/local/lib/python3.7/dist-packages/sklearn/neural_network/_multilayer_perceptron.py:571: ConvergenceWarning: Stochastic Optimizer: Maximum iterations (200) reached and the optimization hasn't converged yet.\n",
            "  % self.max_iter, ConvergenceWarning)\n"
          ],
          "name": "stderr"
        }
      ]
    },
    {
      "cell_type": "markdown",
      "metadata": {
        "id": "Ffqy4Sa4PXq4"
      },
      "source": [
        "##### For PED"
      ]
    },
    {
      "cell_type": "code",
      "metadata": {
        "colab": {
          "base_uri": "https://localhost:8080/"
        },
        "id": "mf8ik1zgPaKS",
        "outputId": "aa002ac5-43d8-4904-e804-d665f4805684"
      },
      "source": [
        "neural(MLPClassifier(), X_train_npe,y_train_npe, X_test_npe, y_test_npe, \"Test accuracy for PED using topology 1:\", \"Training accuracy for PED using topology 1:\")"
      ],
      "execution_count": null,
      "outputs": [
        {
          "output_type": "stream",
          "text": [
            "Test accuracy for PED using topology 1:\n",
            "[[25  0]\n",
            " [ 2  3]]\n",
            "              precision    recall  f1-score   support\n",
            "\n",
            "          C1       0.93      1.00      0.96        25\n",
            "       notC1       1.00      0.60      0.75         5\n",
            "\n",
            "    accuracy                           0.93        30\n",
            "   macro avg       0.96      0.80      0.86        30\n",
            "weighted avg       0.94      0.93      0.93        30\n",
            "\n",
            "Training accuracy for PED using topology 1:\n",
            "[[52  0]\n",
            " [ 8  8]]\n",
            "              precision    recall  f1-score   support\n",
            "\n",
            "          C1       0.87      1.00      0.93        52\n",
            "       notC1       1.00      0.50      0.67        16\n",
            "\n",
            "    accuracy                           0.88        68\n",
            "   macro avg       0.93      0.75      0.80        68\n",
            "weighted avg       0.90      0.88      0.87        68\n",
            "\n"
          ],
          "name": "stdout"
        },
        {
          "output_type": "stream",
          "text": [
            "/usr/local/lib/python3.7/dist-packages/sklearn/neural_network/_multilayer_perceptron.py:571: ConvergenceWarning: Stochastic Optimizer: Maximum iterations (200) reached and the optimization hasn't converged yet.\n",
            "  % self.max_iter, ConvergenceWarning)\n"
          ],
          "name": "stderr"
        }
      ]
    },
    {
      "cell_type": "markdown",
      "metadata": {
        "id": "YRCL7_lecAYJ"
      },
      "source": [
        "# Conclusion"
      ]
    },
    {
      "cell_type": "markdown",
      "metadata": {
        "id": "FAzXDRv1cRdh"
      },
      "source": [
        "1. (5pts)\n",
        "For each TOOL and each set of DATA and each EXPERIMENT describe shortly the resulting Classifier\n",
        "and the **parameters** (testing method, network topology, number of epochs to converge... type of\n",
        "Decision Tree, **write set of discriminant rules**. etc..) used to build it.\n",
        "\n",
        "2. (5pts)\n",
        "Compare the resulting **Descriptive Classifiers** with each other **testing methods**, **Rules Accuracy**\n",
        "and **Predictive Accuracy**\n",
        "\n",
        "3. (5pts)\n",
        "Compare the resulting **Non Descriptive Classifiers** with each other on **topology** used **testing** and **predictive accuracy**\n",
        "\n",
        "4. (5pts)\n",
        "Compare each **Descriptive Classifier** with the resulting **Non-Descriptive Classifier** on **Predictive Accuracy** only.\n",
        "\n",
        "5. (5pts)\n",
        "Describe shortly the TOOLS you use.\n",
        "Describe their similarity and differences for the tasks you used them for.\n",
        "Describe your experience with the TOOLS and your preferences for one or the other regarding different\n",
        "tasks."
      ]
    }
  ]
}